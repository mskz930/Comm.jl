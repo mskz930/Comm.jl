{
 "cells": [
  {
   "cell_type": "code",
   "execution_count": 1,
   "metadata": {},
   "outputs": [],
   "source": [
    "# DigiMod"
   ]
  },
  {
   "cell_type": "code",
   "execution_count": 8,
   "metadata": {},
   "outputs": [],
   "source": [
    "using Commun.DigiMod\n",
    "using Random: bitrand"
   ]
  },
  {
   "cell_type": "code",
   "execution_count": 9,
   "metadata": {},
   "outputs": [],
   "source": [
    "qam = Qam(2); # BPSK object"
   ]
  },
  {
   "cell_type": "code",
   "execution_count": 10,
   "metadata": {},
   "outputs": [],
   "source": [
    "randbits = bitrand(1000);"
   ]
  },
  {
   "cell_type": "code",
   "execution_count": 11,
   "metadata": {},
   "outputs": [
    {
     "data": {
      "text/plain": [
       "1×1000 LinearAlgebra.Adjoint{Complex{Float64},Array{Complex{Float64},1}}:\n",
       " 1.0-0.0im  1.0-0.0im  1.0-0.0im  …  1.0-0.0im  1.0-0.0im  -1.0-0.0im"
      ]
     },
     "execution_count": 11,
     "metadata": {},
     "output_type": "execute_result"
    }
   ],
   "source": [
    "mod_data = mod(Qam(2), randbits)\n",
    "mod_data'"
   ]
  },
  {
   "cell_type": "code",
   "execution_count": 12,
   "metadata": {},
   "outputs": [
    {
     "data": {
      "text/plain": [
       "500-element Array{Complex{Float64},1}:\n",
       " -0.7071067811865475 + 0.7071067811865475im\n",
       "  0.7071067811865475 + 0.7071067811865475im\n",
       "  0.7071067811865475 + 0.7071067811865475im\n",
       " -0.7071067811865475 + 0.7071067811865475im\n",
       "  0.7071067811865475 + 0.7071067811865475im\n",
       " -0.7071067811865475 + 0.7071067811865475im\n",
       " -0.7071067811865475 + 0.7071067811865475im\n",
       " -0.7071067811865475 - 0.7071067811865475im\n",
       " -0.7071067811865475 + 0.7071067811865475im\n",
       " -0.7071067811865475 + 0.7071067811865475im\n",
       " -0.7071067811865475 + 0.7071067811865475im\n",
       "  0.7071067811865475 + 0.7071067811865475im\n",
       "  0.7071067811865475 + 0.7071067811865475im\n",
       "                     ⋮\n",
       "  0.7071067811865475 - 0.7071067811865475im\n",
       " -0.7071067811865475 + 0.7071067811865475im\n",
       "  0.7071067811865475 + 0.7071067811865475im\n",
       " -0.7071067811865475 - 0.7071067811865475im\n",
       " -0.7071067811865475 - 0.7071067811865475im\n",
       " -0.7071067811865475 + 0.7071067811865475im\n",
       " -0.7071067811865475 - 0.7071067811865475im\n",
       " -0.7071067811865475 - 0.7071067811865475im\n",
       "  0.7071067811865475 - 0.7071067811865475im\n",
       " -0.7071067811865475 + 0.7071067811865475im\n",
       "  0.7071067811865475 - 0.7071067811865475im\n",
       "  0.7071067811865475 + 0.7071067811865475im"
      ]
     },
     "execution_count": 12,
     "metadata": {},
     "output_type": "execute_result"
    }
   ],
   "source": [
    "mod_data = mod(Qam(4), randbits)"
   ]
  },
  {
   "cell_type": "markdown",
   "metadata": {},
   "source": [
    "PSK変調"
   ]
  },
  {
   "cell_type": "code",
   "execution_count": 13,
   "metadata": {},
   "outputs": [
    {
     "data": {
      "text/plain": [
       "Psk(4, false, true, Complex{Float64}[0.7071067811865476 + 0.7071067811865475im, -0.7071067811865475 + 0.7071067811865476im, 0.7071067811865474 - 0.7071067811865477im, -0.7071067811865477 - 0.7071067811865475im], 0.0)"
      ]
     },
     "execution_count": 13,
     "metadata": {},
     "output_type": "execute_result"
    }
   ],
   "source": [
    "psk = Psk(4)"
   ]
  },
  {
   "cell_type": "code",
   "execution_count": 14,
   "metadata": {},
   "outputs": [
    {
     "ename": "UndefVarError",
     "evalue": "UndefVarError: qam not defined",
     "output_type": "error",
     "traceback": [
      "UndefVarError: qam not defined",
      "",
      "Stacktrace:",
      " [1] mod(::Psk, ::BitArray{1}) at /Users/kizawamasakazu/Google/program/julia/MyPackages/Commun/src/DigiMod/DigiMod.jl:77",
      " [2] top-level scope at In[14]:1"
     ]
    }
   ],
   "source": [
    "mod(Psk(4), randbits)"
   ]
  },
  {
   "cell_type": "code",
   "execution_count": null,
   "metadata": {},
   "outputs": [],
   "source": []
  }
 ],
 "metadata": {
  "kernelspec": {
   "display_name": "Julia 1.4.2",
   "language": "julia",
   "name": "julia-1.4"
  },
  "language_info": {
   "file_extension": ".jl",
   "mimetype": "application/julia",
   "name": "julia",
   "version": "1.4.2"
  }
 },
 "nbformat": 4,
 "nbformat_minor": 4
}
