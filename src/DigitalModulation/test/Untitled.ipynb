{
 "cells": [
  {
   "cell_type": "code",
   "execution_count": 8,
   "metadata": {},
   "outputs": [],
   "source": [
    "# DigiMod"
   ]
  },
  {
   "cell_type": "code",
   "execution_count": 1,
   "metadata": {},
   "outputs": [
    {
     "name": "stderr",
     "output_type": "stream",
     "text": [
      "┌ Info: Precompiling Commun [dd7d10dc-8a21-425e-b127-f2af4b1d8cc1]\n",
      "└ @ Base loading.jl:1260\n",
      "ERROR: LoadError: LoadError: LoadError: UndefVarError: OfdmMod not defined\n",
      "Stacktrace:\n",
      " [1] top-level scope at /Users/kizawamasakazu/Google/program/julia/MyPackages/Commun/src/OFDM/ofdmmod.jl:10\n",
      " [2] include(::Module, ::String) at /Applications/Julia-1.4.app/Contents/Resources/julia/lib/julia/sys.dylib:?\n",
      " [3] include(::String) at /Users/kizawamasakazu/Google/program/julia/MyPackages/Commun/src/OFDM/OFDM.jl:2\n",
      " [4] top-level scope at /Users/kizawamasakazu/Google/program/julia/MyPackages/Commun/src/OFDM/OFDM.jl:26\n",
      " [5] include(::Module, ::String) at /Applications/Julia-1.4.app/Contents/Resources/julia/lib/julia/sys.dylib:?\n",
      " [6] include(::String) at /Users/kizawamasakazu/Google/program/julia/MyPackages/Commun/src/Commun.jl:1\n",
      " [7] top-level scope at /Users/kizawamasakazu/Google/program/julia/MyPackages/Commun/src/Commun.jl:12\n",
      " [8] include(::Module, ::String) at /Applications/Julia-1.4.app/Contents/Resources/julia/lib/julia/sys.dylib:?\n",
      " [9] top-level scope at none:2\n",
      " [10] eval at ./boot.jl:331 [inlined]\n",
      " [11] eval(::Expr) at ./client.jl:449\n",
      " [12] top-level scope at ./none:3\n",
      "in expression starting at /Users/kizawamasakazu/Google/program/julia/MyPackages/Commun/src/OFDM/ofdmmod.jl:10\n",
      "in expression starting at /Users/kizawamasakazu/Google/program/julia/MyPackages/Commun/src/OFDM/OFDM.jl:26\n",
      "in expression starting at /Users/kizawamasakazu/Google/program/julia/MyPackages/Commun/src/Commun.jl:12\n"
     ]
    },
    {
     "ename": "ErrorException",
     "evalue": "Failed to precompile Commun [dd7d10dc-8a21-425e-b127-f2af4b1d8cc1] to /Users/kizawamasakazu/.julia/compiled/v1.4/Commun/X0UF0_gkiVZ.ji.",
     "output_type": "error",
     "traceback": [
      "Failed to precompile Commun [dd7d10dc-8a21-425e-b127-f2af4b1d8cc1] to /Users/kizawamasakazu/.julia/compiled/v1.4/Commun/X0UF0_gkiVZ.ji.",
      "",
      "Stacktrace:",
      " [1] error(::String) at /Applications/Julia-1.4.app/Contents/Resources/julia/lib/julia/sys.dylib:?",
      " [2] compilecache(::Base.PkgId, ::String) at ./loading.jl:1272",
      " [3] _require(::Base.PkgId) at ./loading.jl:1029",
      " [4] require(::Base.PkgId) at ./loading.jl:927",
      " [5] require(::Module, ::Symbol) at ./loading.jl:922",
      " [6] top-level scope at In[1]:1"
     ]
    }
   ],
   "source": [
    "using Commun.DigiMod\n",
    "using Random: bitrand"
   ]
  },
  {
   "cell_type": "code",
   "execution_count": 10,
   "metadata": {},
   "outputs": [],
   "source": [
    "qam = Qam(2); # BPSK object"
   ]
  },
  {
   "cell_type": "code",
   "execution_count": 11,
   "metadata": {},
   "outputs": [],
   "source": [
    "randbits = bitrand(1000);"
   ]
  },
  {
   "cell_type": "code",
   "execution_count": 12,
   "metadata": {},
   "outputs": [
    {
     "data": {
      "text/plain": [
       "1×1000 LinearAlgebra.Adjoint{Complex{Float64},Array{Complex{Float64},1}}:\n",
       " 1.0-0.0im  -1.0-0.0im  1.0-0.0im  …  1.0-0.0im  -1.0-0.0im  -1.0-0.0im"
      ]
     },
     "execution_count": 12,
     "metadata": {},
     "output_type": "execute_result"
    }
   ],
   "source": [
    "mod_data = mod(Qam(2), randbits)\n",
    "mod_data'"
   ]
  },
  {
   "cell_type": "code",
   "execution_count": 13,
   "metadata": {},
   "outputs": [
    {
     "data": {
      "text/plain": [
       "500-element Array{Complex{Float64},1}:\n",
       "  0.7071067811865475 + 0.7071067811865475im\n",
       " -0.7071067811865475 + 0.7071067811865475im\n",
       " -0.7071067811865475 + 0.7071067811865475im\n",
       " -0.7071067811865475 + 0.7071067811865475im\n",
       "  0.7071067811865475 + 0.7071067811865475im\n",
       " -0.7071067811865475 + 0.7071067811865475im\n",
       "  0.7071067811865475 + 0.7071067811865475im\n",
       "  0.7071067811865475 - 0.7071067811865475im\n",
       "  0.7071067811865475 - 0.7071067811865475im\n",
       "  0.7071067811865475 - 0.7071067811865475im\n",
       "  0.7071067811865475 - 0.7071067811865475im\n",
       " -0.7071067811865475 - 0.7071067811865475im\n",
       "  0.7071067811865475 + 0.7071067811865475im\n",
       "                     ⋮\n",
       "  0.7071067811865475 + 0.7071067811865475im\n",
       " -0.7071067811865475 - 0.7071067811865475im\n",
       "  0.7071067811865475 + 0.7071067811865475im\n",
       " -0.7071067811865475 - 0.7071067811865475im\n",
       "  0.7071067811865475 - 0.7071067811865475im\n",
       " -0.7071067811865475 + 0.7071067811865475im\n",
       " -0.7071067811865475 - 0.7071067811865475im\n",
       "  0.7071067811865475 + 0.7071067811865475im\n",
       " -0.7071067811865475 - 0.7071067811865475im\n",
       " -0.7071067811865475 - 0.7071067811865475im\n",
       "  0.7071067811865475 - 0.7071067811865475im\n",
       " -0.7071067811865475 - 0.7071067811865475im"
      ]
     },
     "execution_count": 13,
     "metadata": {},
     "output_type": "execute_result"
    }
   ],
   "source": [
    "mod_data = mod(Qam(4), randbits)"
   ]
  },
  {
   "cell_type": "markdown",
   "metadata": {},
   "source": [
    "PSK変調"
   ]
  },
  {
   "cell_type": "code",
   "execution_count": 14,
   "metadata": {},
   "outputs": [
    {
     "data": {
      "text/plain": [
       "Psk(4, false, true, Complex{Float64}[0.7071067811865476 + 0.7071067811865475im, -0.7071067811865475 + 0.7071067811865476im, 0.7071067811865474 - 0.7071067811865477im, -0.7071067811865477 - 0.7071067811865475im], 0.0)"
      ]
     },
     "execution_count": 14,
     "metadata": {},
     "output_type": "execute_result"
    }
   ],
   "source": [
    "psk = Psk(4)"
   ]
  },
  {
   "cell_type": "code",
   "execution_count": 16,
   "metadata": {},
   "outputs": [
    {
     "ename": "ErrorException",
     "evalue": "type Psk has no field bps",
     "output_type": "error",
     "traceback": [
      "type Psk has no field bps",
      "",
      "Stacktrace:",
      " [1] getproperty(::Psk, ::Symbol) at ./Base.jl:33",
      " [2] mod(::Psk, ::BitArray{1}) at /Users/kizawamasakazu/Google/program/julia/MyPackages/Commun/src/DigiMod/DigiMod.jl:77",
      " [3] top-level scope at In[16]:1"
     ]
    }
   ],
   "source": [
    "mod(Psk(4), randbits)"
   ]
  },
  {
   "cell_type": "code",
   "execution_count": 17,
   "metadata": {},
   "outputs": [
    {
     "ename": "UndefVarError",
     "evalue": "UndefVarError: Commun not defined",
     "output_type": "error",
     "traceback": [
      "UndefVarError: Commun not defined",
      "",
      "Stacktrace:",
      " [1] top-level scope at In[17]:1"
     ]
    }
   ],
   "source": [
    "Commun.OFDM"
   ]
  },
  {
   "cell_type": "code",
   "execution_count": null,
   "metadata": {},
   "outputs": [],
   "source": []
  }
 ],
 "metadata": {
  "kernelspec": {
   "display_name": "Julia 1.4.2",
   "language": "julia",
   "name": "julia-1.4"
  },
  "language_info": {
   "file_extension": ".jl",
   "mimetype": "application/julia",
   "name": "julia",
   "version": "1.4.2"
  }
 },
 "nbformat": 4,
 "nbformat_minor": 4
}
