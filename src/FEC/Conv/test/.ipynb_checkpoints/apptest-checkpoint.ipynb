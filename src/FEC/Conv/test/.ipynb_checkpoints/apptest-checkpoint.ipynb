{
 "cells": [
  {
   "cell_type": "code",
   "execution_count": 20,
   "metadata": {},
   "outputs": [
    {
     "name": "stderr",
     "output_type": "stream",
     "text": [
      "WARNING: replacing module Conv.\n"
     ]
    },
    {
     "data": {
      "text/plain": [
       "Main.Conv"
      ]
     },
     "execution_count": 20,
     "metadata": {},
     "output_type": "execute_result"
    }
   ],
   "source": [
    "include(\"../Conv.jl\")"
   ]
  },
  {
   "cell_type": "code",
   "execution_count": 22,
   "metadata": {},
   "outputs": [
    {
     "name": "stderr",
     "output_type": "stream",
     "text": [
      "WARNING: using Conv.APPDecoder in module Main conflicts with an existing identifier.\n",
      "WARNING: using Conv.Trellis in module Main conflicts with an existing identifier.\n",
      "WARNING: using Conv.convenc in module Main conflicts with an existing identifier.\n"
     ]
    }
   ],
   "source": [
    "using .Conv"
   ]
  },
  {
   "cell_type": "code",
   "execution_count": 23,
   "metadata": {},
   "outputs": [
    {
     "data": {
      "text/plain": [
       "Main.Conv.APPDecoder(Main.Conv.Trellis(1, 2, 5, 16, [0 8; 8 0; … ; 7 15; 15 7], [0 3; 0 3; … ; 0 3; 0 3]), 16, Dict{Symbol,Array{Array{Float64,1},N} where N}(:output => [[-1.0, -1.0] [] … [] []; [1.0, 1.0] [] … [] []; … ; [] [] … [] [1.0, 1.0]; [] [] … [] [-1.0, -1.0]],:input => [[-1.0] [] … [] []; [1.0] [] … [] []; … ; [] [] … [] [1.0]; [] [] … [] [-1.0]]), Bool[1 0 … 0 0; 1 0 … 0 0; … ; 0 0 … 0 1; 0 0 … 0 1], \"max\")"
      ]
     },
     "execution_count": 23,
     "metadata": {},
     "output_type": "execute_result"
    }
   ],
   "source": [
    "trellis = Conv.poly2trellis(5,[33 35],33)\n",
    "appdec = Conv.APPDecoder(trellis)"
   ]
  },
  {
   "cell_type": "code",
   "execution_count": 24,
   "metadata": {},
   "outputs": [],
   "source": [
    "nbits = 1000 # 送信ビット数\n",
    "ebnodB = 10\n",
    "N0 = 10^(-ebnodB/10)\n",
    "tx_bit = rand(nbits) .> 0.5; # 送信ビット"
   ]
  },
  {
   "cell_type": "code",
   "execution_count": 26,
   "metadata": {},
   "outputs": [],
   "source": [
    "enc_bit = Conv.convenc(trellis, tx_bit); # 畳み込み符号化"
   ]
  },
  {
   "cell_type": "code",
   "execution_count": 32,
   "metadata": {},
   "outputs": [],
   "source": [
    "x = 2.0*enc_bit .- 1.0\n",
    "n = sqrt(N0/2)*randn(Float64,size(x))\n",
    "y = x + n;"
   ]
  },
  {
   "cell_type": "code",
   "execution_count": 34,
   "metadata": {},
   "outputs": [],
   "source": [
    "Lch = 4*y/N0;"
   ]
  },
  {
   "cell_type": "code",
   "execution_count": null,
   "metadata": {},
   "outputs": [],
   "source": []
  }
 ],
 "metadata": {
  "kernelspec": {
   "display_name": "Julia 1.3.0",
   "language": "julia",
   "name": "julia-1.3"
  },
  "language_info": {
   "file_extension": ".jl",
   "mimetype": "application/julia",
   "name": "julia",
   "version": "1.3.0"
  }
 },
 "nbformat": 4,
 "nbformat_minor": 4
}
