{
 "cells": [
  {
   "cell_type": "code",
   "execution_count": 215,
   "metadata": {},
   "outputs": [
    {
     "name": "stderr",
     "output_type": "stream",
     "text": [
      "WARNING: replacing module Conv.\n"
     ]
    },
    {
     "data": {
      "text/plain": [
       "Main.Conv"
      ]
     },
     "execution_count": 215,
     "metadata": {},
     "output_type": "execute_result"
    }
   ],
   "source": [
    "include(\"../Conv.jl\")"
   ]
  },
  {
   "cell_type": "code",
   "execution_count": 216,
   "metadata": {},
   "outputs": [],
   "source": [
    "using BenchmarkTools"
   ]
  },
  {
   "cell_type": "code",
   "execution_count": 217,
   "metadata": {},
   "outputs": [
    {
     "data": {
      "text/plain": [
       "Main.Conv.APPDecoder(Main.Conv.Trellis(1, 2, 4, 8, [0 4; 4 0; … ; 7 3; 3 7], [0 3; 0 3; … ; 1 2; 1 2]), 8, Dict{Symbol,Array{Array{Float64,1},N} where N}(:output => [[-1.0, -1.0] [] … [] []; [1.0, 1.0] [] … [] []; … ; [] [] … [] [-1.0, 1.0]; [] [] … [] [1.0, -1.0]],:input => [[-1.0] [] … [] []; [1.0] [] … [] []; … ; [] [] … [] [-1.0]; [] [] … [] [1.0]]), Bool[1 0 … 0 0; 1 0 … 0 0; … ; 0 0 … 0 1; 0 0 … 0 1], \"max\")"
      ]
     },
     "execution_count": 217,
     "metadata": {},
     "output_type": "execute_result"
    }
   ],
   "source": [
    "trellis = Conv.poly2trellis(4,[13 17],13)\n",
    "appdec = Conv.APPDecoder(trellis)"
   ]
  },
  {
   "cell_type": "code",
   "execution_count": 218,
   "metadata": {},
   "outputs": [],
   "source": [
    "nbits = 1000 # 送信ビット数\n",
    "ebnodB = 10\n",
    "N0 = 10^(-ebnodB/10)\n",
    "tx_bit = rand(nbits) .> 0.5; # 送信ビット"
   ]
  },
  {
   "cell_type": "code",
   "execution_count": 219,
   "metadata": {},
   "outputs": [],
   "source": [
    "enc_bit = Conv.convenc(trellis, tx_bit); # 畳み込み符号化"
   ]
  },
  {
   "cell_type": "code",
   "execution_count": 220,
   "metadata": {},
   "outputs": [],
   "source": [
    "x = 2.0*enc_bit .- 1.0\n",
    "n = sqrt(N0/2)*randn(Float64,size(x))\n",
    "y = x + n;"
   ]
  },
  {
   "cell_type": "code",
   "execution_count": 221,
   "metadata": {},
   "outputs": [],
   "source": [
    "Lch = 4*y/N0;"
   ]
  },
  {
   "cell_type": "code",
   "execution_count": 222,
   "metadata": {},
   "outputs": [
    {
     "name": "stdout",
     "output_type": "stream",
     "text": [
      "  278.100 μs (15 allocations: 634.17 KiB)\n"
     ]
    },
    {
     "data": {
      "text/plain": [
       "1000-element Array{Float64,1}:\n",
       " -497.2364447823682 \n",
       " -464.4905086832509 \n",
       "  464.49050868325094\n",
       " -437.925716900882  \n",
       "  428.3368684352922 \n",
       " -428.3368684352922 \n",
       "  428.3368684352922 \n",
       " -437.925716900882  \n",
       "  428.3368684352922 \n",
       " -468.28132187831187\n",
       "  468.2813218783119 \n",
       " -472.80534741449156\n",
       " -459.49651260540907\n",
       "    ⋮               \n",
       " -496.732744338188  \n",
       "  433.2787887458561 \n",
       "  433.2787887458561 \n",
       "  432.983268260733  \n",
       " -417.56684189779696\n",
       " -364.15515503029053\n",
       "  343.48070822324905\n",
       " -299.69659178631923\n",
       "  294.26788023875895\n",
       " -185.44353957708418\n",
       "  266.6336189483594 \n",
       " -171.24769204834612"
      ]
     },
     "execution_count": 222,
     "metadata": {},
     "output_type": "execute_result"
    }
   ],
   "source": [
    "@btime Conv.mapdec(appdec, Lch; out_type=:input)"
   ]
  },
  {
   "cell_type": "code",
   "execution_count": 57,
   "metadata": {},
   "outputs": [
    {
     "data": {
      "text/plain": [
       "2000-element Array{Float64,1}:\n",
       " -43.89952009747793 \n",
       " -37.5247712811362  \n",
       "  44.18832746305929 \n",
       "  49.864916944228824\n",
       " -35.414272873923785\n",
       " -40.85206321761193 \n",
       "  50.229893729745214\n",
       " -32.32739649739384 \n",
       " -37.32918173164504 \n",
       " -40.18472926546329 \n",
       "  42.03588355465366 \n",
       " -45.26997982869675 \n",
       " -40.162832114598274\n",
       "   ⋮                \n",
       "  65.41971474707069 \n",
       "  40.77507113841005 \n",
       " -49.416006806004354\n",
       "  24.364476111569527\n",
       " -37.07281323072652 \n",
       " -43.94110958452299 \n",
       "  49.1688173021596  \n",
       "  45.501805343809174\n",
       "  25.8888873765574  \n",
       " -49.10269689061651 \n",
       " -45.26531101921373 \n",
       "  43.00884005300476 "
      ]
     },
     "execution_count": 57,
     "metadata": {},
     "output_type": "execute_result"
    }
   ],
   "source": []
  },
  {
   "cell_type": "code",
   "execution_count": null,
   "metadata": {},
   "outputs": [],
   "source": []
  }
 ],
 "metadata": {
  "kernelspec": {
   "display_name": "Julia 1.3.0",
   "language": "julia",
   "name": "julia-1.3"
  },
  "language_info": {
   "file_extension": ".jl",
   "mimetype": "application/julia",
   "name": "julia",
   "version": "1.3.0"
  }
 },
 "nbformat": 4,
 "nbformat_minor": 4
}
