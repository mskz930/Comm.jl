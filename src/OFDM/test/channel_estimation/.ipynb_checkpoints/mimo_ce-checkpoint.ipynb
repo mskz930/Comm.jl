{
 "cells": [
  {
   "cell_type": "code",
   "execution_count": 56,
   "metadata": {},
   "outputs": [
    {
     "name": "stderr",
     "output_type": "stream",
     "text": [
      "WARNING: replacing module Ofdm.\n",
      "WARNING: replacing module Channel.\n"
     ]
    }
   ],
   "source": [
    "include(\"../../Ofdm.jl\")\n",
    "include(\"../../../../Channel/Channel.jl\")\n",
    "using Plots"
   ]
  },
  {
   "cell_type": "code",
   "execution_count": 77,
   "metadata": {},
   "outputs": [],
   "source": [
    "nbits = 2000\n",
    "M = 4\n",
    "qam = Ofdm.QamMod(M)\n",
    "nfft=64; cpsize=16; npi=12; ngc=6; ndim=(2,2)\n",
    "params = Ofdm.OfdmParams(nfft,cpsize,npi,ngc,ndim; pilot_type=:comb, pilot_space=4, pilot_interval=2)\n",
    "indices = Ofdm.get_indices(params)\n",
    "tx_frame = Ofdm.gen_frame(params, indices, 20)\n",
    "pdp = Channel.exponent(10,20);"
   ]
  },
  {
   "cell_type": "code",
   "execution_count": 78,
   "metadata": {},
   "outputs": [],
   "source": [
    "# 送信機\n",
    "tx_bit = rand(nbits) .> 0.5\n",
    "tx_symbol = Ofdm.qammod(qam, tx_bit)\n",
    "tx_ofdmsig = Ofdm.ofdmmod(params, tx_frame, tx_symbol, indices);"
   ]
  },
  {
   "cell_type": "code",
   "execution_count": 79,
   "metadata": {},
   "outputs": [
    {
     "data": {
      "text/plain": [
       "(Complex{Float64}[0.13717449158966452 - 0.3402591720833006im 0.5940368044087465 - 0.014294036858677688im; 0.39649074290863817 + 0.18980277407999277im 1.7182704365901826 - 0.8686222667934398im; … ; -0.4376068326091814 + 0.16389068924481637im 0.13545436356850155 - 0.19259938031522347im; -0.4065717272828231 - 0.040562258258940186im 0.4647978995249967 - 0.08123099273074266im], Complex{Float64}[-0.20415851532071908 + 0.265771612880832im; -0.24506834903381655 - 0.2601308207625262im; … ; -0.04226014045394038 - 0.08509132450661672im; -0.03029331118372552 - 0.007878520521032583im]\n",
       "\n",
       "Complex{Float64}[-0.16596734809912764 + 0.011726750427820952im; -0.9068399453417718 + 0.6351500795630127im; … ; 0.028451216453647666 - 0.04786223557993268im; -0.007483995095624553 + 0.017199076821791028im]\n",
       "\n",
       "Complex{Float64}[0.09589886206631043 - 0.029995815754080946im; 0.29962407319605755 + 0.106904111266744im; … ; -0.07406802891146759 + 0.07540222799051516im; 0.06289737929885285 - 0.03383545249289214im]\n",
       "\n",
       "Complex{Float64}[-0.338089054535853 - 0.24472555634457094im; -0.3217207192661723 - 0.11492224623923389im; … ; 0.16297971457962215 - 0.02945925182489822im; 0.04495398910069369 + 0.00028363256481393106im])"
      ]
     },
     "execution_count": 79,
     "metadata": {},
     "output_type": "execute_result"
    }
   ],
   "source": [
    "rx_ofdmsig, cir = Channel.multipath_fading(tx_ofdmsig, ndim, pdp, istail=false)\n",
    "# rx_ofdmsig = Channel.awgn(rx_ofdmsig, 0.01)"
   ]
  },
  {
   "cell_type": "code",
   "execution_count": 80,
   "metadata": {},
   "outputs": [],
   "source": [
    "rx_frame = Ofdm.ofdmdemod(params, rx_ofdmsig);"
   ]
  },
  {
   "cell_type": "code",
   "execution_count": 81,
   "metadata": {},
   "outputs": [],
   "source": [
    "cfr = Ofdm.get_cfr(cir, params.nfft, size(rx_frame,2));"
   ]
  },
  {
   "cell_type": "code",
   "execution_count": 82,
   "metadata": {},
   "outputs": [],
   "source": [
    "cfr_est = Ofdm.channel_estimation(params, rx_frame, tx_frame, indices);"
   ]
  },
  {
   "cell_type": "code",
   "execution_count": 83,
   "metadata": {},
   "outputs": [
    {
     "data": {
      "text/plain": [
       "8-element Array{Complex{Float64},1}:\n",
       "  0.7071067811865475 - 0.7071067811865475im\n",
       "  0.7071067811865475 - 0.7071067811865475im\n",
       "  0.7071067811865475 - 0.7071067811865475im\n",
       " -0.7071067811865475 - 0.7071067811865475im\n",
       "  0.7071067811865475 + 0.7071067811865475im\n",
       " -0.7071067811865475 + 0.7071067811865475im\n",
       " -0.7071067811865475 + 0.7071067811865475im\n",
       "  0.7071067811865475 - 0.7071067811865475im"
      ]
     },
     "execution_count": 83,
     "metadata": {},
     "output_type": "execute_result"
    }
   ],
   "source": [
    "tx_frame[indices[:pilot][:,1],1,1]"
   ]
  },
  {
   "cell_type": "code",
   "execution_count": 84,
   "metadata": {},
   "outputs": [],
   "source": [
    "cfr_est = zeros(ComplexF64, size(rx_frame)..., size(tx_frame,3));\n",
    "Ofdm.pilot_divide!(cfr_est, rx_frame, tx_frame, indices[:frame])"
   ]
  },
  {
   "cell_type": "code",
   "execution_count": 85,
   "metadata": {},
   "outputs": [],
   "source": [
    "Ofdm.interpolate!(cfr_est, :time, indices[:pilot], indices[:frame])"
   ]
  },
  {
   "cell_type": "code",
   "execution_count": 86,
   "metadata": {},
   "outputs": [
    {
     "name": "stdout",
     "output_type": "stream",
     "text": [
      "knots = [2, 6, 10, 14, 18, 22, 26, 30, 34, 38, 42, 46, 50, 54, 58, 62]\n"
     ]
    }
   ],
   "source": [
    "Ofdm.interpolate!(cfr_est, :freq, indices[:pilot], indices[:frame])"
   ]
  },
  {
   "cell_type": "code",
   "execution_count": 87,
   "metadata": {},
   "outputs": [
    {
     "data": {
      "text/plain": [
       "64-element Array{Complex{Float64},1}:\n",
       "                  0.0 + 0.0im                \n",
       " 0.021371681592895524 - 0.11874796814051293im\n",
       "                  0.0 + 0.0im                \n",
       "                  0.0 + 0.0im                \n",
       "                  0.0 + 0.0im                \n",
       "  -0.1560144840694474 - 0.47245070627027963im\n",
       "                  0.0 + 0.0im                \n",
       "                  0.0 + 0.0im                \n",
       "                  0.0 + 0.0im                \n",
       "  -1.0883242629996754 - 0.18970324074229294im\n",
       "                  0.0 + 0.0im                \n",
       "                  0.0 + 0.0im                \n",
       "                  0.0 + 0.0im                \n",
       "                      ⋮                      \n",
       "                  0.0 + 0.0im                \n",
       "    -0.34286102383515 + 0.11182088461571452im\n",
       "                  0.0 + 0.0im                \n",
       "                  0.0 + 0.0im                \n",
       "                  0.0 + 0.0im                \n",
       "  -0.5087272018378025 + 0.4942214639379776im \n",
       "                  0.0 + 0.0im                \n",
       "                  0.0 + 0.0im                \n",
       "                  0.0 + 0.0im                \n",
       "   0.2848567370029289 + 0.39995036154738206im\n",
       "                  0.0 + 0.0im                \n",
       "                  0.0 + 0.0im                "
      ]
     },
     "execution_count": 87,
     "metadata": {},
     "output_type": "execute_result"
    }
   ],
   "source": [
    "ave_cfr = Ofdm.time_ave_pilot(cfr_est, indices[:pilot], indices[:frame])[:,1,1]"
   ]
  },
  {
   "cell_type": "code",
   "execution_count": 88,
   "metadata": {},
   "outputs": [
    {
     "data": {
      "image/svg+xml": [
       "<?xml version=\"1.0\" encoding=\"utf-8\"?>\n",
       "<svg xmlns=\"http://www.w3.org/2000/svg\" xmlns:xlink=\"http://www.w3.org/1999/xlink\" width=\"600\" height=\"400\" viewBox=\"0 0 2400 1600\">\n",
       "<defs>\n",
       "  <clipPath id=\"clip9600\">\n",
       "    <rect x=\"0\" y=\"0\" width=\"2400\" height=\"1600\"/>\n",
       "  </clipPath>\n",
       "</defs>\n",
       "<path clip-path=\"url(#clip9600)\" d=\"\n",
       "M0 1600 L2400 1600 L2400 0 L0 0  Z\n",
       "  \" fill=\"#ffffff\" fill-rule=\"evenodd\" fill-opacity=\"1\"/>\n",
       "<defs>\n",
       "  <clipPath id=\"clip9601\">\n",
       "    <rect x=\"480\" y=\"0\" width=\"1681\" height=\"1600\"/>\n",
       "  </clipPath>\n",
       "</defs>\n",
       "<path clip-path=\"url(#clip9600)\" d=\"\n",
       "M182.008 1487.47 L2352.76 1487.47 L2352.76 47.2441 L182.008 47.2441  Z\n",
       "  \" fill=\"#ffffff\" fill-rule=\"evenodd\" fill-opacity=\"1\"/>\n",
       "<defs>\n",
       "  <clipPath id=\"clip9602\">\n",
       "    <rect x=\"182\" y=\"47\" width=\"2172\" height=\"1441\"/>\n",
       "  </clipPath>\n",
       "</defs>\n",
       "<polyline clip-path=\"url(#clip9602)\" style=\"stroke:#000000; stroke-width:2; stroke-opacity:0.1; fill:none\" points=\"\n",
       "  210.938,1487.47 210.938,47.2441 \n",
       "  \"/>\n",
       "<polyline clip-path=\"url(#clip9602)\" style=\"stroke:#000000; stroke-width:2; stroke-opacity:0.1; fill:none\" points=\"\n",
       "  535.998,1487.47 535.998,47.2441 \n",
       "  \"/>\n",
       "<polyline clip-path=\"url(#clip9602)\" style=\"stroke:#000000; stroke-width:2; stroke-opacity:0.1; fill:none\" points=\"\n",
       "  861.058,1487.47 861.058,47.2441 \n",
       "  \"/>\n",
       "<polyline clip-path=\"url(#clip9602)\" style=\"stroke:#000000; stroke-width:2; stroke-opacity:0.1; fill:none\" points=\"\n",
       "  1186.12,1487.47 1186.12,47.2441 \n",
       "  \"/>\n",
       "<polyline clip-path=\"url(#clip9602)\" style=\"stroke:#000000; stroke-width:2; stroke-opacity:0.1; fill:none\" points=\"\n",
       "  1511.18,1487.47 1511.18,47.2441 \n",
       "  \"/>\n",
       "<polyline clip-path=\"url(#clip9602)\" style=\"stroke:#000000; stroke-width:2; stroke-opacity:0.1; fill:none\" points=\"\n",
       "  1836.24,1487.47 1836.24,47.2441 \n",
       "  \"/>\n",
       "<polyline clip-path=\"url(#clip9602)\" style=\"stroke:#000000; stroke-width:2; stroke-opacity:0.1; fill:none\" points=\"\n",
       "  2161.3,1487.47 2161.3,47.2441 \n",
       "  \"/>\n",
       "<polyline clip-path=\"url(#clip9602)\" style=\"stroke:#000000; stroke-width:2; stroke-opacity:0.1; fill:none\" points=\"\n",
       "  182.008,1353.23 2352.76,1353.23 \n",
       "  \"/>\n",
       "<polyline clip-path=\"url(#clip9602)\" style=\"stroke:#000000; stroke-width:2; stroke-opacity:0.1; fill:none\" points=\"\n",
       "  182.008,1007.53 2352.76,1007.53 \n",
       "  \"/>\n",
       "<polyline clip-path=\"url(#clip9602)\" style=\"stroke:#000000; stroke-width:2; stroke-opacity:0.1; fill:none\" points=\"\n",
       "  182.008,661.836 2352.76,661.836 \n",
       "  \"/>\n",
       "<polyline clip-path=\"url(#clip9602)\" style=\"stroke:#000000; stroke-width:2; stroke-opacity:0.1; fill:none\" points=\"\n",
       "  182.008,316.14 2352.76,316.14 \n",
       "  \"/>\n",
       "<polyline clip-path=\"url(#clip9600)\" style=\"stroke:#000000; stroke-width:4; stroke-opacity:1; fill:none\" points=\"\n",
       "  182.008,1487.47 2352.76,1487.47 \n",
       "  \"/>\n",
       "<polyline clip-path=\"url(#clip9600)\" style=\"stroke:#000000; stroke-width:4; stroke-opacity:1; fill:none\" points=\"\n",
       "  182.008,1487.47 182.008,47.2441 \n",
       "  \"/>\n",
       "<polyline clip-path=\"url(#clip9600)\" style=\"stroke:#000000; stroke-width:4; stroke-opacity:1; fill:none\" points=\"\n",
       "  210.938,1487.47 210.938,1470.19 \n",
       "  \"/>\n",
       "<polyline clip-path=\"url(#clip9600)\" style=\"stroke:#000000; stroke-width:4; stroke-opacity:1; fill:none\" points=\"\n",
       "  535.998,1487.47 535.998,1470.19 \n",
       "  \"/>\n",
       "<polyline clip-path=\"url(#clip9600)\" style=\"stroke:#000000; stroke-width:4; stroke-opacity:1; fill:none\" points=\"\n",
       "  861.058,1487.47 861.058,1470.19 \n",
       "  \"/>\n",
       "<polyline clip-path=\"url(#clip9600)\" style=\"stroke:#000000; stroke-width:4; stroke-opacity:1; fill:none\" points=\"\n",
       "  1186.12,1487.47 1186.12,1470.19 \n",
       "  \"/>\n",
       "<polyline clip-path=\"url(#clip9600)\" style=\"stroke:#000000; stroke-width:4; stroke-opacity:1; fill:none\" points=\"\n",
       "  1511.18,1487.47 1511.18,1470.19 \n",
       "  \"/>\n",
       "<polyline clip-path=\"url(#clip9600)\" style=\"stroke:#000000; stroke-width:4; stroke-opacity:1; fill:none\" points=\"\n",
       "  1836.24,1487.47 1836.24,1470.19 \n",
       "  \"/>\n",
       "<polyline clip-path=\"url(#clip9600)\" style=\"stroke:#000000; stroke-width:4; stroke-opacity:1; fill:none\" points=\"\n",
       "  2161.3,1487.47 2161.3,1470.19 \n",
       "  \"/>\n",
       "<polyline clip-path=\"url(#clip9600)\" style=\"stroke:#000000; stroke-width:4; stroke-opacity:1; fill:none\" points=\"\n",
       "  182.008,1353.23 208.057,1353.23 \n",
       "  \"/>\n",
       "<polyline clip-path=\"url(#clip9600)\" style=\"stroke:#000000; stroke-width:4; stroke-opacity:1; fill:none\" points=\"\n",
       "  182.008,1007.53 208.057,1007.53 \n",
       "  \"/>\n",
       "<polyline clip-path=\"url(#clip9600)\" style=\"stroke:#000000; stroke-width:4; stroke-opacity:1; fill:none\" points=\"\n",
       "  182.008,661.836 208.057,661.836 \n",
       "  \"/>\n",
       "<polyline clip-path=\"url(#clip9600)\" style=\"stroke:#000000; stroke-width:4; stroke-opacity:1; fill:none\" points=\"\n",
       "  182.008,316.14 208.057,316.14 \n",
       "  \"/>\n",
       "<g clip-path=\"url(#clip9600)\">\n",
       "<text style=\"fill:#000000; fill-opacity:1; font-family:Arial,Helvetica Neue,Helvetica,sans-serif; font-size:48px; text-anchor:middle;\" transform=\"rotate(0, 210.938, 1541.47)\" x=\"210.938\" y=\"1541.47\">0</text>\n",
       "</g>\n",
       "<g clip-path=\"url(#clip9600)\">\n",
       "<text style=\"fill:#000000; fill-opacity:1; font-family:Arial,Helvetica Neue,Helvetica,sans-serif; font-size:48px; text-anchor:middle;\" transform=\"rotate(0, 535.998, 1541.47)\" x=\"535.998\" y=\"1541.47\">10</text>\n",
       "</g>\n",
       "<g clip-path=\"url(#clip9600)\">\n",
       "<text style=\"fill:#000000; fill-opacity:1; font-family:Arial,Helvetica Neue,Helvetica,sans-serif; font-size:48px; text-anchor:middle;\" transform=\"rotate(0, 861.058, 1541.47)\" x=\"861.058\" y=\"1541.47\">20</text>\n",
       "</g>\n",
       "<g clip-path=\"url(#clip9600)\">\n",
       "<text style=\"fill:#000000; fill-opacity:1; font-family:Arial,Helvetica Neue,Helvetica,sans-serif; font-size:48px; text-anchor:middle;\" transform=\"rotate(0, 1186.12, 1541.47)\" x=\"1186.12\" y=\"1541.47\">30</text>\n",
       "</g>\n",
       "<g clip-path=\"url(#clip9600)\">\n",
       "<text style=\"fill:#000000; fill-opacity:1; font-family:Arial,Helvetica Neue,Helvetica,sans-serif; font-size:48px; text-anchor:middle;\" transform=\"rotate(0, 1511.18, 1541.47)\" x=\"1511.18\" y=\"1541.47\">40</text>\n",
       "</g>\n",
       "<g clip-path=\"url(#clip9600)\">\n",
       "<text style=\"fill:#000000; fill-opacity:1; font-family:Arial,Helvetica Neue,Helvetica,sans-serif; font-size:48px; text-anchor:middle;\" transform=\"rotate(0, 1836.24, 1541.47)\" x=\"1836.24\" y=\"1541.47\">50</text>\n",
       "</g>\n",
       "<g clip-path=\"url(#clip9600)\">\n",
       "<text style=\"fill:#000000; fill-opacity:1; font-family:Arial,Helvetica Neue,Helvetica,sans-serif; font-size:48px; text-anchor:middle;\" transform=\"rotate(0, 2161.3, 1541.47)\" x=\"2161.3\" y=\"1541.47\">60</text>\n",
       "</g>\n",
       "<g clip-path=\"url(#clip9600)\">\n",
       "<text style=\"fill:#000000; fill-opacity:1; font-family:Arial,Helvetica Neue,Helvetica,sans-serif; font-size:48px; text-anchor:end;\" transform=\"rotate(0, 158.008, 1370.73)\" x=\"158.008\" y=\"1370.73\">-1.0</text>\n",
       "</g>\n",
       "<g clip-path=\"url(#clip9600)\">\n",
       "<text style=\"fill:#000000; fill-opacity:1; font-family:Arial,Helvetica Neue,Helvetica,sans-serif; font-size:48px; text-anchor:end;\" transform=\"rotate(0, 158.008, 1025.03)\" x=\"158.008\" y=\"1025.03\">-0.5</text>\n",
       "</g>\n",
       "<g clip-path=\"url(#clip9600)\">\n",
       "<text style=\"fill:#000000; fill-opacity:1; font-family:Arial,Helvetica Neue,Helvetica,sans-serif; font-size:48px; text-anchor:end;\" transform=\"rotate(0, 158.008, 679.336)\" x=\"158.008\" y=\"679.336\">0.0</text>\n",
       "</g>\n",
       "<g clip-path=\"url(#clip9600)\">\n",
       "<text style=\"fill:#000000; fill-opacity:1; font-family:Arial,Helvetica Neue,Helvetica,sans-serif; font-size:48px; text-anchor:end;\" transform=\"rotate(0, 158.008, 333.64)\" x=\"158.008\" y=\"333.64\">0.5</text>\n",
       "</g>\n",
       "<polyline clip-path=\"url(#clip9602)\" style=\"stroke:#009af9; stroke-width:4; stroke-opacity:1; fill:none\" points=\"\n",
       "  243.444,587.384 275.95,647.06 308.456,666.441 340.962,665.071 373.468,686.541 405.974,769.703 438.48,922.888 470.986,1116.36 503.492,1296.76 535.998,1414.29 \n",
       "  568.504,1446.71 601.01,1407.13 633.516,1332.91 666.022,1263.53 698.528,1220.43 731.034,1199.18 763.54,1176.65 796.046,1127.48 828.552,1040.48 861.058,926.831 \n",
       "  893.563,816.601 926.069,746.001 958.575,741.026 991.081,804.345 1023.59,910.807 1056.09,1013.93 1088.6,1061.79 1121.11,1016.83 1153.61,871.765 1186.12,654.359 \n",
       "  1218.62,418.014 1251.13,221.639 1283.63,107.613 1316.14,88.0053 1348.65,145.043 1381.15,244.248 1413.66,352.069 1446.16,448.184 1478.67,526.998 1511.18,590.318 \n",
       "  1543.68,638.625 1576.19,668.29 1608.69,676.537 1641.2,669.177 1673.71,663.273 1706.21,680.274 1738.72,732.662 1771.22,813.228 1803.73,895.828 1836.24,949.375 \n",
       "  1868.74,957.32 1901.25,929.786 1933.75,898.962 1966.26,898.887 1998.77,941.594 2031.27,1005.34 2063.78,1043.99 2096.28,1013.57 2128.79,900.238 2161.3,732.361 \n",
       "  2193.8,568.045 2226.31,464.888 2258.81,449.651 2291.32,505.989 \n",
       "  \"/>\n",
       "<polyline clip-path=\"url(#clip9602)\" style=\"stroke:#e26f46; stroke-width:4; stroke-opacity:1; fill:none\" points=\"\n",
       "  243.444,616.399 275.95,647.06 308.456,677.72 340.962,708.381 373.468,739.042 405.974,769.703 438.48,930.851 470.986,1092 503.492,1253.15 535.998,1414.29 \n",
       "  568.504,1376.6 601.01,1338.91 633.516,1301.22 666.022,1263.53 698.528,1229.52 731.034,1195.51 763.54,1161.49 796.046,1127.48 828.552,1032.11 861.058,936.739 \n",
       "  893.563,841.37 926.069,746.001 958.575,812.983 991.081,879.966 1023.59,946.949 1056.09,1013.93 1088.6,924.039 1121.11,834.145 1153.61,744.252 1186.12,654.359 \n",
       "  1218.62,512.771 1251.13,371.182 1283.63,229.594 1316.14,88.0053 1348.65,178.05 1381.15,268.095 1413.66,358.139 1446.16,448.184 1478.67,503.21 1511.18,558.237 \n",
       "  1543.68,613.263 1576.19,668.29 1608.69,671.286 1641.2,674.282 1673.71,677.278 1706.21,680.274 1738.72,747.549 1771.22,814.824 1803.73,882.099 1836.24,949.375 \n",
       "  1868.74,936.753 1901.25,924.131 1933.75,911.509 1966.26,898.887 1998.77,927.557 2031.27,956.226 2063.78,984.896 2096.28,1013.57 2128.79,876.396 2161.3,739.227 \n",
       "  2193.8,602.058 2226.31,464.888 2258.81,327.719 2291.32,190.55 \n",
       "  \"/>\n",
       "<path clip-path=\"url(#clip9600)\" d=\"\n",
       "M1989.93 312.204 L2280.76 312.204 L2280.76 130.764 L1989.93 130.764  Z\n",
       "  \" fill=\"#ffffff\" fill-rule=\"evenodd\" fill-opacity=\"1\"/>\n",
       "<polyline clip-path=\"url(#clip9600)\" style=\"stroke:#000000; stroke-width:4; stroke-opacity:1; fill:none\" points=\"\n",
       "  1989.93,312.204 2280.76,312.204 2280.76,130.764 1989.93,130.764 1989.93,312.204 \n",
       "  \"/>\n",
       "<polyline clip-path=\"url(#clip9600)\" style=\"stroke:#009af9; stroke-width:4; stroke-opacity:1; fill:none\" points=\"\n",
       "  2013.93,191.244 2157.93,191.244 \n",
       "  \"/>\n",
       "<g clip-path=\"url(#clip9600)\">\n",
       "<text style=\"fill:#000000; fill-opacity:1; font-family:Arial,Helvetica Neue,Helvetica,sans-serif; font-size:48px; text-anchor:start;\" transform=\"rotate(0, 2181.93, 208.744)\" x=\"2181.93\" y=\"208.744\">y1</text>\n",
       "</g>\n",
       "<polyline clip-path=\"url(#clip9600)\" style=\"stroke:#e26f46; stroke-width:4; stroke-opacity:1; fill:none\" points=\"\n",
       "  2013.93,251.724 2157.93,251.724 \n",
       "  \"/>\n",
       "<g clip-path=\"url(#clip9600)\">\n",
       "<text style=\"fill:#000000; fill-opacity:1; font-family:Arial,Helvetica Neue,Helvetica,sans-serif; font-size:48px; text-anchor:start;\" transform=\"rotate(0, 2181.93, 269.224)\" x=\"2181.93\" y=\"269.224\">y2</text>\n",
       "</g>\n",
       "</svg>\n"
      ]
     },
     "execution_count": 88,
     "metadata": {},
     "output_type": "execute_result"
    }
   ],
   "source": [
    "plot(real(cfr[:,1,1,1]))\n",
    "plot!(real(cfr_est[:,1,1,1]))"
   ]
  },
  {
   "cell_type": "code",
   "execution_count": 89,
   "metadata": {},
   "outputs": [
    {
     "ename": "KeyError",
     "evalue": "KeyError: key :data not found",
     "output_type": "error",
     "traceback": [
      "KeyError: key :data not found",
      "",
      "Stacktrace:",
      " [1] getindex(::Dict{Symbol,Array{Int64,N} where N}, ::Symbol) at ./dict.jl:477",
      " [2] top-level scope at In[89]:1"
     ]
    }
   ],
   "source": [
    "\n"
   ]
  },
  {
   "cell_type": "code",
   "execution_count": null,
   "metadata": {},
   "outputs": [],
   "source": []
  }
 ],
 "metadata": {
  "kernelspec": {
   "display_name": "Julia 1.2.0",
   "language": "julia",
   "name": "julia-1.2"
  },
  "language_info": {
   "file_extension": ".jl",
   "mimetype": "application/julia",
   "name": "julia",
   "version": "1.2.0"
  }
 },
 "nbformat": 4,
 "nbformat_minor": 4
}
