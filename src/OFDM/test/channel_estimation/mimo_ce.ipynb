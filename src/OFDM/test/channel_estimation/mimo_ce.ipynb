{
 "cells": [
  {
   "cell_type": "code",
   "execution_count": 119,
   "metadata": {},
   "outputs": [
    {
     "name": "stderr",
     "output_type": "stream",
     "text": [
      "WARNING: replacing module Ofdm.\n",
      "WARNING: replacing module Channel.\n"
     ]
    }
   ],
   "source": [
    "include(\"../../Ofdm.jl\")\n",
    "include(\"../../../../Channel/Channel.jl\")\n",
    "using Plots"
   ]
  },
  {
   "cell_type": "code",
   "execution_count": 120,
   "metadata": {},
   "outputs": [],
   "source": [
    "nbits = 2000\n",
    "M = 4\n",
    "qam = Ofdm.QamMod(M)\n",
    "nfft=64; cpsize=16; npi=12; ngc=6; ndim=(2,2)\n",
    "params = Ofdm.OfdmParams(nfft,cpsize,npi,ngc,ndim; pilot_type=:comb, pilot_space=4, pilot_interval=2)\n",
    "indices = Ofdm.get_indices(params)\n",
    "tx_frame = Ofdm.gen_frame(params, indices, 20)\n",
    "pdp = Channel.exponent(10,20);"
   ]
  },
  {
   "cell_type": "code",
   "execution_count": 121,
   "metadata": {},
   "outputs": [],
   "source": [
    "# 送信機\n",
    "tx_bit = rand(nbits) .> 0.5\n",
    "tx_symbol = Ofdm.qammod(qam, tx_bit)\n",
    "tx_ofdmsig = Ofdm.ofdmmod(params, tx_frame, tx_symbol, indices);"
   ]
  },
  {
   "cell_type": "code",
   "execution_count": 122,
   "metadata": {},
   "outputs": [
    {
     "data": {
      "text/plain": [
       "(Complex{Float64}[0.4629384931840641 + 0.06043103233028871im -0.6407173118362929 + 0.09665723693617584im; -0.11074114312391503 + 0.39883189341989506im -0.13896722135849987 - 0.4144585484840406im; … ; 0.0 + 0.0im 0.0 + 0.0im; 0.0 + 0.0im 0.0 + 0.0im], Complex{Float64}[0.2747592931689173 + 0.07806271252515054im; 0.6629586991336109 + 0.18175868623261815im; … ; 0.06854396436660233 - 0.01590355535001238im; 0.03938537942488852 - 0.08390485923261684im]\n",
       "\n",
       "Complex{Float64}[0.30718899009322065 - 0.351545962619559im; 0.0116099372351362 - 0.11525152093445289im; … ; -0.0948833154593109 - 0.04049672453923844im; 0.00792166448340292 - 0.01847943411669994im]\n",
       "\n",
       "Complex{Float64}[0.7672893246432315 + 0.25633633820047846im; -0.17140991615653528 + 0.4628813374558777im; … ; -0.07893500619100104 + 0.04496353676385531im; -0.024841332054567424 + 0.001494818965915216im]\n",
       "\n",
       "Complex{Float64}[-0.2770815144958494 - 0.11931518628095109im; 0.14343535438940766 - 0.4396237038124666im; … ; -0.0512386636437084 - 0.030965800339108108im; -0.03432573901835381 - 0.006053465422125293im])"
      ]
     },
     "execution_count": 122,
     "metadata": {},
     "output_type": "execute_result"
    }
   ],
   "source": [
    "rx_ofdmsig, cir = Channel.multipath_fading(tx_ofdmsig, ndim, pdp, istail=false)\n",
    "# rx_ofdmsig = Channel.awgn(rx_ofdmsig, 0.01)"
   ]
  },
  {
   "cell_type": "code",
   "execution_count": 123,
   "metadata": {},
   "outputs": [],
   "source": [
    "rx_frame = Ofdm.ofdmdemod(params, rx_ofdmsig);"
   ]
  },
  {
   "cell_type": "code",
   "execution_count": 124,
   "metadata": {},
   "outputs": [],
   "source": [
    "cfr = Ofdm.get_cfr(cir, params.nfft, size(rx_frame,2));"
   ]
  },
  {
   "cell_type": "code",
   "execution_count": 125,
   "metadata": {},
   "outputs": [],
   "source": [
    "cfr_est = Ofdm.channel_estimation(params, rx_frame, tx_frame, indices);"
   ]
  },
  {
   "cell_type": "code",
   "execution_count": 126,
   "metadata": {},
   "outputs": [],
   "source": [
    "cfr_est = zeros(ComplexF64, size(rx_frame)..., size(tx_frame,3));\n",
    "Ofdm.pilot_divide!(cfr_est, rx_frame, tx_frame, indices[:frame])"
   ]
  },
  {
   "cell_type": "code",
   "execution_count": 127,
   "metadata": {},
   "outputs": [],
   "source": [
    "Ofdm.interpolate!(cfr_est, :time, indices[:pilot], indices[:frame])"
   ]
  },
  {
   "cell_type": "code",
   "execution_count": 128,
   "metadata": {},
   "outputs": [
    {
     "name": "stdout",
     "output_type": "stream",
     "text": [
      "knots = [10, 14, 18, 22, 26, 30, 34, 38, 42, 46, 50, 54]\n"
     ]
    }
   ],
   "source": [
    "Ofdm.interpolate!(cfr_est, :freq, indices[:pilot], indices[:frame])"
   ]
  },
  {
   "cell_type": "code",
   "execution_count": 87,
   "metadata": {},
   "outputs": [
    {
     "data": {
      "text/plain": [
       "64-element Array{Complex{Float64},1}:\n",
       "                  0.0 + 0.0im                \n",
       " 0.021371681592895524 - 0.11874796814051293im\n",
       "                  0.0 + 0.0im                \n",
       "                  0.0 + 0.0im                \n",
       "                  0.0 + 0.0im                \n",
       "  -0.1560144840694474 - 0.47245070627027963im\n",
       "                  0.0 + 0.0im                \n",
       "                  0.0 + 0.0im                \n",
       "                  0.0 + 0.0im                \n",
       "  -1.0883242629996754 - 0.18970324074229294im\n",
       "                  0.0 + 0.0im                \n",
       "                  0.0 + 0.0im                \n",
       "                  0.0 + 0.0im                \n",
       "                      ⋮                      \n",
       "                  0.0 + 0.0im                \n",
       "    -0.34286102383515 + 0.11182088461571452im\n",
       "                  0.0 + 0.0im                \n",
       "                  0.0 + 0.0im                \n",
       "                  0.0 + 0.0im                \n",
       "  -0.5087272018378025 + 0.4942214639379776im \n",
       "                  0.0 + 0.0im                \n",
       "                  0.0 + 0.0im                \n",
       "                  0.0 + 0.0im                \n",
       "   0.2848567370029289 + 0.39995036154738206im\n",
       "                  0.0 + 0.0im                \n",
       "                  0.0 + 0.0im                "
      ]
     },
     "execution_count": 87,
     "metadata": {},
     "output_type": "execute_result"
    }
   ],
   "source": [
    "ave_cfr = Ofdm.time_ave_pilot(cfr_est, indices[:pilot], indices[:frame])[:,1,1]"
   ]
  },
  {
   "cell_type": "code",
   "execution_count": 129,
   "metadata": {},
   "outputs": [
    {
     "data": {
      "image/svg+xml": [
       "<?xml version=\"1.0\" encoding=\"utf-8\"?>\n",
       "<svg xmlns=\"http://www.w3.org/2000/svg\" xmlns:xlink=\"http://www.w3.org/1999/xlink\" width=\"600\" height=\"400\" viewBox=\"0 0 2400 1600\">\n",
       "<defs>\n",
       "  <clipPath id=\"clip0000\">\n",
       "    <rect x=\"0\" y=\"0\" width=\"2400\" height=\"1600\"/>\n",
       "  </clipPath>\n",
       "</defs>\n",
       "<path clip-path=\"url(#clip0000)\" d=\"\n",
       "M0 1600 L2400 1600 L2400 0 L0 0  Z\n",
       "  \" fill=\"#ffffff\" fill-rule=\"evenodd\" fill-opacity=\"1\"/>\n",
       "<defs>\n",
       "  <clipPath id=\"clip0001\">\n",
       "    <rect x=\"480\" y=\"0\" width=\"1681\" height=\"1600\"/>\n",
       "  </clipPath>\n",
       "</defs>\n",
       "<path clip-path=\"url(#clip0000)\" d=\"\n",
       "M182.008 1487.47 L2352.76 1487.47 L2352.76 47.2441 L182.008 47.2441  Z\n",
       "  \" fill=\"#ffffff\" fill-rule=\"evenodd\" fill-opacity=\"1\"/>\n",
       "<defs>\n",
       "  <clipPath id=\"clip0002\">\n",
       "    <rect x=\"182\" y=\"47\" width=\"2172\" height=\"1441\"/>\n",
       "  </clipPath>\n",
       "</defs>\n",
       "<polyline clip-path=\"url(#clip0002)\" style=\"stroke:#000000; stroke-width:2; stroke-opacity:0.1; fill:none\" points=\"\n",
       "  210.938,1487.47 210.938,47.2441 \n",
       "  \"/>\n",
       "<polyline clip-path=\"url(#clip0002)\" style=\"stroke:#000000; stroke-width:2; stroke-opacity:0.1; fill:none\" points=\"\n",
       "  535.998,1487.47 535.998,47.2441 \n",
       "  \"/>\n",
       "<polyline clip-path=\"url(#clip0002)\" style=\"stroke:#000000; stroke-width:2; stroke-opacity:0.1; fill:none\" points=\"\n",
       "  861.058,1487.47 861.058,47.2441 \n",
       "  \"/>\n",
       "<polyline clip-path=\"url(#clip0002)\" style=\"stroke:#000000; stroke-width:2; stroke-opacity:0.1; fill:none\" points=\"\n",
       "  1186.12,1487.47 1186.12,47.2441 \n",
       "  \"/>\n",
       "<polyline clip-path=\"url(#clip0002)\" style=\"stroke:#000000; stroke-width:2; stroke-opacity:0.1; fill:none\" points=\"\n",
       "  1511.18,1487.47 1511.18,47.2441 \n",
       "  \"/>\n",
       "<polyline clip-path=\"url(#clip0002)\" style=\"stroke:#000000; stroke-width:2; stroke-opacity:0.1; fill:none\" points=\"\n",
       "  1836.24,1487.47 1836.24,47.2441 \n",
       "  \"/>\n",
       "<polyline clip-path=\"url(#clip0002)\" style=\"stroke:#000000; stroke-width:2; stroke-opacity:0.1; fill:none\" points=\"\n",
       "  2161.3,1487.47 2161.3,47.2441 \n",
       "  \"/>\n",
       "<polyline clip-path=\"url(#clip0002)\" style=\"stroke:#000000; stroke-width:2; stroke-opacity:0.1; fill:none\" points=\"\n",
       "  182.008,1376.92 2352.76,1376.92 \n",
       "  \"/>\n",
       "<polyline clip-path=\"url(#clip0002)\" style=\"stroke:#000000; stroke-width:2; stroke-opacity:0.1; fill:none\" points=\"\n",
       "  182.008,1144.82 2352.76,1144.82 \n",
       "  \"/>\n",
       "<polyline clip-path=\"url(#clip0002)\" style=\"stroke:#000000; stroke-width:2; stroke-opacity:0.1; fill:none\" points=\"\n",
       "  182.008,912.711 2352.76,912.711 \n",
       "  \"/>\n",
       "<polyline clip-path=\"url(#clip0002)\" style=\"stroke:#000000; stroke-width:2; stroke-opacity:0.1; fill:none\" points=\"\n",
       "  182.008,680.607 2352.76,680.607 \n",
       "  \"/>\n",
       "<polyline clip-path=\"url(#clip0002)\" style=\"stroke:#000000; stroke-width:2; stroke-opacity:0.1; fill:none\" points=\"\n",
       "  182.008,448.502 2352.76,448.502 \n",
       "  \"/>\n",
       "<polyline clip-path=\"url(#clip0002)\" style=\"stroke:#000000; stroke-width:2; stroke-opacity:0.1; fill:none\" points=\"\n",
       "  182.008,216.397 2352.76,216.397 \n",
       "  \"/>\n",
       "<polyline clip-path=\"url(#clip0000)\" style=\"stroke:#000000; stroke-width:4; stroke-opacity:1; fill:none\" points=\"\n",
       "  182.008,1487.47 2352.76,1487.47 \n",
       "  \"/>\n",
       "<polyline clip-path=\"url(#clip0000)\" style=\"stroke:#000000; stroke-width:4; stroke-opacity:1; fill:none\" points=\"\n",
       "  182.008,1487.47 182.008,47.2441 \n",
       "  \"/>\n",
       "<polyline clip-path=\"url(#clip0000)\" style=\"stroke:#000000; stroke-width:4; stroke-opacity:1; fill:none\" points=\"\n",
       "  210.938,1487.47 210.938,1470.19 \n",
       "  \"/>\n",
       "<polyline clip-path=\"url(#clip0000)\" style=\"stroke:#000000; stroke-width:4; stroke-opacity:1; fill:none\" points=\"\n",
       "  535.998,1487.47 535.998,1470.19 \n",
       "  \"/>\n",
       "<polyline clip-path=\"url(#clip0000)\" style=\"stroke:#000000; stroke-width:4; stroke-opacity:1; fill:none\" points=\"\n",
       "  861.058,1487.47 861.058,1470.19 \n",
       "  \"/>\n",
       "<polyline clip-path=\"url(#clip0000)\" style=\"stroke:#000000; stroke-width:4; stroke-opacity:1; fill:none\" points=\"\n",
       "  1186.12,1487.47 1186.12,1470.19 \n",
       "  \"/>\n",
       "<polyline clip-path=\"url(#clip0000)\" style=\"stroke:#000000; stroke-width:4; stroke-opacity:1; fill:none\" points=\"\n",
       "  1511.18,1487.47 1511.18,1470.19 \n",
       "  \"/>\n",
       "<polyline clip-path=\"url(#clip0000)\" style=\"stroke:#000000; stroke-width:4; stroke-opacity:1; fill:none\" points=\"\n",
       "  1836.24,1487.47 1836.24,1470.19 \n",
       "  \"/>\n",
       "<polyline clip-path=\"url(#clip0000)\" style=\"stroke:#000000; stroke-width:4; stroke-opacity:1; fill:none\" points=\"\n",
       "  2161.3,1487.47 2161.3,1470.19 \n",
       "  \"/>\n",
       "<polyline clip-path=\"url(#clip0000)\" style=\"stroke:#000000; stroke-width:4; stroke-opacity:1; fill:none\" points=\"\n",
       "  182.008,1376.92 208.057,1376.92 \n",
       "  \"/>\n",
       "<polyline clip-path=\"url(#clip0000)\" style=\"stroke:#000000; stroke-width:4; stroke-opacity:1; fill:none\" points=\"\n",
       "  182.008,1144.82 208.057,1144.82 \n",
       "  \"/>\n",
       "<polyline clip-path=\"url(#clip0000)\" style=\"stroke:#000000; stroke-width:4; stroke-opacity:1; fill:none\" points=\"\n",
       "  182.008,912.711 208.057,912.711 \n",
       "  \"/>\n",
       "<polyline clip-path=\"url(#clip0000)\" style=\"stroke:#000000; stroke-width:4; stroke-opacity:1; fill:none\" points=\"\n",
       "  182.008,680.607 208.057,680.607 \n",
       "  \"/>\n",
       "<polyline clip-path=\"url(#clip0000)\" style=\"stroke:#000000; stroke-width:4; stroke-opacity:1; fill:none\" points=\"\n",
       "  182.008,448.502 208.057,448.502 \n",
       "  \"/>\n",
       "<polyline clip-path=\"url(#clip0000)\" style=\"stroke:#000000; stroke-width:4; stroke-opacity:1; fill:none\" points=\"\n",
       "  182.008,216.397 208.057,216.397 \n",
       "  \"/>\n",
       "<g clip-path=\"url(#clip0000)\">\n",
       "<text style=\"fill:#000000; fill-opacity:1; font-family:Arial,Helvetica Neue,Helvetica,sans-serif; font-size:48px; text-anchor:middle;\" transform=\"rotate(0, 210.938, 1541.47)\" x=\"210.938\" y=\"1541.47\">0</text>\n",
       "</g>\n",
       "<g clip-path=\"url(#clip0000)\">\n",
       "<text style=\"fill:#000000; fill-opacity:1; font-family:Arial,Helvetica Neue,Helvetica,sans-serif; font-size:48px; text-anchor:middle;\" transform=\"rotate(0, 535.998, 1541.47)\" x=\"535.998\" y=\"1541.47\">10</text>\n",
       "</g>\n",
       "<g clip-path=\"url(#clip0000)\">\n",
       "<text style=\"fill:#000000; fill-opacity:1; font-family:Arial,Helvetica Neue,Helvetica,sans-serif; font-size:48px; text-anchor:middle;\" transform=\"rotate(0, 861.058, 1541.47)\" x=\"861.058\" y=\"1541.47\">20</text>\n",
       "</g>\n",
       "<g clip-path=\"url(#clip0000)\">\n",
       "<text style=\"fill:#000000; fill-opacity:1; font-family:Arial,Helvetica Neue,Helvetica,sans-serif; font-size:48px; text-anchor:middle;\" transform=\"rotate(0, 1186.12, 1541.47)\" x=\"1186.12\" y=\"1541.47\">30</text>\n",
       "</g>\n",
       "<g clip-path=\"url(#clip0000)\">\n",
       "<text style=\"fill:#000000; fill-opacity:1; font-family:Arial,Helvetica Neue,Helvetica,sans-serif; font-size:48px; text-anchor:middle;\" transform=\"rotate(0, 1511.18, 1541.47)\" x=\"1511.18\" y=\"1541.47\">40</text>\n",
       "</g>\n",
       "<g clip-path=\"url(#clip0000)\">\n",
       "<text style=\"fill:#000000; fill-opacity:1; font-family:Arial,Helvetica Neue,Helvetica,sans-serif; font-size:48px; text-anchor:middle;\" transform=\"rotate(0, 1836.24, 1541.47)\" x=\"1836.24\" y=\"1541.47\">50</text>\n",
       "</g>\n",
       "<g clip-path=\"url(#clip0000)\">\n",
       "<text style=\"fill:#000000; fill-opacity:1; font-family:Arial,Helvetica Neue,Helvetica,sans-serif; font-size:48px; text-anchor:middle;\" transform=\"rotate(0, 2161.3, 1541.47)\" x=\"2161.3\" y=\"1541.47\">60</text>\n",
       "</g>\n",
       "<g clip-path=\"url(#clip0000)\">\n",
       "<text style=\"fill:#000000; fill-opacity:1; font-family:Arial,Helvetica Neue,Helvetica,sans-serif; font-size:48px; text-anchor:end;\" transform=\"rotate(0, 158.008, 1394.42)\" x=\"158.008\" y=\"1394.42\">-0.5</text>\n",
       "</g>\n",
       "<g clip-path=\"url(#clip0000)\">\n",
       "<text style=\"fill:#000000; fill-opacity:1; font-family:Arial,Helvetica Neue,Helvetica,sans-serif; font-size:48px; text-anchor:end;\" transform=\"rotate(0, 158.008, 1162.32)\" x=\"158.008\" y=\"1162.32\">0.0</text>\n",
       "</g>\n",
       "<g clip-path=\"url(#clip0000)\">\n",
       "<text style=\"fill:#000000; fill-opacity:1; font-family:Arial,Helvetica Neue,Helvetica,sans-serif; font-size:48px; text-anchor:end;\" transform=\"rotate(0, 158.008, 930.211)\" x=\"158.008\" y=\"930.211\">0.5</text>\n",
       "</g>\n",
       "<g clip-path=\"url(#clip0000)\">\n",
       "<text style=\"fill:#000000; fill-opacity:1; font-family:Arial,Helvetica Neue,Helvetica,sans-serif; font-size:48px; text-anchor:end;\" transform=\"rotate(0, 158.008, 698.107)\" x=\"158.008\" y=\"698.107\">1.0</text>\n",
       "</g>\n",
       "<g clip-path=\"url(#clip0000)\">\n",
       "<text style=\"fill:#000000; fill-opacity:1; font-family:Arial,Helvetica Neue,Helvetica,sans-serif; font-size:48px; text-anchor:end;\" transform=\"rotate(0, 158.008, 466.002)\" x=\"158.008\" y=\"466.002\">1.5</text>\n",
       "</g>\n",
       "<g clip-path=\"url(#clip0000)\">\n",
       "<text style=\"fill:#000000; fill-opacity:1; font-family:Arial,Helvetica Neue,Helvetica,sans-serif; font-size:48px; text-anchor:end;\" transform=\"rotate(0, 158.008, 233.897)\" x=\"158.008\" y=\"233.897\">2.0</text>\n",
       "</g>\n",
       "<polyline clip-path=\"url(#clip0002)\" style=\"stroke:#009af9; stroke-width:4; stroke-opacity:1; fill:none\" points=\"\n",
       "  243.444,357.184 275.95,432.422 308.456,498.954 340.962,518.647 373.468,492.215 405.974,458.303 438.48,468.736 470.986,556.022 503.492,713.649 535.998,900.743 \n",
       "  568.504,1066.64 601.01,1178.68 633.516,1235.93 666.022,1261.96 698.528,1283.76 731.034,1312.08 763.54,1335.38 796.046,1329.51 828.552,1274.86 861.058,1169.33 \n",
       "  893.563,1030.38 926.069,887.487 958.575,771.929 991.081,709.557 1023.59,717.483 1056.09,801.449 1088.6,951.429 1121.11,1137.69 1153.61,1313.31 1186.12,1427.46 \n",
       "  1218.62,1446.71 1251.13,1373.6 1283.63,1249.92 1316.14,1139.33 1348.65,1096.37 1381.15,1138.65 1413.66,1238.91 1446.16,1342.18 1478.67,1397.97 1511.18,1388.1 \n",
       "  1543.68,1333.5 1576.19,1277.04 1608.69,1254.6 1641.2,1273.61 1673.71,1312.06 1706.21,1336.62 1738.72,1326.08 1771.22,1283.56 1803.73,1230.44 1836.24,1188.2 \n",
       "  1868.74,1162.69 1901.25,1142.36 1933.75,1110.76 1966.26,1062.36 1998.77,1008.33 2031.27,966.986 2063.78,946.058 2096.28,931.233 2128.79,891.69 2161.3,800.952 \n",
       "  2193.8,659.142 2226.31,500.015 2258.81,375.581 2291.32,326.505 \n",
       "  \"/>\n",
       "<polyline clip-path=\"url(#clip0002)\" style=\"stroke:#e26f46; stroke-width:4; stroke-opacity:1; fill:none\" points=\"\n",
       "  243.444,88.0053 275.95,178.309 308.456,268.614 340.962,358.918 373.468,449.222 405.974,539.526 438.48,629.83 470.986,720.134 503.492,810.439 535.998,900.743 \n",
       "  568.504,991.047 601.01,1081.35 633.516,1171.66 666.022,1261.96 698.528,1278.85 731.034,1295.73 763.54,1312.62 796.046,1329.51 828.552,1219 861.058,1108.5 \n",
       "  893.563,997.992 926.069,887.487 958.575,865.977 991.081,844.468 1023.59,822.959 1056.09,801.449 1088.6,957.952 1121.11,1114.45 1153.61,1270.96 1186.12,1427.46 \n",
       "  1218.62,1355.43 1251.13,1283.4 1283.63,1211.36 1316.14,1139.33 1348.65,1190.04 1381.15,1240.76 1413.66,1291.47 1446.16,1342.18 1478.67,1325.9 1511.18,1309.61 \n",
       "  1543.68,1293.33 1576.19,1277.04 1608.69,1291.94 1641.2,1306.83 1673.71,1321.73 1706.21,1336.62 1738.72,1299.52 1771.22,1262.41 1803.73,1225.31 1836.24,1188.2 \n",
       "  1868.74,1156.74 1901.25,1125.28 1933.75,1093.82 1966.26,1062.36 1998.77,1030.9 2031.27,999.444 2063.78,967.985 2096.28,936.526 2128.79,905.067 2161.3,873.607 \n",
       "  2193.8,842.148 2226.31,810.689 2258.81,779.229 2291.32,747.77 \n",
       "  \"/>\n",
       "<path clip-path=\"url(#clip0000)\" d=\"\n",
       "M1989.93 312.204 L2280.76 312.204 L2280.76 130.764 L1989.93 130.764  Z\n",
       "  \" fill=\"#ffffff\" fill-rule=\"evenodd\" fill-opacity=\"1\"/>\n",
       "<polyline clip-path=\"url(#clip0000)\" style=\"stroke:#000000; stroke-width:4; stroke-opacity:1; fill:none\" points=\"\n",
       "  1989.93,312.204 2280.76,312.204 2280.76,130.764 1989.93,130.764 1989.93,312.204 \n",
       "  \"/>\n",
       "<polyline clip-path=\"url(#clip0000)\" style=\"stroke:#009af9; stroke-width:4; stroke-opacity:1; fill:none\" points=\"\n",
       "  2013.93,191.244 2157.93,191.244 \n",
       "  \"/>\n",
       "<g clip-path=\"url(#clip0000)\">\n",
       "<text style=\"fill:#000000; fill-opacity:1; font-family:Arial,Helvetica Neue,Helvetica,sans-serif; font-size:48px; text-anchor:start;\" transform=\"rotate(0, 2181.93, 208.744)\" x=\"2181.93\" y=\"208.744\">y1</text>\n",
       "</g>\n",
       "<polyline clip-path=\"url(#clip0000)\" style=\"stroke:#e26f46; stroke-width:4; stroke-opacity:1; fill:none\" points=\"\n",
       "  2013.93,251.724 2157.93,251.724 \n",
       "  \"/>\n",
       "<g clip-path=\"url(#clip0000)\">\n",
       "<text style=\"fill:#000000; fill-opacity:1; font-family:Arial,Helvetica Neue,Helvetica,sans-serif; font-size:48px; text-anchor:start;\" transform=\"rotate(0, 2181.93, 269.224)\" x=\"2181.93\" y=\"269.224\">y2</text>\n",
       "</g>\n",
       "</svg>\n"
      ]
     },
     "execution_count": 129,
     "metadata": {},
     "output_type": "execute_result"
    }
   ],
   "source": [
    "plot(real(cfr[:,1,1,1]))\n",
    "plot!(real(cfr_est[:,1,1,1]))"
   ]
  },
  {
   "cell_type": "code",
   "execution_count": null,
   "metadata": {},
   "outputs": [],
   "source": []
  }
 ],
 "metadata": {
  "kernelspec": {
   "display_name": "Julia 1.2.0",
   "language": "julia",
   "name": "julia-1.2"
  },
  "language_info": {
   "file_extension": ".jl",
   "mimetype": "application/julia",
   "name": "julia",
   "version": "1.2.0"
  }
 },
 "nbformat": 4,
 "nbformat_minor": 4
}
