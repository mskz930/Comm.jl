{
 "cells": [
  {
   "cell_type": "code",
   "execution_count": 113,
   "metadata": {},
   "outputs": [
    {
     "name": "stderr",
     "output_type": "stream",
     "text": [
      "WARNING: replacing module Ofdm.\n",
      "WARNING: replacing module Channel.\n"
     ]
    }
   ],
   "source": [
    "include(\"../../../Ofdm.jl\")\n",
    "include(\"../../../../../Channel/Channel.jl\")\n",
    "using Plots, LinearAlgebra, FFTW"
   ]
  },
  {
   "cell_type": "code",
   "execution_count": 134,
   "metadata": {},
   "outputs": [],
   "source": [
    "# 変調パラメータ\n",
    "nbits = 2000\n",
    "M = 4\n",
    "qam = Ofdm.QamMod(M)\n",
    "nfft=64; cpsize=16; npi=16; ngc=0; ndim=(2,2)\n",
    "params = Ofdm.OfdmParams(nfft,cpsize,npi,ngc,ndim; pilot_type=:comb, pilot_space=4, pilot_interval=2)\n",
    "indices = Ofdm.get_indices(params)\n",
    "tx_frame = Ofdm.gen_frame(params, indices, 20);"
   ]
  },
  {
   "cell_type": "code",
   "execution_count": 143,
   "metadata": {},
   "outputs": [],
   "source": [
    "# 通信路パラメータ\n",
    "N0 = 10^(-30/10)\n",
    "pdp = Channel.exponent(10,20);"
   ]
  },
  {
   "cell_type": "code",
   "execution_count": 144,
   "metadata": {},
   "outputs": [],
   "source": [
    "# 送信機\n",
    "tx_bit = rand(nbits) .> 0.5\n",
    "tx_symbol = Ofdm.qammod(qam, tx_bit)\n",
    "tx_ofdmsig = Ofdm.ofdmmod(params, tx_frame, tx_symbol, indices);"
   ]
  },
  {
   "cell_type": "code",
   "execution_count": 145,
   "metadata": {},
   "outputs": [],
   "source": [
    "# 通信路\n",
    "rx_ofdmsig, cir = Channel.multipath_fading(tx_ofdmsig, ndim, pdp, istail=false)\n",
    "rx_ofdmsig = Channel.awgn!(rx_ofdmsig, N0);\n",
    "# 受信機\n",
    "rx_frame = Ofdm.ofdmdemod(params, rx_ofdmsig);"
   ]
  },
  {
   "cell_type": "code",
   "execution_count": 146,
   "metadata": {},
   "outputs": [
    {
     "data": {
      "text/plain": [
       "chest (generic function with 1 method)"
      ]
     },
     "execution_count": 146,
     "metadata": {},
     "output_type": "execute_result"
    }
   ],
   "source": [
    "# チャネル推定\n",
    "function chest(params, rx_frame, tx_frame, indices)\n",
    "    cfr_est = zeros(ComplexF64, size(rx_frame)..., size(tx_frame,3)); # チャネル推定配列\n",
    "    Ofdm.pilot_divide!(cfr_est, rx_frame, tx_frame, indices[:frame])\n",
    "    # Ofdm.interpolate!(cfr_est, :time, indices[:pilot], indices[:frame])\n",
    "    # Ofdm.interpolate!(cfr_est, :freq, indices[:pilot], indices[:frame])\n",
    "    ave_cfr = Ofdm.time_ave_pilot(cfr_est, indices[:pilot], indices[:frame])\n",
    "    F = fft!(Array{ComplexF64}(I, params.nfft, params.nfft),1)\n",
    "    pind = sort(vec(indices[:pilot]))\n",
    "    cir_est = zeros(eltype(ave_cfr), params.cpsize, size(ave_cfr,2), size(ave_cfr,3))\n",
    "    for n in axes(ave_cfr,2)\n",
    "        for m in axes(ave_cfr,3)\n",
    "            cir_est[:,m,n] = Ofdm.cir_est(view(ave_cfr,:,m,n), F, pind, 1:params.cpsize, method=:LS)\n",
    "        end\n",
    "    end\n",
    "    return Ofdm.get_cfr(cir_est, params.nfft, size(rx_frame,2))\n",
    "end"
   ]
  },
  {
   "cell_type": "code",
   "execution_count": 147,
   "metadata": {},
   "outputs": [],
   "source": [
    "cfr_est = chest(params, rx_frame, tx_frame, indices);"
   ]
  },
  {
   "cell_type": "code",
   "execution_count": null,
   "metadata": {},
   "outputs": [],
   "source": []
  },
  {
   "cell_type": "code",
   "execution_count": 150,
   "metadata": {},
   "outputs": [
    {
     "data": {
      "text/plain": [
       "1000-element Array{Complex{Float64},1}:\n",
       "  0.7164924318151754 - 0.7670406732481917im\n",
       "  0.7099390136846984 - 0.7156903562443278im\n",
       " -0.7384450604735814 + 0.7187836223280406im\n",
       "  0.6978134163333914 + 0.6830652532516238im\n",
       " -0.7094079905083225 - 0.6921169398662447im\n",
       "  0.6978231051591794 + 0.7090843787028213im\n",
       " -0.7102868687025231 - 0.6756324507438708im\n",
       " -0.6845792826757122 + 0.7154847761865599im\n",
       "  -0.675881126295887 - 0.7056964316611545im\n",
       "  0.6713588002209978 + 0.7014071453828643im\n",
       " -0.6998039072571084 - 0.7326689187297604im\n",
       "  0.6184251418651441 + 0.7708874705745897im\n",
       " -0.7086115094643592 - 0.6770518961907037im\n",
       "                     ⋮                     \n",
       "  0.7658286345691587 - 0.6994880483731013im\n",
       " -0.7275484713146811 + 0.7156063783966861im\n",
       " -0.7454350154670395 + 0.7280806501842829im\n",
       " -0.7327983800799792 - 0.7036245537139494im\n",
       "  0.7425416155437516 + 0.6352236619476539im\n",
       "  0.7368004964601931 + 0.7039817796768824im\n",
       " -0.7067913721526119 + 0.7204444704463691im\n",
       " -0.7051132190990932 + 0.7215793911476784im\n",
       "  0.7328742797185963 - 0.7038627261572592im\n",
       "  0.7172789583763033 + 0.7074104904013306im\n",
       " -0.7388106149714778 - 0.6955493380932412im\n",
       "  0.7251413366092127 + 0.7205314952404833im"
      ]
     },
     "execution_count": 150,
     "metadata": {},
     "output_type": "execute_result"
    }
   ],
   "source": [
    "cfr_est = chest(params, rx_frame, tx_frame, indices);\n",
    "rx_symbol = Ofdm.equalize(rx_frame, cfr_est, indices[:frame], N0,method=:MMSE)"
   ]
  },
  {
   "cell_type": "code",
   "execution_count": 133,
   "metadata": {},
   "outputs": [
    {
     "data": {
      "text/plain": [
       "81"
      ]
     },
     "execution_count": 133,
     "metadata": {},
     "output_type": "execute_result"
    }
   ],
   "source": [
    "rx_bit = Ofdm.qamdemod(qam, rx_symbol);\n",
    "sum(tx_bit .!== rx_bit)"
   ]
  }
 ],
 "metadata": {
  "kernelspec": {
   "display_name": "Julia 1.2.0",
   "language": "julia",
   "name": "julia-1.2"
  },
  "language_info": {
   "file_extension": ".jl",
   "mimetype": "application/julia",
   "name": "julia",
   "version": "1.2.0"
  }
 },
 "nbformat": 4,
 "nbformat_minor": 4
}
