{
 "cells": [
  {
   "cell_type": "code",
   "execution_count": 74,
   "metadata": {},
   "outputs": [
    {
     "name": "stderr",
     "output_type": "stream",
     "text": [
      "WARNING: replacing module Ofdm.\n",
      "WARNING: replacing module Channel.\n"
     ]
    }
   ],
   "source": [
    "include(\"../../../Ofdm.jl\")\n",
    "include(\"../../../../../Channel/Channel.jl\")\n",
    "using Plots, LinearAlgebra, FFTW"
   ]
  },
  {
   "cell_type": "code",
   "execution_count": 77,
   "metadata": {},
   "outputs": [],
   "source": [
    "# 変調パラメータ\n",
    "nbits = 2000\n",
    "M = 4\n",
    "qam = Ofdm.QamMod(M)\n",
    "nfft=64; cpsize=16; npi=16; ngc=0; ndim=(2,2)\n",
    "params = Ofdm.OfdmParams(nfft,cpsize,npi,ngc,ndim; pilot_type=:comb, pilot_space=4, pilot_interval=2)\n",
    "indices = Ofdm.get_indices(params)\n",
    "tx_frame = Ofdm.gen_frame(params, indices, 20);"
   ]
  },
  {
   "cell_type": "code",
   "execution_count": 78,
   "metadata": {},
   "outputs": [],
   "source": [
    "# 通信路パラメータ\n",
    "N0 = 10^(-10/10)\n",
    "pdp = Channel.exponent(10,20);"
   ]
  },
  {
   "cell_type": "code",
   "execution_count": 79,
   "metadata": {},
   "outputs": [],
   "source": [
    "# 送信機\n",
    "tx_bit = rand(nbits) .> 0.5\n",
    "tx_symbol = Ofdm.qammod(qam, tx_bit)\n",
    "tx_ofdmsig = Ofdm.ofdmmod(params, tx_frame, tx_symbol, indices);"
   ]
  },
  {
   "cell_type": "code",
   "execution_count": 80,
   "metadata": {},
   "outputs": [],
   "source": [
    "# 通信路\n",
    "rx_ofdmsig, cir = Channel.multipath_fading(tx_ofdmsig, ndim, pdp, istail=false)\n",
    "rx_ofdmsig = Channel.awgn!(rx_ofdmsig, N0);\n",
    "# 受信機\n",
    "rx_frame = Ofdm.ofdmdemod(params, rx_ofdmsig);"
   ]
  },
  {
   "cell_type": "code",
   "execution_count": 81,
   "metadata": {},
   "outputs": [
    {
     "data": {
      "text/plain": [
       "chest (generic function with 1 method)"
      ]
     },
     "execution_count": 81,
     "metadata": {},
     "output_type": "execute_result"
    }
   ],
   "source": [
    "# チャネル推定\n",
    "function chest(params, rx_frame, tx_frame, indices)\n",
    "    cfr_est = zeros(ComplexF64, size(rx_frame)..., size(tx_frame,3)); # チャネル推定配列\n",
    "    Ofdm.pilot_divide!(cfr_est, rx_frame, tx_frame, indices[:frame])\n",
    "    # Ofdm.interpolate!(cfr_est, :time, indices[:pilot], indices[:frame])\n",
    "    # Ofdm.interpolate!(cfr_est, :freq, indices[:pilot], indices[:frame])\n",
    "    ave_cfr = Ofdm.time_ave_pilot(cfr_est, indices[:pilot], indices[:frame])\n",
    "    F = fft!(Array{ComplexF64}(I, params.nfft, params.nfft),1)\n",
    "    pind = sort(vec(indices[:pilot]))\n",
    "    cir_est = zeros(eltype(ave_cfr), params.cpsize, size(ave_cfr,2), size(ave_cfr,3))\n",
    "    for n in axes(ave_cfr,2)\n",
    "        for m in axes(ave_cfr,3)\n",
    "            cir_est[:,m,n] = Ofdm.cir_est(view(ave_cfr,:,m,n), F, pind, 1:params.cpsize, method=:LS)\n",
    "        end\n",
    "    end\n",
    "    return Ofdm.get_cfr(cir_est, params.nfft, size(rx_frame,2))\n",
    "end"
   ]
  },
  {
   "cell_type": "code",
   "execution_count": 82,
   "metadata": {},
   "outputs": [],
   "source": [
    "cfr_est = chest(params, rx_frame, tx_frame, indices);"
   ]
  },
  {
   "cell_type": "code",
   "execution_count": 83,
   "metadata": {},
   "outputs": [],
   "source": [
    "cfr = Ofdm.get_cfr(cir, 64, 10);"
   ]
  },
  {
   "cell_type": "code",
   "execution_count": 85,
   "metadata": {},
   "outputs": [
    {
     "ename": "MethodError",
     "evalue": "MethodError: no method matching view(::Float64, ::Colon, ::UnitRange{Int64}, ::Int64)\nClosest candidates are:\n  view(!Matched::AbstractArray, ::Any...) where N at subarray.jl:155",
     "output_type": "error",
     "traceback": [
      "MethodError: no method matching view(::Float64, ::Colon, ::UnitRange{Int64}, ::Int64)\nClosest candidates are:\n  view(!Matched::AbstractArray, ::Any...) where N at subarray.jl:155",
      "",
      "Stacktrace:",
      " [1] equalize(::Array{Complex{Float64},3}, ::Array{Complex{Float64},4}, ::Array{Int64,3}, ::Float64, ::Symbol) at C:\\Users\\Masakazu\\Google ドライブ\\program\\Julia\\Mymodule\\Commun\\Modulation\\ofdm\\channel_equalization.jl:16",
      " [2] top-level scope at In[85]:1"
     ]
    }
   ],
   "source": [
    "Ofdm.equalize(rx_frame, cfr_est, indices[:frame], N0, :MMSE)"
   ]
  },
  {
   "cell_type": "code",
   "execution_count": 65,
   "metadata": {},
   "outputs": [
    {
     "ename": "MethodError",
     "evalue": "MethodError: no method matching qamdemod(::Main.Ofdm.Modulation.QamMod, ::Array{Complex{Float64},1})\nClosest candidates are:\n  qamdemod(!Matched::Main.Ofdm.Modulation.QamMod, ::AbstractArray) at C:\\Users\\Masakazu\\Google ドライブ\\program\\Julia\\Mymodule\\Commun\\Modulation\\qam.jl:74\n  qamdemod(!Matched::Main.Ofdm.Modulation.QamMod, ::AbstractArray, !Matched::Any) at C:\\Users\\Masakazu\\Google ドライブ\\program\\Julia\\Mymodule\\Commun\\Modulation\\qam.jl:75\n  qamdemod(!Matched::AbstractArray{#s17,N} where N where #s17<:Complex, ::Any, !Matched::Integer; isnorm, isgray, origin) at C:\\Users\\Masakazu\\Google ドライブ\\program\\Julia\\Mymodule\\Commun\\Modulation\\qam.jl:93",
     "output_type": "error",
     "traceback": [
      "MethodError: no method matching qamdemod(::Main.Ofdm.Modulation.QamMod, ::Array{Complex{Float64},1})\nClosest candidates are:\n  qamdemod(!Matched::Main.Ofdm.Modulation.QamMod, ::AbstractArray) at C:\\Users\\Masakazu\\Google ドライブ\\program\\Julia\\Mymodule\\Commun\\Modulation\\qam.jl:74\n  qamdemod(!Matched::Main.Ofdm.Modulation.QamMod, ::AbstractArray, !Matched::Any) at C:\\Users\\Masakazu\\Google ドライブ\\program\\Julia\\Mymodule\\Commun\\Modulation\\qam.jl:75\n  qamdemod(!Matched::AbstractArray{#s17,N} where N where #s17<:Complex, ::Any, !Matched::Integer; isnorm, isgray, origin) at C:\\Users\\Masakazu\\Google ドライブ\\program\\Julia\\Mymodule\\Commun\\Modulation\\qam.jl:93",
      "",
      "Stacktrace:",
      " [1] top-level scope at In[65]:1"
     ]
    }
   ],
   "source": [
    "rx_bit = Ofdm.qamdemod(qam, rx_symbol);"
   ]
  },
  {
   "cell_type": "code",
   "execution_count": 188,
   "metadata": {},
   "outputs": [
    {
     "data": {
      "text/plain": [
       "0"
      ]
     },
     "execution_count": 188,
     "metadata": {},
     "output_type": "execute_result"
    }
   ],
   "source": [
    "sum(tx_bit .!== rx_bit)"
   ]
  },
  {
   "cell_type": "code",
   "execution_count": 11,
   "metadata": {},
   "outputs": [
    {
     "name": "stderr",
     "output_type": "stream",
     "text": [
      "WARNING: using BenchmarkTools.params in module Main conflicts with an existing identifier.\n"
     ]
    }
   ],
   "source": [
    "using BenchmarkTools"
   ]
  },
  {
   "cell_type": "code",
   "execution_count": 62,
   "metadata": {},
   "outputs": [
    {
     "data": {
      "text/plain": [
       "mimo_detection (generic function with 1 method)"
      ]
     },
     "execution_count": 62,
     "metadata": {},
     "output_type": "execute_result"
    }
   ],
   "source": [
    "Ofdm.mimo_detection"
   ]
  },
  {
   "cell_type": "code",
   "execution_count": 63,
   "metadata": {},
   "outputs": [
    {
     "data": {
      "text/plain": [
       "2×500 Array{Complex{Float64},2}:\n",
       " 0.568276+0.270933im  -1.30328-0.900095im  …  -0.395513-1.34545im \n",
       "  2.53292+0.844137im  0.635908+0.622126im      -1.08926+0.152128im"
      ]
     },
     "execution_count": 63,
     "metadata": {},
     "output_type": "execute_result"
    }
   ],
   "source": [
    "y = randn(ComplexF64,2,500); H = randn(ComplexF64, 2,2,500);\n",
    "Ofdm.mimo_detection(y,H,Ofdm.MIMO.zf)"
   ]
  },
  {
   "cell_type": "code",
   "execution_count": null,
   "metadata": {},
   "outputs": [],
   "source": []
  }
 ],
 "metadata": {
  "kernelspec": {
   "display_name": "Julia 1.3.0",
   "language": "julia",
   "name": "julia-1.3"
  },
  "language_info": {
   "file_extension": ".jl",
   "mimetype": "application/julia",
   "name": "julia",
   "version": "1.3.0"
  }
 },
 "nbformat": 4,
 "nbformat_minor": 4
}
