{
 "cells": [
  {
   "cell_type": "code",
   "execution_count": 88,
   "metadata": {},
   "outputs": [
    {
     "name": "stderr",
     "output_type": "stream",
     "text": [
      "WARNING: replacing module Ofdm.\n",
      "WARNING: replacing module Channel.\n"
     ]
    }
   ],
   "source": [
    "include(\"../../../Ofdm.jl\")\n",
    "include(\"../../../../../Channel/Channel.jl\")\n",
    "using Plots, LinearAlgebra, FFTW, BenchmarkTools"
   ]
  },
  {
   "cell_type": "code",
   "execution_count": 89,
   "metadata": {},
   "outputs": [],
   "source": [
    "# 変調パラメータ\n",
    "nbits=2000\n",
    "M = 4; qam = Ofdm.QamMod(M)\n",
    "nfft=64; cpsize=16; ndim=(2,2); npi=16; ngc=0;\n",
    "params = Ofdm.OfdmParams(nfft,cpsize,npi,ngc,ndim;pilot_type=:comb, pilot_space=4, pilot_interval=2)\n",
    "indices = Ofdm.get_indices(params)\n",
    "tx_frame = Ofdm.gen_frame(params, indices, 20);"
   ]
  },
  {
   "cell_type": "code",
   "execution_count": 90,
   "metadata": {},
   "outputs": [
    {
     "data": {
      "text/plain": [
       "chest (generic function with 1 method)"
      ]
     },
     "execution_count": 90,
     "metadata": {},
     "output_type": "execute_result"
    }
   ],
   "source": [
    "# チャネル推定\n",
    "function chest(params, rx_frame, tx_frame, indices)\n",
    "    cfr_est = zeros(ComplexF64, size(rx_frame)..., size(tx_frame,3)); # チャネル推定配列\n",
    "    Ofdm.pilot_divide!(cfr_est, rx_frame, tx_frame, indices[:frame])\n",
    "    # Ofdm.interpolate!(cfr_est, :time, indices[:pilot], indices[:frame])\n",
    "    # Ofdm.interpolate!(cfr_est, :freq, indices[:pilot], indices[:frame])\n",
    "    ave_cfr = Ofdm.time_ave_pilot(cfr_est, indices[:pilot], indices[:frame])\n",
    "    F = fft!(Array{ComplexF64}(I, params.nfft, params.nfft),1)\n",
    "    pind = sort(vec(indices[:pilot]))\n",
    "    cir_est = zeros(eltype(ave_cfr), params.cpsize, size(ave_cfr,2), size(ave_cfr,3))\n",
    "    for n in axes(ave_cfr,2)\n",
    "        for m in axes(ave_cfr,3)\n",
    "            cir_est[:,m,n] = Ofdm.cir_est(view(ave_cfr,:,m,n), F, pind, 1:params.cpsize, method=:LS)\n",
    "        end\n",
    "    end\n",
    "    return Ofdm.get_cfr(cir_est, params.nfft, size(rx_frame,2))\n",
    "end"
   ]
  },
  {
   "cell_type": "code",
   "execution_count": 102,
   "metadata": {},
   "outputs": [
    {
     "data": {
      "text/plain": [
       "main (generic function with 1 method)"
      ]
     },
     "execution_count": 102,
     "metadata": {},
     "output_type": "execute_result"
    }
   ],
   "source": [
    "function main(snrdB)\n",
    "    # 通信路パラメータ\n",
    "    pdp = Channel.exponent(10,20);\n",
    "    N0 = 10^(-snrdB/10)    \n",
    "    numbits=0; errors=0\n",
    "    while (numbits<4e5)\n",
    "        # 送信機\n",
    "        tx_bit = rand(nbits) .> 0.5\n",
    "        tx_symbol = Ofdm.qammod(qam, tx_bit)\n",
    "        tx_ofdmsig = Ofdm.ofdmmod(params, tx_frame, tx_symbol, indices);\n",
    "        # 通信路\n",
    "        rx_ofdmsig, cir = Channel.multipath_fading(tx_ofdmsig, ndim, pdp, istail=false)\n",
    "        rx_ofdmsig = Channel.awgn!(rx_ofdmsig, N0);\n",
    "        # 受信機\n",
    "        rx_frame = Ofdm.ofdmdemod(params, rx_ofdmsig);\n",
    "        cfr = Ofdm.get_cfr(cir, params.nfft, size(rx_frame,2))\n",
    "        cfr_est = chest(params, rx_frame, tx_frame, indices);\n",
    "        #rx_symbol = Ofdm.equalize(rx_frame, cfr, indices[:frame], N0, :QRMLD, qam.ref, 4);\n",
    "        rx_symbol = Ofdm.equalize(rx_frame, cfr_est, indices[:frame], N0, :ZF);\n",
    "        rx_bit = Ofdm.qamdemod(qam, rx_symbol);\n",
    "        errors += sum(tx_bit .!== rx_bit)\n",
    "        numbits += nbits\n",
    "    end\n",
    "    ber = errors/numbits\n",
    "    @show snrdB, ber\n",
    "    return ber\n",
    "end"
   ]
  },
  {
   "cell_type": "code",
   "execution_count": 103,
   "metadata": {},
   "outputs": [
    {
     "data": {
      "text/plain": [
       "7-element Array{Float64,1}:\n",
       " 0.0\n",
       " 0.0\n",
       " 0.0\n",
       " 0.0\n",
       " 0.0\n",
       " 0.0\n",
       " 0.0"
      ]
     },
     "execution_count": 103,
     "metadata": {},
     "output_type": "execute_result"
    }
   ],
   "source": [
    "snrdBs = Vector(0:5:30)\n",
    "ber_results = zeros(size(snrdBs))"
   ]
  },
  {
   "cell_type": "code",
   "execution_count": 104,
   "metadata": {},
   "outputs": [
    {
     "name": "stdout",
     "output_type": "stream",
     "text": [
      "(snrdB, ber) = (0, 0.283165)\n",
      "(snrdB, ber) = (5, 0.16086)\n",
      "(snrdB, ber) = (10, 0.0688675)\n",
      "(snrdB, ber) = (15, 0.0259475)\n",
      "(snrdB, ber) = (20, 0.0099225)\n",
      "(snrdB, ber) = (25, 0.0031125)\n",
      "(snrdB, ber) = (30, 0.0008)\n"
     ]
    }
   ],
   "source": [
    "for (n,snrdB) in enumerate(snrdBs)\n",
    "    ber_results[n] = main(snrdB)\n",
    "end"
   ]
  },
  {
   "cell_type": "code",
   "execution_count": 110,
   "metadata": {},
   "outputs": [
    {
     "data": {
      "image/svg+xml": [
       "<?xml version=\"1.0\" encoding=\"utf-8\"?>\n",
       "<svg xmlns=\"http://www.w3.org/2000/svg\" xmlns:xlink=\"http://www.w3.org/1999/xlink\" width=\"600\" height=\"400\" viewBox=\"0 0 2400 1600\">\n",
       "<defs>\n",
       "  <clipPath id=\"clip8600\">\n",
       "    <rect x=\"0\" y=\"0\" width=\"2400\" height=\"1600\"/>\n",
       "  </clipPath>\n",
       "</defs>\n",
       "<path clip-path=\"url(#clip8600)\" d=\"\n",
       "M0 1600 L2400 1600 L2400 0 L0 0  Z\n",
       "  \" fill=\"#ffffff\" fill-rule=\"evenodd\" fill-opacity=\"1\"/>\n",
       "<defs>\n",
       "  <clipPath id=\"clip8601\">\n",
       "    <rect x=\"480\" y=\"0\" width=\"1681\" height=\"1600\"/>\n",
       "  </clipPath>\n",
       "</defs>\n",
       "<path clip-path=\"url(#clip8600)\" d=\"\n",
       "M217.964 1487.47 L2352.76 1487.47 L2352.76 47.2441 L217.964 47.2441  Z\n",
       "  \" fill=\"#ffffff\" fill-rule=\"evenodd\" fill-opacity=\"1\"/>\n",
       "<defs>\n",
       "  <clipPath id=\"clip8602\">\n",
       "    <rect x=\"217\" y=\"47\" width=\"2136\" height=\"1441\"/>\n",
       "  </clipPath>\n",
       "</defs>\n",
       "<polyline clip-path=\"url(#clip8602)\" style=\"stroke:#000000; stroke-width:2; stroke-opacity:0.1; fill:none\" points=\"\n",
       "  217.964,1487.47 217.964,47.2441 \n",
       "  \"/>\n",
       "<polyline clip-path=\"url(#clip8602)\" style=\"stroke:#000000; stroke-width:2; stroke-opacity:0.1; fill:none\" points=\"\n",
       "  644.922,1487.47 644.922,47.2441 \n",
       "  \"/>\n",
       "<polyline clip-path=\"url(#clip8602)\" style=\"stroke:#000000; stroke-width:2; stroke-opacity:0.1; fill:none\" points=\"\n",
       "  1071.88,1487.47 1071.88,47.2441 \n",
       "  \"/>\n",
       "<polyline clip-path=\"url(#clip8602)\" style=\"stroke:#000000; stroke-width:2; stroke-opacity:0.1; fill:none\" points=\"\n",
       "  1498.84,1487.47 1498.84,47.2441 \n",
       "  \"/>\n",
       "<polyline clip-path=\"url(#clip8602)\" style=\"stroke:#000000; stroke-width:2; stroke-opacity:0.1; fill:none\" points=\"\n",
       "  1925.8,1487.47 1925.8,47.2441 \n",
       "  \"/>\n",
       "<polyline clip-path=\"url(#clip8602)\" style=\"stroke:#000000; stroke-width:2; stroke-opacity:0.1; fill:none\" points=\"\n",
       "  2352.76,1487.47 2352.76,47.2441 \n",
       "  \"/>\n",
       "<polyline clip-path=\"url(#clip8602)\" style=\"stroke:#000000; stroke-width:2; stroke-opacity:0.1; fill:none\" points=\"\n",
       "  217.964,1487.47 2352.76,1487.47 \n",
       "  \"/>\n",
       "<polyline clip-path=\"url(#clip8602)\" style=\"stroke:#000000; stroke-width:2; stroke-opacity:0.1; fill:none\" points=\"\n",
       "  217.964,1199.43 2352.76,1199.43 \n",
       "  \"/>\n",
       "<polyline clip-path=\"url(#clip8602)\" style=\"stroke:#000000; stroke-width:2; stroke-opacity:0.1; fill:none\" points=\"\n",
       "  217.964,911.382 2352.76,911.382 \n",
       "  \"/>\n",
       "<polyline clip-path=\"url(#clip8602)\" style=\"stroke:#000000; stroke-width:2; stroke-opacity:0.1; fill:none\" points=\"\n",
       "  217.964,623.336 2352.76,623.336 \n",
       "  \"/>\n",
       "<polyline clip-path=\"url(#clip8602)\" style=\"stroke:#000000; stroke-width:2; stroke-opacity:0.1; fill:none\" points=\"\n",
       "  217.964,335.29 2352.76,335.29 \n",
       "  \"/>\n",
       "<polyline clip-path=\"url(#clip8602)\" style=\"stroke:#000000; stroke-width:2; stroke-opacity:0.1; fill:none\" points=\"\n",
       "  217.964,47.2441 2352.76,47.2441 \n",
       "  \"/>\n",
       "<polyline clip-path=\"url(#clip8600)\" style=\"stroke:#000000; stroke-width:4; stroke-opacity:1; fill:none\" points=\"\n",
       "  217.964,1487.47 2352.76,1487.47 \n",
       "  \"/>\n",
       "<polyline clip-path=\"url(#clip8600)\" style=\"stroke:#000000; stroke-width:4; stroke-opacity:1; fill:none\" points=\"\n",
       "  217.964,1487.47 217.964,47.2441 \n",
       "  \"/>\n",
       "<polyline clip-path=\"url(#clip8600)\" style=\"stroke:#000000; stroke-width:4; stroke-opacity:1; fill:none\" points=\"\n",
       "  217.964,1487.47 217.964,1470.19 \n",
       "  \"/>\n",
       "<polyline clip-path=\"url(#clip8600)\" style=\"stroke:#000000; stroke-width:4; stroke-opacity:1; fill:none\" points=\"\n",
       "  644.922,1487.47 644.922,1470.19 \n",
       "  \"/>\n",
       "<polyline clip-path=\"url(#clip8600)\" style=\"stroke:#000000; stroke-width:4; stroke-opacity:1; fill:none\" points=\"\n",
       "  1071.88,1487.47 1071.88,1470.19 \n",
       "  \"/>\n",
       "<polyline clip-path=\"url(#clip8600)\" style=\"stroke:#000000; stroke-width:4; stroke-opacity:1; fill:none\" points=\"\n",
       "  1498.84,1487.47 1498.84,1470.19 \n",
       "  \"/>\n",
       "<polyline clip-path=\"url(#clip8600)\" style=\"stroke:#000000; stroke-width:4; stroke-opacity:1; fill:none\" points=\"\n",
       "  1925.8,1487.47 1925.8,1470.19 \n",
       "  \"/>\n",
       "<polyline clip-path=\"url(#clip8600)\" style=\"stroke:#000000; stroke-width:4; stroke-opacity:1; fill:none\" points=\"\n",
       "  2352.76,1487.47 2352.76,1470.19 \n",
       "  \"/>\n",
       "<polyline clip-path=\"url(#clip8600)\" style=\"stroke:#000000; stroke-width:4; stroke-opacity:1; fill:none\" points=\"\n",
       "  217.964,1487.47 243.581,1487.47 \n",
       "  \"/>\n",
       "<polyline clip-path=\"url(#clip8600)\" style=\"stroke:#000000; stroke-width:4; stroke-opacity:1; fill:none\" points=\"\n",
       "  217.964,1199.43 243.581,1199.43 \n",
       "  \"/>\n",
       "<polyline clip-path=\"url(#clip8600)\" style=\"stroke:#000000; stroke-width:4; stroke-opacity:1; fill:none\" points=\"\n",
       "  217.964,911.382 243.581,911.382 \n",
       "  \"/>\n",
       "<polyline clip-path=\"url(#clip8600)\" style=\"stroke:#000000; stroke-width:4; stroke-opacity:1; fill:none\" points=\"\n",
       "  217.964,623.336 243.581,623.336 \n",
       "  \"/>\n",
       "<polyline clip-path=\"url(#clip8600)\" style=\"stroke:#000000; stroke-width:4; stroke-opacity:1; fill:none\" points=\"\n",
       "  217.964,335.29 243.581,335.29 \n",
       "  \"/>\n",
       "<polyline clip-path=\"url(#clip8600)\" style=\"stroke:#000000; stroke-width:4; stroke-opacity:1; fill:none\" points=\"\n",
       "  217.964,47.2441 243.581,47.2441 \n",
       "  \"/>\n",
       "<g clip-path=\"url(#clip8600)\">\n",
       "<text style=\"fill:#000000; fill-opacity:1; font-family:Arial,Helvetica Neue,Helvetica,sans-serif; font-size:48px; text-anchor:middle;\" transform=\"rotate(0, 217.964, 1541.47)\" x=\"217.964\" y=\"1541.47\">0</text>\n",
       "</g>\n",
       "<g clip-path=\"url(#clip8600)\">\n",
       "<text style=\"fill:#000000; fill-opacity:1; font-family:Arial,Helvetica Neue,Helvetica,sans-serif; font-size:48px; text-anchor:middle;\" transform=\"rotate(0, 644.922, 1541.47)\" x=\"644.922\" y=\"1541.47\">10</text>\n",
       "</g>\n",
       "<g clip-path=\"url(#clip8600)\">\n",
       "<text style=\"fill:#000000; fill-opacity:1; font-family:Arial,Helvetica Neue,Helvetica,sans-serif; font-size:48px; text-anchor:middle;\" transform=\"rotate(0, 1071.88, 1541.47)\" x=\"1071.88\" y=\"1541.47\">20</text>\n",
       "</g>\n",
       "<g clip-path=\"url(#clip8600)\">\n",
       "<text style=\"fill:#000000; fill-opacity:1; font-family:Arial,Helvetica Neue,Helvetica,sans-serif; font-size:48px; text-anchor:middle;\" transform=\"rotate(0, 1498.84, 1541.47)\" x=\"1498.84\" y=\"1541.47\">30</text>\n",
       "</g>\n",
       "<g clip-path=\"url(#clip8600)\">\n",
       "<text style=\"fill:#000000; fill-opacity:1; font-family:Arial,Helvetica Neue,Helvetica,sans-serif; font-size:48px; text-anchor:middle;\" transform=\"rotate(0, 1925.8, 1541.47)\" x=\"1925.8\" y=\"1541.47\">40</text>\n",
       "</g>\n",
       "<g clip-path=\"url(#clip8600)\">\n",
       "<text style=\"fill:#000000; fill-opacity:1; font-family:Arial,Helvetica Neue,Helvetica,sans-serif; font-size:48px; text-anchor:middle;\" transform=\"rotate(0, 2352.76, 1541.47)\" x=\"2352.76\" y=\"1541.47\">50</text>\n",
       "</g>\n",
       "<g clip-path=\"url(#clip8600)\">\n",
       "<text style=\"fill:#000000; fill-opacity:1; font-family:Arial,Helvetica Neue,Helvetica,sans-serif; font-size:48px; text-anchor:start;\" transform=\"rotate(0, 84.9832, 1511.2)\" x=\"84.9832\" y=\"1511.2\">10</text>\n",
       "</g>\n",
       "<g clip-path=\"url(#clip8600)\">\n",
       "<text style=\"fill:#000000; fill-opacity:1; font-family:Arial,Helvetica Neue,Helvetica,sans-serif; font-size:38px; text-anchor:start;\" transform=\"rotate(0, 138.508, 1483.79)\" x=\"138.508\" y=\"1483.79\">-</text>\n",
       "</g>\n",
       "<g clip-path=\"url(#clip8600)\">\n",
       "<text style=\"fill:#000000; fill-opacity:1; font-family:Arial,Helvetica Neue,Helvetica,sans-serif; font-size:38px; text-anchor:start;\" transform=\"rotate(0, 161.347, 1483.79)\" x=\"161.347\" y=\"1483.79\">5 </text>\n",
       "</g>\n",
       "<g clip-path=\"url(#clip8600)\">\n",
       "<text style=\"fill:#000000; fill-opacity:1; font-family:Arial,Helvetica Neue,Helvetica,sans-serif; font-size:48px; text-anchor:start;\" transform=\"rotate(0, 84.9832, 1223.16)\" x=\"84.9832\" y=\"1223.16\">10</text>\n",
       "</g>\n",
       "<g clip-path=\"url(#clip8600)\">\n",
       "<text style=\"fill:#000000; fill-opacity:1; font-family:Arial,Helvetica Neue,Helvetica,sans-serif; font-size:38px; text-anchor:start;\" transform=\"rotate(0, 138.508, 1195.75)\" x=\"138.508\" y=\"1195.75\">-</text>\n",
       "</g>\n",
       "<g clip-path=\"url(#clip8600)\">\n",
       "<text style=\"fill:#000000; fill-opacity:1; font-family:Arial,Helvetica Neue,Helvetica,sans-serif; font-size:38px; text-anchor:start;\" transform=\"rotate(0, 161.347, 1195.75)\" x=\"161.347\" y=\"1195.75\">4 </text>\n",
       "</g>\n",
       "<g clip-path=\"url(#clip8600)\">\n",
       "<text style=\"fill:#000000; fill-opacity:1; font-family:Arial,Helvetica Neue,Helvetica,sans-serif; font-size:48px; text-anchor:start;\" transform=\"rotate(0, 84.9832, 935.11)\" x=\"84.9832\" y=\"935.11\">10</text>\n",
       "</g>\n",
       "<g clip-path=\"url(#clip8600)\">\n",
       "<text style=\"fill:#000000; fill-opacity:1; font-family:Arial,Helvetica Neue,Helvetica,sans-serif; font-size:38px; text-anchor:start;\" transform=\"rotate(0, 138.508, 907.7)\" x=\"138.508\" y=\"907.7\">-</text>\n",
       "</g>\n",
       "<g clip-path=\"url(#clip8600)\">\n",
       "<text style=\"fill:#000000; fill-opacity:1; font-family:Arial,Helvetica Neue,Helvetica,sans-serif; font-size:38px; text-anchor:start;\" transform=\"rotate(0, 161.347, 907.7)\" x=\"161.347\" y=\"907.7\">3 </text>\n",
       "</g>\n",
       "<g clip-path=\"url(#clip8600)\">\n",
       "<text style=\"fill:#000000; fill-opacity:1; font-family:Arial,Helvetica Neue,Helvetica,sans-serif; font-size:48px; text-anchor:start;\" transform=\"rotate(0, 84.9832, 647.064)\" x=\"84.9832\" y=\"647.064\">10</text>\n",
       "</g>\n",
       "<g clip-path=\"url(#clip8600)\">\n",
       "<text style=\"fill:#000000; fill-opacity:1; font-family:Arial,Helvetica Neue,Helvetica,sans-serif; font-size:38px; text-anchor:start;\" transform=\"rotate(0, 138.508, 619.654)\" x=\"138.508\" y=\"619.654\">-</text>\n",
       "</g>\n",
       "<g clip-path=\"url(#clip8600)\">\n",
       "<text style=\"fill:#000000; fill-opacity:1; font-family:Arial,Helvetica Neue,Helvetica,sans-serif; font-size:38px; text-anchor:start;\" transform=\"rotate(0, 161.347, 619.654)\" x=\"161.347\" y=\"619.654\">2 </text>\n",
       "</g>\n",
       "<g clip-path=\"url(#clip8600)\">\n",
       "<text style=\"fill:#000000; fill-opacity:1; font-family:Arial,Helvetica Neue,Helvetica,sans-serif; font-size:48px; text-anchor:start;\" transform=\"rotate(0, 84.9832, 359.018)\" x=\"84.9832\" y=\"359.018\">10</text>\n",
       "</g>\n",
       "<g clip-path=\"url(#clip8600)\">\n",
       "<text style=\"fill:#000000; fill-opacity:1; font-family:Arial,Helvetica Neue,Helvetica,sans-serif; font-size:38px; text-anchor:start;\" transform=\"rotate(0, 138.508, 331.607)\" x=\"138.508\" y=\"331.607\">-</text>\n",
       "</g>\n",
       "<g clip-path=\"url(#clip8600)\">\n",
       "<text style=\"fill:#000000; fill-opacity:1; font-family:Arial,Helvetica Neue,Helvetica,sans-serif; font-size:38px; text-anchor:start;\" transform=\"rotate(0, 161.347, 331.607)\" x=\"161.347\" y=\"331.607\">1 </text>\n",
       "</g>\n",
       "<g clip-path=\"url(#clip8600)\">\n",
       "<text style=\"fill:#000000; fill-opacity:1; font-family:Arial,Helvetica Neue,Helvetica,sans-serif; font-size:48px; text-anchor:start;\" transform=\"rotate(0, 107.823, 70.9717)\" x=\"107.823\" y=\"70.9717\">10</text>\n",
       "</g>\n",
       "<g clip-path=\"url(#clip8600)\">\n",
       "<text style=\"fill:#000000; fill-opacity:1; font-family:Arial,Helvetica Neue,Helvetica,sans-serif; font-size:38px; text-anchor:start;\" transform=\"rotate(0, 161.347, 43.5613)\" x=\"161.347\" y=\"43.5613\">0 </text>\n",
       "</g>\n",
       "<polyline clip-path=\"url(#clip8602)\" style=\"stroke:#009af9; stroke-width:4; stroke-opacity:1; fill:none\" points=\"\n",
       "  217.964,230.701 431.443,306.921 644.922,412.907 858.402,541.342 1071.88,683.541 1285.36,822.502 1498.84,980.066 \n",
       "  \"/>\n",
       "<circle clip-path=\"url(#clip8602)\" style=\"fill:#000000; stroke:none; fill-opacity:1\" cx=\"217.964\" cy=\"230.701\" r=\"25\"/>\n",
       "<circle clip-path=\"url(#clip8602)\" style=\"fill:#009af9; stroke:none; fill-opacity:1\" cx=\"217.964\" cy=\"230.701\" r=\"21\"/>\n",
       "<circle clip-path=\"url(#clip8602)\" style=\"fill:#000000; stroke:none; fill-opacity:1\" cx=\"431.443\" cy=\"306.921\" r=\"25\"/>\n",
       "<circle clip-path=\"url(#clip8602)\" style=\"fill:#009af9; stroke:none; fill-opacity:1\" cx=\"431.443\" cy=\"306.921\" r=\"21\"/>\n",
       "<circle clip-path=\"url(#clip8602)\" style=\"fill:#000000; stroke:none; fill-opacity:1\" cx=\"644.922\" cy=\"412.907\" r=\"25\"/>\n",
       "<circle clip-path=\"url(#clip8602)\" style=\"fill:#009af9; stroke:none; fill-opacity:1\" cx=\"644.922\" cy=\"412.907\" r=\"21\"/>\n",
       "<circle clip-path=\"url(#clip8602)\" style=\"fill:#000000; stroke:none; fill-opacity:1\" cx=\"858.402\" cy=\"541.342\" r=\"25\"/>\n",
       "<circle clip-path=\"url(#clip8602)\" style=\"fill:#009af9; stroke:none; fill-opacity:1\" cx=\"858.402\" cy=\"541.342\" r=\"21\"/>\n",
       "<circle clip-path=\"url(#clip8602)\" style=\"fill:#000000; stroke:none; fill-opacity:1\" cx=\"1071.88\" cy=\"683.541\" r=\"25\"/>\n",
       "<circle clip-path=\"url(#clip8602)\" style=\"fill:#009af9; stroke:none; fill-opacity:1\" cx=\"1071.88\" cy=\"683.541\" r=\"21\"/>\n",
       "<circle clip-path=\"url(#clip8602)\" style=\"fill:#000000; stroke:none; fill-opacity:1\" cx=\"1285.36\" cy=\"822.502\" r=\"25\"/>\n",
       "<circle clip-path=\"url(#clip8602)\" style=\"fill:#009af9; stroke:none; fill-opacity:1\" cx=\"1285.36\" cy=\"822.502\" r=\"21\"/>\n",
       "<circle clip-path=\"url(#clip8602)\" style=\"fill:#000000; stroke:none; fill-opacity:1\" cx=\"1498.84\" cy=\"980.066\" r=\"25\"/>\n",
       "<circle clip-path=\"url(#clip8602)\" style=\"fill:#009af9; stroke:none; fill-opacity:1\" cx=\"1498.84\" cy=\"980.066\" r=\"21\"/>\n",
       "<polyline clip-path=\"url(#clip8602)\" style=\"stroke:#e26f46; stroke-width:4; stroke-opacity:1; fill:none\" points=\"\n",
       "  217.964,276.445 431.443,367.068 644.922,486.887 858.402,613.564 1071.88,777.545 1285.36,913.91 1498.84,1057.89 \n",
       "  \"/>\n",
       "<circle clip-path=\"url(#clip8602)\" style=\"fill:#000000; stroke:none; fill-opacity:1\" cx=\"217.964\" cy=\"276.445\" r=\"25\"/>\n",
       "<circle clip-path=\"url(#clip8602)\" style=\"fill:#e26f46; stroke:none; fill-opacity:1\" cx=\"217.964\" cy=\"276.445\" r=\"21\"/>\n",
       "<circle clip-path=\"url(#clip8602)\" style=\"fill:#000000; stroke:none; fill-opacity:1\" cx=\"431.443\" cy=\"367.068\" r=\"25\"/>\n",
       "<circle clip-path=\"url(#clip8602)\" style=\"fill:#e26f46; stroke:none; fill-opacity:1\" cx=\"431.443\" cy=\"367.068\" r=\"21\"/>\n",
       "<circle clip-path=\"url(#clip8602)\" style=\"fill:#000000; stroke:none; fill-opacity:1\" cx=\"644.922\" cy=\"486.887\" r=\"25\"/>\n",
       "<circle clip-path=\"url(#clip8602)\" style=\"fill:#e26f46; stroke:none; fill-opacity:1\" cx=\"644.922\" cy=\"486.887\" r=\"21\"/>\n",
       "<circle clip-path=\"url(#clip8602)\" style=\"fill:#000000; stroke:none; fill-opacity:1\" cx=\"858.402\" cy=\"613.564\" r=\"25\"/>\n",
       "<circle clip-path=\"url(#clip8602)\" style=\"fill:#e26f46; stroke:none; fill-opacity:1\" cx=\"858.402\" cy=\"613.564\" r=\"21\"/>\n",
       "<circle clip-path=\"url(#clip8602)\" style=\"fill:#000000; stroke:none; fill-opacity:1\" cx=\"1071.88\" cy=\"777.545\" r=\"25\"/>\n",
       "<circle clip-path=\"url(#clip8602)\" style=\"fill:#e26f46; stroke:none; fill-opacity:1\" cx=\"1071.88\" cy=\"777.545\" r=\"21\"/>\n",
       "<circle clip-path=\"url(#clip8602)\" style=\"fill:#000000; stroke:none; fill-opacity:1\" cx=\"1285.36\" cy=\"913.91\" r=\"25\"/>\n",
       "<circle clip-path=\"url(#clip8602)\" style=\"fill:#e26f46; stroke:none; fill-opacity:1\" cx=\"1285.36\" cy=\"913.91\" r=\"21\"/>\n",
       "<circle clip-path=\"url(#clip8602)\" style=\"fill:#000000; stroke:none; fill-opacity:1\" cx=\"1498.84\" cy=\"1057.89\" r=\"25\"/>\n",
       "<circle clip-path=\"url(#clip8602)\" style=\"fill:#e26f46; stroke:none; fill-opacity:1\" cx=\"1498.84\" cy=\"1057.89\" r=\"21\"/>\n",
       "<polyline clip-path=\"url(#clip8602)\" style=\"stroke:#3da44d; stroke-width:4; stroke-opacity:1; fill:none\" points=\"\n",
       "  217.964,205.082 431.443,275.824 644.922,381.95 858.402,504.058 1071.88,624.31 1285.36,769.344 1498.84,939.297 \n",
       "  \"/>\n",
       "<circle clip-path=\"url(#clip8602)\" style=\"fill:#000000; stroke:none; fill-opacity:1\" cx=\"217.964\" cy=\"205.082\" r=\"25\"/>\n",
       "<circle clip-path=\"url(#clip8602)\" style=\"fill:#3da44d; stroke:none; fill-opacity:1\" cx=\"217.964\" cy=\"205.082\" r=\"21\"/>\n",
       "<circle clip-path=\"url(#clip8602)\" style=\"fill:#000000; stroke:none; fill-opacity:1\" cx=\"431.443\" cy=\"275.824\" r=\"25\"/>\n",
       "<circle clip-path=\"url(#clip8602)\" style=\"fill:#3da44d; stroke:none; fill-opacity:1\" cx=\"431.443\" cy=\"275.824\" r=\"21\"/>\n",
       "<circle clip-path=\"url(#clip8602)\" style=\"fill:#000000; stroke:none; fill-opacity:1\" cx=\"644.922\" cy=\"381.95\" r=\"25\"/>\n",
       "<circle clip-path=\"url(#clip8602)\" style=\"fill:#3da44d; stroke:none; fill-opacity:1\" cx=\"644.922\" cy=\"381.95\" r=\"21\"/>\n",
       "<circle clip-path=\"url(#clip8602)\" style=\"fill:#000000; stroke:none; fill-opacity:1\" cx=\"858.402\" cy=\"504.058\" r=\"25\"/>\n",
       "<circle clip-path=\"url(#clip8602)\" style=\"fill:#3da44d; stroke:none; fill-opacity:1\" cx=\"858.402\" cy=\"504.058\" r=\"21\"/>\n",
       "<circle clip-path=\"url(#clip8602)\" style=\"fill:#000000; stroke:none; fill-opacity:1\" cx=\"1071.88\" cy=\"624.31\" r=\"25\"/>\n",
       "<circle clip-path=\"url(#clip8602)\" style=\"fill:#3da44d; stroke:none; fill-opacity:1\" cx=\"1071.88\" cy=\"624.31\" r=\"21\"/>\n",
       "<circle clip-path=\"url(#clip8602)\" style=\"fill:#000000; stroke:none; fill-opacity:1\" cx=\"1285.36\" cy=\"769.344\" r=\"25\"/>\n",
       "<circle clip-path=\"url(#clip8602)\" style=\"fill:#3da44d; stroke:none; fill-opacity:1\" cx=\"1285.36\" cy=\"769.344\" r=\"21\"/>\n",
       "<circle clip-path=\"url(#clip8602)\" style=\"fill:#000000; stroke:none; fill-opacity:1\" cx=\"1498.84\" cy=\"939.297\" r=\"25\"/>\n",
       "<circle clip-path=\"url(#clip8602)\" style=\"fill:#3da44d; stroke:none; fill-opacity:1\" cx=\"1498.84\" cy=\"939.297\" r=\"21\"/>\n",
       "<polyline clip-path=\"url(#clip8602)\" style=\"stroke:#c271d2; stroke-width:4; stroke-opacity:1; fill:none\" points=\"\n",
       "  217.964,241.689 431.443,324.895 644.922,439.237 858.402,571.792 1071.88,711.906 1285.36,854.662 1498.84,998.28 \n",
       "  \"/>\n",
       "<circle clip-path=\"url(#clip8602)\" style=\"fill:#000000; stroke:none; fill-opacity:1\" cx=\"217.964\" cy=\"241.689\" r=\"25\"/>\n",
       "<circle clip-path=\"url(#clip8602)\" style=\"fill:#c271d2; stroke:none; fill-opacity:1\" cx=\"217.964\" cy=\"241.689\" r=\"21\"/>\n",
       "<circle clip-path=\"url(#clip8602)\" style=\"fill:#000000; stroke:none; fill-opacity:1\" cx=\"431.443\" cy=\"324.895\" r=\"25\"/>\n",
       "<circle clip-path=\"url(#clip8602)\" style=\"fill:#c271d2; stroke:none; fill-opacity:1\" cx=\"431.443\" cy=\"324.895\" r=\"21\"/>\n",
       "<circle clip-path=\"url(#clip8602)\" style=\"fill:#000000; stroke:none; fill-opacity:1\" cx=\"644.922\" cy=\"439.237\" r=\"25\"/>\n",
       "<circle clip-path=\"url(#clip8602)\" style=\"fill:#c271d2; stroke:none; fill-opacity:1\" cx=\"644.922\" cy=\"439.237\" r=\"21\"/>\n",
       "<circle clip-path=\"url(#clip8602)\" style=\"fill:#000000; stroke:none; fill-opacity:1\" cx=\"858.402\" cy=\"571.792\" r=\"25\"/>\n",
       "<circle clip-path=\"url(#clip8602)\" style=\"fill:#c271d2; stroke:none; fill-opacity:1\" cx=\"858.402\" cy=\"571.792\" r=\"21\"/>\n",
       "<circle clip-path=\"url(#clip8602)\" style=\"fill:#000000; stroke:none; fill-opacity:1\" cx=\"1071.88\" cy=\"711.906\" r=\"25\"/>\n",
       "<circle clip-path=\"url(#clip8602)\" style=\"fill:#c271d2; stroke:none; fill-opacity:1\" cx=\"1071.88\" cy=\"711.906\" r=\"21\"/>\n",
       "<circle clip-path=\"url(#clip8602)\" style=\"fill:#000000; stroke:none; fill-opacity:1\" cx=\"1285.36\" cy=\"854.662\" r=\"25\"/>\n",
       "<circle clip-path=\"url(#clip8602)\" style=\"fill:#c271d2; stroke:none; fill-opacity:1\" cx=\"1285.36\" cy=\"854.662\" r=\"21\"/>\n",
       "<circle clip-path=\"url(#clip8602)\" style=\"fill:#000000; stroke:none; fill-opacity:1\" cx=\"1498.84\" cy=\"998.28\" r=\"25\"/>\n",
       "<circle clip-path=\"url(#clip8602)\" style=\"fill:#c271d2; stroke:none; fill-opacity:1\" cx=\"1498.84\" cy=\"998.28\" r=\"21\"/>\n",
       "<path clip-path=\"url(#clip8600)\" d=\"\n",
       "M1989.93 433.164 L2280.76 433.164 L2280.76 130.764 L1989.93 130.764  Z\n",
       "  \" fill=\"#ffffff\" fill-rule=\"evenodd\" fill-opacity=\"1\"/>\n",
       "<polyline clip-path=\"url(#clip8600)\" style=\"stroke:#000000; stroke-width:4; stroke-opacity:1; fill:none\" points=\"\n",
       "  1989.93,433.164 2280.76,433.164 2280.76,130.764 1989.93,130.764 1989.93,433.164 \n",
       "  \"/>\n",
       "<polyline clip-path=\"url(#clip8600)\" style=\"stroke:#009af9; stroke-width:4; stroke-opacity:1; fill:none\" points=\"\n",
       "  2013.93,191.244 2157.93,191.244 \n",
       "  \"/>\n",
       "<circle clip-path=\"url(#clip8600)\" style=\"fill:#000000; stroke:none; fill-opacity:1\" cx=\"2097.93\" cy=\"191.244\" r=\"25\"/>\n",
       "<circle clip-path=\"url(#clip8600)\" style=\"fill:#009af9; stroke:none; fill-opacity:1\" cx=\"2097.93\" cy=\"191.244\" r=\"21\"/>\n",
       "<g clip-path=\"url(#clip8600)\">\n",
       "<text style=\"fill:#000000; fill-opacity:1; font-family:Arial,Helvetica Neue,Helvetica,sans-serif; font-size:48px; text-anchor:start;\" transform=\"rotate(0, 2181.93, 208.744)\" x=\"2181.93\" y=\"208.744\">y1</text>\n",
       "</g>\n",
       "<polyline clip-path=\"url(#clip8600)\" style=\"stroke:#e26f46; stroke-width:4; stroke-opacity:1; fill:none\" points=\"\n",
       "  2013.93,251.724 2157.93,251.724 \n",
       "  \"/>\n",
       "<circle clip-path=\"url(#clip8600)\" style=\"fill:#000000; stroke:none; fill-opacity:1\" cx=\"2097.93\" cy=\"251.724\" r=\"25\"/>\n",
       "<circle clip-path=\"url(#clip8600)\" style=\"fill:#e26f46; stroke:none; fill-opacity:1\" cx=\"2097.93\" cy=\"251.724\" r=\"21\"/>\n",
       "<g clip-path=\"url(#clip8600)\">\n",
       "<text style=\"fill:#000000; fill-opacity:1; font-family:Arial,Helvetica Neue,Helvetica,sans-serif; font-size:48px; text-anchor:start;\" transform=\"rotate(0, 2181.93, 269.224)\" x=\"2181.93\" y=\"269.224\">y2</text>\n",
       "</g>\n",
       "<polyline clip-path=\"url(#clip8600)\" style=\"stroke:#3da44d; stroke-width:4; stroke-opacity:1; fill:none\" points=\"\n",
       "  2013.93,312.204 2157.93,312.204 \n",
       "  \"/>\n",
       "<circle clip-path=\"url(#clip8600)\" style=\"fill:#000000; stroke:none; fill-opacity:1\" cx=\"2097.93\" cy=\"312.204\" r=\"25\"/>\n",
       "<circle clip-path=\"url(#clip8600)\" style=\"fill:#3da44d; stroke:none; fill-opacity:1\" cx=\"2097.93\" cy=\"312.204\" r=\"21\"/>\n",
       "<g clip-path=\"url(#clip8600)\">\n",
       "<text style=\"fill:#000000; fill-opacity:1; font-family:Arial,Helvetica Neue,Helvetica,sans-serif; font-size:48px; text-anchor:start;\" transform=\"rotate(0, 2181.93, 329.704)\" x=\"2181.93\" y=\"329.704\">y3</text>\n",
       "</g>\n",
       "<polyline clip-path=\"url(#clip8600)\" style=\"stroke:#c271d2; stroke-width:4; stroke-opacity:1; fill:none\" points=\"\n",
       "  2013.93,372.684 2157.93,372.684 \n",
       "  \"/>\n",
       "<circle clip-path=\"url(#clip8600)\" style=\"fill:#000000; stroke:none; fill-opacity:1\" cx=\"2097.93\" cy=\"372.684\" r=\"25\"/>\n",
       "<circle clip-path=\"url(#clip8600)\" style=\"fill:#c271d2; stroke:none; fill-opacity:1\" cx=\"2097.93\" cy=\"372.684\" r=\"21\"/>\n",
       "<g clip-path=\"url(#clip8600)\">\n",
       "<text style=\"fill:#000000; fill-opacity:1; font-family:Arial,Helvetica Neue,Helvetica,sans-serif; font-size:48px; text-anchor:start;\" transform=\"rotate(0, 2181.93, 390.184)\" x=\"2181.93\" y=\"390.184\">y4</text>\n",
       "</g>\n",
       "</svg>\n"
      ]
     },
     "execution_count": 110,
     "metadata": {},
     "output_type": "execute_result"
    }
   ],
   "source": [
    "plot!(snrdBs, ber_results, xlim=(0,50),ylim=(1e-5,1), yscale=:log10, markershape=:circle, markersize=6)"
   ]
  },
  {
   "cell_type": "code",
   "execution_count": 109,
   "metadata": {},
   "outputs": [
    {
     "data": {
      "text/plain": [
       "7-element Array{Float64,1}:\n",
       " 0.21132486540518713  \n",
       " 0.10866443003567677  \n",
       " 0.04356453541236155  \n",
       " 0.015098846967749435 \n",
       " 0.004926228511662856 \n",
       " 0.0015736781410429224\n",
       " 0.0004992512478164679"
      ]
     },
     "execution_count": 109,
     "metadata": {},
     "output_type": "execute_result"
    }
   ],
   "source": [
    "ber_theory = Channel.get_theory_ber(snrdBs, :qam, 4, ratio=:snr, channel=:ray)"
   ]
  },
  {
   "cell_type": "code",
   "execution_count": 5,
   "metadata": {},
   "outputs": [
    {
     "data": {
      "text/plain": [
       "berplot (generic function with 1 method)"
      ]
     },
     "execution_count": 5,
     "metadata": {},
     "output_type": "execute_result"
    }
   ],
   "source": [
    "function berplot(x, y, args...)\n",
    "    plot(x, y,\n",
    "        yscale=:log10,\n",
    "        markershape=:circle,\n",
    "        markersize=6,\n",
    "        args...\n",
    "    )\n",
    "end"
   ]
  },
  {
   "cell_type": "code",
   "execution_count": 168,
   "metadata": {},
   "outputs": [
    {
     "data": {
      "image/svg+xml": [
       "<?xml version=\"1.0\" encoding=\"utf-8\"?>\n",
       "<svg xmlns=\"http://www.w3.org/2000/svg\" xmlns:xlink=\"http://www.w3.org/1999/xlink\" width=\"600\" height=\"400\" viewBox=\"0 0 2400 1600\">\n",
       "<defs>\n",
       "  <clipPath id=\"clip2400\">\n",
       "    <rect x=\"0\" y=\"0\" width=\"2400\" height=\"1600\"/>\n",
       "  </clipPath>\n",
       "</defs>\n",
       "<path clip-path=\"url(#clip2400)\" d=\"\n",
       "M0 1600 L2400 1600 L2400 0 L0 0  Z\n",
       "  \" fill=\"#ffffff\" fill-rule=\"evenodd\" fill-opacity=\"1\"/>\n",
       "<defs>\n",
       "  <clipPath id=\"clip2401\">\n",
       "    <rect x=\"480\" y=\"0\" width=\"1681\" height=\"1600\"/>\n",
       "  </clipPath>\n",
       "</defs>\n",
       "<path clip-path=\"url(#clip2400)\" d=\"\n",
       "M258.107 1487.47 L2352.76 1487.47 L2352.76 47.2441 L258.107 47.2441  Z\n",
       "  \" fill=\"#ffffff\" fill-rule=\"evenodd\" fill-opacity=\"1\"/>\n",
       "<defs>\n",
       "  <clipPath id=\"clip2402\">\n",
       "    <rect x=\"258\" y=\"47\" width=\"2096\" height=\"1441\"/>\n",
       "  </clipPath>\n",
       "</defs>\n",
       "<polyline clip-path=\"url(#clip2402)\" style=\"stroke:#000000; stroke-width:1.6; stroke-opacity:0.1; fill:none\" points=\"\n",
       "  317.39,1487.47 317.39,47.2441 \n",
       "  \"/>\n",
       "<polyline clip-path=\"url(#clip2402)\" style=\"stroke:#000000; stroke-width:1.6; stroke-opacity:0.1; fill:none\" points=\"\n",
       "  976.084,1487.47 976.084,47.2441 \n",
       "  \"/>\n",
       "<polyline clip-path=\"url(#clip2402)\" style=\"stroke:#000000; stroke-width:1.6; stroke-opacity:0.1; fill:none\" points=\"\n",
       "  1634.78,1487.47 1634.78,47.2441 \n",
       "  \"/>\n",
       "<polyline clip-path=\"url(#clip2402)\" style=\"stroke:#000000; stroke-width:1.6; stroke-opacity:0.1; fill:none\" points=\"\n",
       "  2293.47,1487.47 2293.47,47.2441 \n",
       "  \"/>\n",
       "<polyline clip-path=\"url(#clip2402)\" style=\"stroke:#000000; stroke-width:1.6; stroke-opacity:0.1; fill:none\" points=\"\n",
       "  258.107,1331.88 2352.76,1331.88 \n",
       "  \"/>\n",
       "<polyline clip-path=\"url(#clip2402)\" style=\"stroke:#000000; stroke-width:1.6; stroke-opacity:0.1; fill:none\" points=\"\n",
       "  258.107,1064.43 2352.76,1064.43 \n",
       "  \"/>\n",
       "<polyline clip-path=\"url(#clip2402)\" style=\"stroke:#000000; stroke-width:1.6; stroke-opacity:0.1; fill:none\" points=\"\n",
       "  258.107,796.978 2352.76,796.978 \n",
       "  \"/>\n",
       "<polyline clip-path=\"url(#clip2402)\" style=\"stroke:#000000; stroke-width:1.6; stroke-opacity:0.1; fill:none\" points=\"\n",
       "  258.107,529.525 2352.76,529.525 \n",
       "  \"/>\n",
       "<polyline clip-path=\"url(#clip2402)\" style=\"stroke:#000000; stroke-width:1.6; stroke-opacity:0.1; fill:none\" points=\"\n",
       "  258.107,262.071 2352.76,262.071 \n",
       "  \"/>\n",
       "<polyline clip-path=\"url(#clip2400)\" style=\"stroke:#000000; stroke-width:3.2; stroke-opacity:1; fill:none\" points=\"\n",
       "  258.107,1487.47 2352.76,1487.47 \n",
       "  \"/>\n",
       "<polyline clip-path=\"url(#clip2400)\" style=\"stroke:#000000; stroke-width:3.2; stroke-opacity:1; fill:none\" points=\"\n",
       "  258.107,1487.47 258.107,47.2441 \n",
       "  \"/>\n",
       "<polyline clip-path=\"url(#clip2400)\" style=\"stroke:#000000; stroke-width:3.2; stroke-opacity:1; fill:none\" points=\"\n",
       "  317.39,1487.47 317.39,1465.87 \n",
       "  \"/>\n",
       "<polyline clip-path=\"url(#clip2400)\" style=\"stroke:#000000; stroke-width:3.2; stroke-opacity:1; fill:none\" points=\"\n",
       "  976.084,1487.47 976.084,1465.87 \n",
       "  \"/>\n",
       "<polyline clip-path=\"url(#clip2400)\" style=\"stroke:#000000; stroke-width:3.2; stroke-opacity:1; fill:none\" points=\"\n",
       "  1634.78,1487.47 1634.78,1465.87 \n",
       "  \"/>\n",
       "<polyline clip-path=\"url(#clip2400)\" style=\"stroke:#000000; stroke-width:3.2; stroke-opacity:1; fill:none\" points=\"\n",
       "  2293.47,1487.47 2293.47,1465.87 \n",
       "  \"/>\n",
       "<polyline clip-path=\"url(#clip2400)\" style=\"stroke:#000000; stroke-width:3.2; stroke-opacity:1; fill:none\" points=\"\n",
       "  258.107,1331.88 289.527,1331.88 \n",
       "  \"/>\n",
       "<polyline clip-path=\"url(#clip2400)\" style=\"stroke:#000000; stroke-width:3.2; stroke-opacity:1; fill:none\" points=\"\n",
       "  258.107,1064.43 289.527,1064.43 \n",
       "  \"/>\n",
       "<polyline clip-path=\"url(#clip2400)\" style=\"stroke:#000000; stroke-width:3.2; stroke-opacity:1; fill:none\" points=\"\n",
       "  258.107,796.978 289.527,796.978 \n",
       "  \"/>\n",
       "<polyline clip-path=\"url(#clip2400)\" style=\"stroke:#000000; stroke-width:3.2; stroke-opacity:1; fill:none\" points=\"\n",
       "  258.107,529.525 289.527,529.525 \n",
       "  \"/>\n",
       "<polyline clip-path=\"url(#clip2400)\" style=\"stroke:#000000; stroke-width:3.2; stroke-opacity:1; fill:none\" points=\"\n",
       "  258.107,262.071 289.527,262.071 \n",
       "  \"/>\n",
       "<g clip-path=\"url(#clip2400)\">\n",
       "<text style=\"fill:#000000; fill-opacity:1; font-family:Arial,Helvetica Neue,Helvetica,sans-serif; font-size:48px; text-anchor:middle;\" transform=\"rotate(0, 317.39, 1541.47)\" x=\"317.39\" y=\"1541.47\">0</text>\n",
       "</g>\n",
       "<g clip-path=\"url(#clip2400)\">\n",
       "<text style=\"fill:#000000; fill-opacity:1; font-family:Arial,Helvetica Neue,Helvetica,sans-serif; font-size:48px; text-anchor:middle;\" transform=\"rotate(0, 976.084, 1541.47)\" x=\"976.084\" y=\"1541.47\">10</text>\n",
       "</g>\n",
       "<g clip-path=\"url(#clip2400)\">\n",
       "<text style=\"fill:#000000; fill-opacity:1; font-family:Arial,Helvetica Neue,Helvetica,sans-serif; font-size:48px; text-anchor:middle;\" transform=\"rotate(0, 1634.78, 1541.47)\" x=\"1634.78\" y=\"1541.47\">20</text>\n",
       "</g>\n",
       "<g clip-path=\"url(#clip2400)\">\n",
       "<text style=\"fill:#000000; fill-opacity:1; font-family:Arial,Helvetica Neue,Helvetica,sans-serif; font-size:48px; text-anchor:middle;\" transform=\"rotate(0, 2293.47, 1541.47)\" x=\"2293.47\" y=\"1541.47\">30</text>\n",
       "</g>\n",
       "<g clip-path=\"url(#clip2400)\">\n",
       "<text style=\"fill:#000000; fill-opacity:1; font-family:Arial,Helvetica Neue,Helvetica,sans-serif; font-size:48px; text-anchor:start;\" transform=\"rotate(0, 92.5101, 1355.61)\" x=\"92.5101\" y=\"1355.61\">10</text>\n",
       "</g>\n",
       "<g clip-path=\"url(#clip2400)\">\n",
       "<text style=\"fill:#000000; fill-opacity:1; font-family:Arial,Helvetica Neue,Helvetica,sans-serif; font-size:38px; text-anchor:start;\" transform=\"rotate(0, 146.035, 1328.2)\" x=\"146.035\" y=\"1328.2\">-</text>\n",
       "</g>\n",
       "<g clip-path=\"url(#clip2400)\">\n",
       "<text style=\"fill:#000000; fill-opacity:1; font-family:Arial,Helvetica Neue,Helvetica,sans-serif; font-size:38px; text-anchor:start;\" transform=\"rotate(0, 168.874, 1328.2)\" x=\"168.874\" y=\"1328.2\">3.0 </text>\n",
       "</g>\n",
       "<g clip-path=\"url(#clip2400)\">\n",
       "<text style=\"fill:#000000; fill-opacity:1; font-family:Arial,Helvetica Neue,Helvetica,sans-serif; font-size:48px; text-anchor:start;\" transform=\"rotate(0, 92.5101, 1088.16)\" x=\"92.5101\" y=\"1088.16\">10</text>\n",
       "</g>\n",
       "<g clip-path=\"url(#clip2400)\">\n",
       "<text style=\"fill:#000000; fill-opacity:1; font-family:Arial,Helvetica Neue,Helvetica,sans-serif; font-size:38px; text-anchor:start;\" transform=\"rotate(0, 146.035, 1060.75)\" x=\"146.035\" y=\"1060.75\">-</text>\n",
       "</g>\n",
       "<g clip-path=\"url(#clip2400)\">\n",
       "<text style=\"fill:#000000; fill-opacity:1; font-family:Arial,Helvetica Neue,Helvetica,sans-serif; font-size:38px; text-anchor:start;\" transform=\"rotate(0, 168.874, 1060.75)\" x=\"168.874\" y=\"1060.75\">2.5 </text>\n",
       "</g>\n",
       "<g clip-path=\"url(#clip2400)\">\n",
       "<text style=\"fill:#000000; fill-opacity:1; font-family:Arial,Helvetica Neue,Helvetica,sans-serif; font-size:48px; text-anchor:start;\" transform=\"rotate(0, 92.5101, 820.706)\" x=\"92.5101\" y=\"820.706\">10</text>\n",
       "</g>\n",
       "<g clip-path=\"url(#clip2400)\">\n",
       "<text style=\"fill:#000000; fill-opacity:1; font-family:Arial,Helvetica Neue,Helvetica,sans-serif; font-size:38px; text-anchor:start;\" transform=\"rotate(0, 146.035, 793.295)\" x=\"146.035\" y=\"793.295\">-</text>\n",
       "</g>\n",
       "<g clip-path=\"url(#clip2400)\">\n",
       "<text style=\"fill:#000000; fill-opacity:1; font-family:Arial,Helvetica Neue,Helvetica,sans-serif; font-size:38px; text-anchor:start;\" transform=\"rotate(0, 168.874, 793.295)\" x=\"168.874\" y=\"793.295\">2.0 </text>\n",
       "</g>\n",
       "<g clip-path=\"url(#clip2400)\">\n",
       "<text style=\"fill:#000000; fill-opacity:1; font-family:Arial,Helvetica Neue,Helvetica,sans-serif; font-size:48px; text-anchor:start;\" transform=\"rotate(0, 92.5101, 553.252)\" x=\"92.5101\" y=\"553.252\">10</text>\n",
       "</g>\n",
       "<g clip-path=\"url(#clip2400)\">\n",
       "<text style=\"fill:#000000; fill-opacity:1; font-family:Arial,Helvetica Neue,Helvetica,sans-serif; font-size:38px; text-anchor:start;\" transform=\"rotate(0, 146.035, 525.842)\" x=\"146.035\" y=\"525.842\">-</text>\n",
       "</g>\n",
       "<g clip-path=\"url(#clip2400)\">\n",
       "<text style=\"fill:#000000; fill-opacity:1; font-family:Arial,Helvetica Neue,Helvetica,sans-serif; font-size:38px; text-anchor:start;\" transform=\"rotate(0, 168.874, 525.842)\" x=\"168.874\" y=\"525.842\">1.5 </text>\n",
       "</g>\n",
       "<g clip-path=\"url(#clip2400)\">\n",
       "<text style=\"fill:#000000; fill-opacity:1; font-family:Arial,Helvetica Neue,Helvetica,sans-serif; font-size:48px; text-anchor:start;\" transform=\"rotate(0, 92.5101, 285.799)\" x=\"92.5101\" y=\"285.799\">10</text>\n",
       "</g>\n",
       "<g clip-path=\"url(#clip2400)\">\n",
       "<text style=\"fill:#000000; fill-opacity:1; font-family:Arial,Helvetica Neue,Helvetica,sans-serif; font-size:38px; text-anchor:start;\" transform=\"rotate(0, 146.035, 258.388)\" x=\"146.035\" y=\"258.388\">-</text>\n",
       "</g>\n",
       "<g clip-path=\"url(#clip2400)\">\n",
       "<text style=\"fill:#000000; fill-opacity:1; font-family:Arial,Helvetica Neue,Helvetica,sans-serif; font-size:38px; text-anchor:start;\" transform=\"rotate(0, 168.874, 258.388)\" x=\"168.874\" y=\"258.388\">1.0 </text>\n",
       "</g>\n",
       "<polyline clip-path=\"url(#clip2402)\" style=\"stroke:#009af9; stroke-width:3.2; stroke-opacity:1; fill:none\" points=\"\n",
       "  317.39,88.0053 646.737,240.67 976.084,452.527 1305.43,712.108 1634.78,982.477 1964.13,1248.79 2293.47,1446.71 \n",
       "  \"/>\n",
       "<circle clip-path=\"url(#clip2402)\" cx=\"317.39\" cy=\"88.0053\" r=\"20\" fill=\"#000000\" fill-rule=\"evenodd\" fill-opacity=\"1\" stroke=\"#ffffff\" stroke-opacity=\"1\" stroke-width=\"3.2\"/>\n",
       "<circle clip-path=\"url(#clip2402)\" cx=\"317.39\" cy=\"88.0053\" r=\"17\" fill=\"#009af9\" fill-rule=\"evenodd\" fill-opacity=\"1\" stroke=\"#ffffff\" stroke-opacity=\"1\" stroke-width=\"3.2\"/>\n",
       "<circle clip-path=\"url(#clip2402)\" cx=\"646.737\" cy=\"240.67\" r=\"20\" fill=\"#000000\" fill-rule=\"evenodd\" fill-opacity=\"1\" stroke=\"#ffffff\" stroke-opacity=\"1\" stroke-width=\"3.2\"/>\n",
       "<circle clip-path=\"url(#clip2402)\" cx=\"646.737\" cy=\"240.67\" r=\"17\" fill=\"#009af9\" fill-rule=\"evenodd\" fill-opacity=\"1\" stroke=\"#ffffff\" stroke-opacity=\"1\" stroke-width=\"3.2\"/>\n",
       "<circle clip-path=\"url(#clip2402)\" cx=\"976.084\" cy=\"452.527\" r=\"20\" fill=\"#000000\" fill-rule=\"evenodd\" fill-opacity=\"1\" stroke=\"#ffffff\" stroke-opacity=\"1\" stroke-width=\"3.2\"/>\n",
       "<circle clip-path=\"url(#clip2402)\" cx=\"976.084\" cy=\"452.527\" r=\"17\" fill=\"#009af9\" fill-rule=\"evenodd\" fill-opacity=\"1\" stroke=\"#ffffff\" stroke-opacity=\"1\" stroke-width=\"3.2\"/>\n",
       "<circle clip-path=\"url(#clip2402)\" cx=\"1305.43\" cy=\"712.108\" r=\"20\" fill=\"#000000\" fill-rule=\"evenodd\" fill-opacity=\"1\" stroke=\"#ffffff\" stroke-opacity=\"1\" stroke-width=\"3.2\"/>\n",
       "<circle clip-path=\"url(#clip2402)\" cx=\"1305.43\" cy=\"712.108\" r=\"17\" fill=\"#009af9\" fill-rule=\"evenodd\" fill-opacity=\"1\" stroke=\"#ffffff\" stroke-opacity=\"1\" stroke-width=\"3.2\"/>\n",
       "<circle clip-path=\"url(#clip2402)\" cx=\"1634.78\" cy=\"982.477\" r=\"20\" fill=\"#000000\" fill-rule=\"evenodd\" fill-opacity=\"1\" stroke=\"#ffffff\" stroke-opacity=\"1\" stroke-width=\"3.2\"/>\n",
       "<circle clip-path=\"url(#clip2402)\" cx=\"1634.78\" cy=\"982.477\" r=\"17\" fill=\"#009af9\" fill-rule=\"evenodd\" fill-opacity=\"1\" stroke=\"#ffffff\" stroke-opacity=\"1\" stroke-width=\"3.2\"/>\n",
       "<circle clip-path=\"url(#clip2402)\" cx=\"1964.13\" cy=\"1248.79\" r=\"20\" fill=\"#000000\" fill-rule=\"evenodd\" fill-opacity=\"1\" stroke=\"#ffffff\" stroke-opacity=\"1\" stroke-width=\"3.2\"/>\n",
       "<circle clip-path=\"url(#clip2402)\" cx=\"1964.13\" cy=\"1248.79\" r=\"17\" fill=\"#009af9\" fill-rule=\"evenodd\" fill-opacity=\"1\" stroke=\"#ffffff\" stroke-opacity=\"1\" stroke-width=\"3.2\"/>\n",
       "<circle clip-path=\"url(#clip2402)\" cx=\"2293.47\" cy=\"1446.71\" r=\"20\" fill=\"#000000\" fill-rule=\"evenodd\" fill-opacity=\"1\" stroke=\"#ffffff\" stroke-opacity=\"1\" stroke-width=\"3.2\"/>\n",
       "<circle clip-path=\"url(#clip2402)\" cx=\"2293.47\" cy=\"1446.71\" r=\"17\" fill=\"#009af9\" fill-rule=\"evenodd\" fill-opacity=\"1\" stroke=\"#ffffff\" stroke-opacity=\"1\" stroke-width=\"3.2\"/>\n",
       "<path clip-path=\"url(#clip2400)\" d=\"\n",
       "M1989.93 251.724 L2280.76 251.724 L2280.76 130.764 L1989.93 130.764  Z\n",
       "  \" fill=\"#ffffff\" fill-rule=\"evenodd\" fill-opacity=\"1\"/>\n",
       "<polyline clip-path=\"url(#clip2400)\" style=\"stroke:#000000; stroke-width:3.2; stroke-opacity:1; fill:none\" points=\"\n",
       "  1989.93,251.724 2280.76,251.724 2280.76,130.764 1989.93,130.764 1989.93,251.724 \n",
       "  \"/>\n",
       "<polyline clip-path=\"url(#clip2400)\" style=\"stroke:#009af9; stroke-width:3.2; stroke-opacity:1; fill:none\" points=\"\n",
       "  2013.93,191.244 2157.93,191.244 \n",
       "  \"/>\n",
       "<circle clip-path=\"url(#clip2400)\" cx=\"2097.93\" cy=\"191.244\" r=\"20\" fill=\"#000000\" fill-rule=\"evenodd\" fill-opacity=\"1\" stroke=\"#ffffff\" stroke-opacity=\"1\" stroke-width=\"3.2\"/>\n",
       "<circle clip-path=\"url(#clip2400)\" cx=\"2097.93\" cy=\"191.244\" r=\"17\" fill=\"#009af9\" fill-rule=\"evenodd\" fill-opacity=\"1\" stroke=\"#ffffff\" stroke-opacity=\"1\" stroke-width=\"3.2\"/>\n",
       "<g clip-path=\"url(#clip2400)\">\n",
       "<text style=\"fill:#000000; fill-opacity:1; font-family:Arial,Helvetica Neue,Helvetica,sans-serif; font-size:48px; text-anchor:start;\" transform=\"rotate(0, 2181.93, 208.744)\" x=\"2181.93\" y=\"208.744\">y1</text>\n",
       "</g>\n",
       "</svg>\n"
      ]
     },
     "execution_count": 168,
     "metadata": {},
     "output_type": "execute_result"
    }
   ],
   "source": [
    "p = berplot(snrdBs, ber_results)"
   ]
  },
  {
   "cell_type": "code",
   "execution_count": 36,
   "metadata": {},
   "outputs": [
    {
     "name": "stdout",
     "output_type": "stream",
     "text": [
      "size(cfr) = (64, 2, 2)\n"
     ]
    },
    {
     "data": {
      "text/plain": [
       "1000-element Array{Complex{Float64},1}:\n",
       "  0.7071067811865476 + 0.7071067811865475im\n",
       "  0.7071067811865478 + 0.7071067811865477im\n",
       "  0.7071067811865477 - 0.7071067811865475im\n",
       "  0.7071067811865479 - 0.707106781186547im \n",
       " -0.7071067811865475 + 0.7071067811865472im\n",
       "  0.7071067811865474 - 0.7071067811865477im\n",
       "  0.7071067811865475 - 0.7071067811865477im\n",
       " -0.7071067811865475 - 0.707106781186548im \n",
       " -0.7071067811865474 + 0.7071067811865475im\n",
       "  0.7071067811865474 + 0.7071067811865477im\n",
       " -0.7071067811865476 + 0.7071067811865472im\n",
       " -0.7071067811865479 + 0.7071067811865469im\n",
       " -0.7071067811865472 + 0.707106781186547im \n",
       "                     ⋮                     \n",
       " -0.7071067811865475 + 0.7071067811865475im\n",
       " -0.7071067811865479 + 0.707106781186547im \n",
       " -0.7071067811865475 - 0.7071067811865475im\n",
       " -0.7071067811865475 + 0.7071067811865472im\n",
       "  0.7071067811865474 - 0.7071067811865471im\n",
       " -0.7071067811865474 + 0.7071067811865477im\n",
       "  0.7071067811865472 + 0.7071067811865476im\n",
       " -0.7071067811865475 - 0.7071067811865475im\n",
       "  0.7071067811865474 + 0.7071067811865477im\n",
       "  0.7071067811865471 + 0.7071067811865477im\n",
       " -0.7071067811865474 + 0.7071067811865475im\n",
       " -0.7071067811865472 - 0.7071067811865475im"
      ]
     },
     "execution_count": 36,
     "metadata": {},
     "output_type": "execute_result"
    }
   ],
   "source": [
    "pdp = Channel.exponent(10,20);\n",
    "N0 = 10^(-30/10)\n",
    "tx_bit = rand(nbits) .> 0.5\n",
    "tx_symbol = Ofdm.qammod(qam, tx_bit)\n",
    "tx_ofdmsig = Ofdm.ofdmmod(params, tx_frame, tx_symbol, indices)\n",
    "# 通信路\n",
    "rx_ofdmsig, cir = Channel.multipath_fading(tx_ofdmsig, ndim, pdp, istail=false)\n",
    "# rx_ofdmsig = Channel.awgn!(rx_ofdmsig, N0);\n",
    "# 受信機\n",
    "rx_frame = Ofdm.ofdmdemod(params, rx_ofdmsig)\n",
    "cfr = Ofdm.get_cfr(cir, params.nfft, size(rx_frame,2))\n",
    "# cfr_est = chest(params, rx_frame, tx_frame, indices);\n",
    "rx_symbol = Ofdm.equalize(rx_frame, cfr, indices[:frame])"
   ]
  },
  {
   "cell_type": "code",
   "execution_count": 32,
   "metadata": {},
   "outputs": [
    {
     "data": {
      "text/plain": [
       "64×20×2×1 Array{Complex{Float64},4}:\n",
       "[:, :, 1, 1] =\n",
       " -0.0313055+1.26062im    -0.357887-0.713374im    …   -0.357887-0.713374im  \n",
       "    0.11765+1.17943im    -0.555255-0.579016im        -0.555255-0.579016im  \n",
       "   0.192064+1.04836im    -0.642815-0.363374im        -0.642815-0.363374im  \n",
       "   0.189163+0.929359im   -0.605125-0.154007im        -0.605125-0.154007im  \n",
       "   0.148684+0.862058im   -0.485305-0.0177927im       -0.485305-0.0177927im \n",
       "   0.120995+0.842524im    -0.35043+0.0294421im   …    -0.35043+0.0294421im \n",
       "   0.132042+0.832547im   -0.248691+0.0189186im       -0.248691+0.0189186im \n",
       "   0.168019+0.790465im   -0.185142-0.00334438im      -0.185142-0.00334438im\n",
       "   0.187865+0.701444im   -0.129571-0.014003im        -0.129571-0.014003im  \n",
       "   0.152775+0.58751im   -0.0491007-0.030148im       -0.0491007-0.030148im  \n",
       "  0.0518582+0.492784im   0.0572909-0.0959703im   …   0.0572909-0.0959703im \n",
       " -0.0923219+0.456143im     0.14593-0.247101im          0.14593-0.247101im  \n",
       "  -0.239483+0.490534im     0.14707-0.475663im          0.14707-0.475663im  \n",
       "           ⋮                                     ⋱                         \n",
       "  -0.828142+0.128943im     1.00888-0.835576im          1.00888-0.835576im  \n",
       "    -1.0094+0.444413im    0.763431-1.09923im          0.763431-1.09923im   \n",
       "   -1.00968+0.803549im    0.413898-1.25355im          0.413898-1.25355im   \n",
       "  -0.839094+1.09157im    0.0256917-1.2416im      …   0.0256917-1.2416im    \n",
       "  -0.579723+1.22676im    -0.301555-1.05606im         -0.301555-1.05606im   \n",
       "  -0.344761+1.20114im    -0.475883-0.75716im         -0.475883-0.75716im   \n",
       "  -0.220289+1.08136im    -0.459929-0.455498im        -0.459929-0.455498im  \n",
       "   -0.22296+0.968932im    -0.29511-0.264168im         -0.29511-0.264168im  \n",
       "  -0.297708+0.943008im  -0.0862185-0.244646im    …  -0.0862185-0.244646im  \n",
       "  -0.355564+1.01917im    0.0480848-0.376461im        0.0480848-0.376461im  \n",
       "  -0.327804+1.14736im    0.0330789-0.568613im        0.0330789-0.568613im  \n",
       "  -0.203782+1.24774im    -0.127366-0.70725im         -0.127366-0.70725im   \n",
       "\n",
       "[:, :, 2, 1] =\n",
       "  -0.316448-0.722992im    -0.112759-0.065351im   …   -0.112759-0.065351im \n",
       "  -0.641998-0.797693im    -0.158215-0.169334im       -0.158215-0.169334im \n",
       "  -0.971682-0.711673im    -0.257394-0.244467im       -0.257394-0.244467im \n",
       "   -1.22633-0.47945im     -0.371747-0.252256im       -0.371747-0.252256im \n",
       "   -1.34546-0.155104im    -0.442961-0.199334im       -0.442961-0.199334im \n",
       "   -1.30588+0.186707im    -0.436271-0.138469im   …   -0.436271-0.138469im \n",
       "   -1.12278+0.475569im    -0.370133-0.134701im       -0.370133-0.134701im \n",
       "  -0.835948+0.661734im    -0.309332-0.219037im       -0.309332-0.219037im \n",
       "  -0.493381+0.717535im     -0.32385-0.362515im        -0.32385-0.362515im \n",
       "  -0.144239+0.629622im    -0.440709-0.490722im       -0.440709-0.490722im \n",
       "   0.156967+0.395044im    -0.622564-0.530867im   …   -0.622564-0.530867im \n",
       "   0.345492+0.0298139im   -0.789364-0.459984im       -0.789364-0.459984im \n",
       "   0.354921-0.414724im    -0.869624-0.320697im       -0.869624-0.320697im \n",
       "           ⋮                                     ⋱                        \n",
       "   -1.13913-0.536224im    -0.905056+1.13596im        -0.905056+1.13596im  \n",
       "   -1.35278-0.353286im     -0.68817+1.20748im         -0.68817+1.20748im  \n",
       "    -1.4515-0.0605198im   -0.436793+1.21324im        -0.436793+1.21324im  \n",
       "   -1.39387+0.260453im    -0.177478+1.1308im     …   -0.177478+1.1308im   \n",
       "   -1.19198+0.524652im    0.0445679+0.953805im       0.0445679+0.953805im \n",
       "  -0.897427+0.673715im     0.180699+0.70756im         0.180699+0.70756im  \n",
       "  -0.575272+0.687178im     0.204894+0.447676im        0.204894+0.447676im \n",
       "  -0.282426+0.575062im     0.132884+0.23711im         0.132884+0.23711im  \n",
       " -0.0600484+0.363035im    0.0180759+0.113427im   …   0.0180759+0.113427im \n",
       "  0.0626516+0.0830084im  -0.0770662+0.0680604im     -0.0770662+0.0680604im\n",
       "  0.0639713-0.226246im    -0.117272+0.0536367im      -0.117272+0.0536367im\n",
       " -0.0664817-0.51462im     -0.113862+0.0167172im      -0.113862+0.0167172im"
      ]
     },
     "execution_count": 32,
     "metadata": {},
     "output_type": "execute_result"
    }
   ],
   "source": [
    "Ofdm.get_cfr(cir, params.nfft, 10)"
   ]
  },
  {
   "cell_type": "code",
   "execution_count": 26,
   "metadata": {},
   "outputs": [
    {
     "data": {
      "text/plain": [
       "10"
      ]
     },
     "execution_count": 26,
     "metadata": {},
     "output_type": "execute_result"
    }
   ],
   "source": []
  },
  {
   "cell_type": "code",
   "execution_count": 43,
   "metadata": {},
   "outputs": [
    {
     "ename": "DimensionMismatch",
     "evalue": "DimensionMismatch(\"arrays could not be broadcast to a common size\")",
     "output_type": "error",
     "traceback": [
      "DimensionMismatch(\"arrays could not be broadcast to a common size\")",
      "",
      "Stacktrace:",
      " [1] _bcs1 at ./broadcast.jl:485 [inlined]",
      " [2] _bcs at ./broadcast.jl:479 [inlined]",
      " [3] broadcast_shape at ./broadcast.jl:473 [inlined]",
      " [4] combine_axes at ./broadcast.jl:468 [inlined]",
      " [5] instantiate at ./broadcast.jl:256 [inlined]",
      " [6] materialize(::Base.Broadcast.Broadcasted{Base.Broadcast.DefaultArrayStyle{1},Nothing,typeof(!==),Tuple{BitArray{1},Array{Bool,1}}}) at ./broadcast.jl:798",
      " [7] top-level scope at In[43]:2"
     ]
    }
   ],
   "source": [
    "rx_bit = Ofdm.qamdemod(qam, rx_symbol);\n",
    "errors += sum(tx_bit .!== rx_bit)\n",
    "numbits += nbits"
   ]
  },
  {
   "cell_type": "code",
   "execution_count": 11,
   "metadata": {},
   "outputs": [
    {
     "name": "stdout",
     "output_type": "stream",
     "text": [
      "  2.164 ms (33501 allocations: 2.35 MiB)\n"
     ]
    },
    {
     "data": {
      "text/plain": [
       "2×500 Array{Complex{Float64},2}:\n",
       " -0.707107-0.707107im  -0.707107+0.707107im  …  -0.707107-0.707107im\n",
       " -0.707107+0.707107im  -0.707107-0.707107im      0.707107-0.707107im"
      ]
     },
     "execution_count": 11,
     "metadata": {},
     "output_type": "execute_result"
    }
   ],
   "source": [
    "y = randn(ComplexF64,2,500); H = randn(ComplexF64,2,2,500);\n",
    "Ofdm.mimo_qrmld(y,H, qam.ref, 4)"
   ]
  },
  {
   "cell_type": "code",
   "execution_count": 13,
   "metadata": {},
   "outputs": [
    {
     "data": {
      "text/plain": [
       "0.002"
      ]
     },
     "execution_count": 13,
     "metadata": {},
     "output_type": "execute_result"
    }
   ],
   "source": []
  },
  {
   "cell_type": "code",
   "execution_count": null,
   "metadata": {},
   "outputs": [],
   "source": []
  }
 ],
 "metadata": {
  "kernelspec": {
   "display_name": "Julia 1.2.0",
   "language": "julia",
   "name": "julia-1.2"
  },
  "language_info": {
   "file_extension": ".jl",
   "mimetype": "application/julia",
   "name": "julia",
   "version": "1.2.0"
  }
 },
 "nbformat": 4,
 "nbformat_minor": 4
}
