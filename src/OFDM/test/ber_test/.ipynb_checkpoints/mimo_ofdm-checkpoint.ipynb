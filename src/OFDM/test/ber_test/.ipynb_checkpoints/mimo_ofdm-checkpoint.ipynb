{
 "cells": [
  {
   "cell_type": "code",
   "execution_count": 719,
   "metadata": {},
   "outputs": [
    {
     "name": "stderr",
     "output_type": "stream",
     "text": [
      "WARNING: replacing module Ofdm.\n",
      "WARNING: replacing module Channel.\n",
      "WARNING: replacing module Conversions.\n"
     ]
    },
    {
     "data": {
      "text/plain": [
       "Main.Conversions"
      ]
     },
     "execution_count": 719,
     "metadata": {},
     "output_type": "execute_result"
    }
   ],
   "source": [
    "include(\"../../ofdm.jl\")\n",
    "include(\"../../../../Channel/Channel.jl\")\n",
    "include(\"../../../../Utility/Conversions.jl\")"
   ]
  },
  {
   "cell_type": "code",
   "execution_count": 720,
   "metadata": {},
   "outputs": [
    {
     "name": "stderr",
     "output_type": "stream",
     "text": [
      "WARNING: using Ofdm.OfdmParams in module Main conflicts with an existing identifier.\n",
      "WARNING: using Ofdm.get_indices in module Main conflicts with an existing identifier.\n",
      "WARNING: using Ofdm.gen_frame in module Main conflicts with an existing identifier.\n"
     ]
    }
   ],
   "source": [
    "using  LinearAlgebra, FFTW\n",
    "using .Conversions, .Ofdm, .Channel"
   ]
  },
  {
   "cell_type": "code",
   "execution_count": 25,
   "metadata": {},
   "outputs": [
    {
     "data": {
      "text/plain": [
       "1000"
      ]
     },
     "execution_count": 25,
     "metadata": {},
     "output_type": "execute_result"
    }
   ],
   "source": [
    "nbits = 1000 # 送信ビット数\n",
    "nfft=64; cpsize=16; # FFT数, CP長\n",
    "npi=12; ngc=6; # パイロットキャリア, ガードキャリア\n",
    "ndim=(2,2) # 送受信アンテナ数\n",
    "nbits = 1000 # 送信ビット数"
   ]
  },
  {
   "cell_type": "code",
   "execution_count": 573,
   "metadata": {},
   "outputs": [],
   "source": [
    "params = OfdmParams(nfft,cpsize, npi, ngc, ndim, pilot_type=:comb, pilot_space=4, pilot_interval=2) # OFDMパラメータ\n",
    "indices = get_indices(params) # インデックス\n",
    "frame = gen_frame(params, indices, 30); # フレームテンプレート"
   ]
  },
  {
   "cell_type": "code",
   "execution_count": 713,
   "metadata": {},
   "outputs": [],
   "source": [
    "M = 4; bps = Int(log2(M)) # 送信ビット数\n",
    "qam = Ofdm.QamMod(M) # 変調器\n",
    "pdp = Channel.exponent(8,20,space=2);"
   ]
  },
  {
   "cell_type": "code",
   "execution_count": 718,
   "metadata": {},
   "outputs": [],
   "source": [
    "tx_bit = rand(nbits) .> 0.5 # 送信ビット\n",
    "tx_symbol = Ofdm.qammod(qam, tx_bit); # 送信シンボル"
   ]
  },
  {
   "cell_type": "code",
   "execution_count": 722,
   "metadata": {},
   "outputs": [],
   "source": [
    "# tx_frame = data(params, frame, tx_symbol, indices);\n",
    "tx_frame = Ofdm.data_mapping(params, frame, tx_symbol, indices);\n",
    "tx_ofdmsig = Ofdm.ofdmmod(params, frame); "
   ]
  },
  {
   "cell_type": "code",
   "execution_count": null,
   "metadata": {},
   "outputs": [],
   "source": []
  }
 ],
 "metadata": {
  "kernelspec": {
   "display_name": "Julia 1.3.0",
   "language": "julia",
   "name": "julia-1.3"
  },
  "language_info": {
   "file_extension": ".jl",
   "mimetype": "application/julia",
   "name": "julia",
   "version": "1.3.0"
  },
  "varInspector": {
   "cols": {
    "lenName": 16,
    "lenType": 16,
    "lenVar": 40
   },
   "kernels_config": {
    "python": {
     "delete_cmd_postfix": "",
     "delete_cmd_prefix": "del ",
     "library": "var_list.py",
     "varRefreshCmd": "print(var_dic_list())"
    },
    "r": {
     "delete_cmd_postfix": ") ",
     "delete_cmd_prefix": "rm(",
     "library": "var_list.r",
     "varRefreshCmd": "cat(var_dic_list()) "
    }
   },
   "types_to_exclude": [
    "module",
    "function",
    "builtin_function_or_method",
    "instance",
    "_Feature"
   ],
   "window_display": false
  }
 },
 "nbformat": 4,
 "nbformat_minor": 2
}
