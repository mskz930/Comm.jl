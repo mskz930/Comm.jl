{
 "cells": [
  {
   "cell_type": "code",
   "execution_count": 13,
   "metadata": {},
   "outputs": [
    {
     "name": "stderr",
     "output_type": "stream",
     "text": [
      "WARNING: replacing module Ofdm.\n"
     ]
    },
    {
     "data": {
      "text/plain": [
       "Main.Ofdm"
      ]
     },
     "execution_count": 13,
     "metadata": {},
     "output_type": "execute_result"
    }
   ],
   "source": [
    "include(\"../ofdm.jl\")"
   ]
  },
  {
   "cell_type": "code",
   "execution_count": 14,
   "metadata": {},
   "outputs": [],
   "source": [
    "# パラメータ設定\n",
    "nbits=1000; M=4;\n",
    "params = Ofdm.OfdmParams(64,16,12,6,(1,1), pilot_type=:comb,pilot_space=4,pilot_interval=2);\n",
    "indices = Ofdm.get_index(params);\n",
    "frame = Ofdm.gen_frame(params,indices,nblock=30);\n",
    "qam = Ofdm.QamMod(M);"
   ]
  },
  {
   "cell_type": "code",
   "execution_count": 15,
   "metadata": {},
   "outputs": [
    {
     "data": {
      "text/plain": [
       "(500,)"
      ]
     },
     "execution_count": 15,
     "metadata": {},
     "output_type": "execute_result"
    }
   ],
   "source": [
    "tx_bit = rand(nbits) .> 0.5;\n",
    "tx_symbol = Ofdm.qammod(qam,tx_bit);\n",
    "size(tx_symbol)"
   ]
  },
  {
   "cell_type": "code",
   "execution_count": 28,
   "metadata": {},
   "outputs": [
    {
     "data": {
      "text/plain": [
       "800×1 Array{Complex{Float64},2}:\n",
       "   0.35355339059327373 + 0.5303300858899106im  \n",
       "     0.257647982208032 - 0.9053315902815776im  \n",
       "    -0.732361013482172 - 0.3528622318721447im  \n",
       "   -0.2592719085064972 + 0.26205819211008297im \n",
       " -0.029329141908727596 + 1.0345960817392694im  \n",
       "   -0.5779995085757537 - 0.26753557749633644im \n",
       " -0.019379184750813072 - 0.2566504675453812im  \n",
       "    0.2340295846498012 - 0.20553107678996296im \n",
       "   0.17677669529663692 - 1.1767766952966368im  \n",
       "   0.07356930604234282 - 0.01864790675303088im \n",
       "   -0.4949476631586389 + 0.13774086781157036im \n",
       "  -0.11750552927087271 - 0.07805361163389474im \n",
       "    0.5473115993103665 - 1.0234484973690923im  \n",
       "                       ⋮                       \n",
       "  -0.26758153547950325 + 1.1811620429542407im  \n",
       "    0.4490587401662024 + 0.35289216305313703im \n",
       "  -0.35042087534901994 + 0.039891828616774816im\n",
       "  0.010699290364959535 - 0.23261181546354015im \n",
       "  -0.35355339059327373 - 0.32322330470336313im \n",
       "    0.3784736386495131 - 0.19254929062678774im \n",
       "    0.0882246355509945 - 0.6282041559828695im  \n",
       "    0.1958500536187311 - 0.3935941051419835im  \n",
       "   -0.5962708801503197 - 0.7089232516620481im  \n",
       "  -0.33440169652144275 + 0.6772529723905165im  \n",
       "    0.7113299672226143 - 0.46012336054377473im \n",
       "   -0.4237854265386579 - 0.29563060886516745im "
      ]
     },
     "execution_count": 28,
     "metadata": {},
     "output_type": "execute_result"
    }
   ],
   "source": [
    "tx_ofdmsig = Ofdm.ofdmmod(params, tx_symbol, frame, indices)"
   ]
  },
  {
   "cell_type": "code",
   "execution_count": 38,
   "metadata": {},
   "outputs": [
    {
     "name": "stdout",
     "output_type": "stream",
     "text": [
      "  0\n",
      "  0\n",
      " -1\n",
      " -1\n",
      " -1\n",
      " -1\n",
      " -1\n",
      " -1\n",
      " -1\n",
      " -1\n",
      " -1\n",
      " -1\n",
      " -1\n",
      " -1\n",
      " -1\n",
      " -1\n",
      " -1\n",
      " -1\n",
      " -1\n",
      " -1\n",
      " -1\n",
      " -1\n",
      " -1\n",
      " -1\n",
      " -1\n",
      " -1\n",
      " -1\n",
      " -1\n",
      " -1\n",
      " -1\n",
      " -1\n",
      "  0\n",
      " -1\n",
      " -1\n",
      " -1\n",
      " -1\n",
      " -1\n",
      " -1\n",
      " -1\n",
      " -1\n",
      " -1\n",
      "  0\n",
      "  0\n",
      "  0\n",
      "  0\n",
      "  0\n",
      "  0\n",
      "  0\n",
      "  0\n",
      "  0\n",
      "  0\n",
      "  0\n",
      "  0\n",
      "  0\n",
      "  0\n",
      "  0\n",
      "  0\n",
      "  0\n",
      "  0\n",
      "  0\n",
      "  0\n",
      "  0\n",
      "  0\n",
      "  0"
     ]
    }
   ],
   "source": [
    "Base.print_matrix(stdout,indices[:frame][:,10])"
   ]
  },
  {
   "cell_type": "code",
   "execution_count": 29,
   "metadata": {},
   "outputs": [
    {
     "data": {
      "text/plain": [
       "64×10×1 Array{Complex{Float64},3}:\n",
       "[:, :, 1] =\n",
       " -1.12339e-16-1.22964e-17im  …   2.77851e-17-1.19042e-17im\n",
       "  9.58142e-17+1.13055e-16im       -1.249e-16+2.92796e-17im\n",
       "     0.707107-0.707107im            0.707107-0.707107im   \n",
       "     0.707107+0.707107im            0.707107+0.707107im   \n",
       "    -0.707107-0.707107im            0.707107+0.707107im   \n",
       "     0.707107+0.707107im     …      0.707107+0.707107im   \n",
       "    -0.707107-0.707107im           -0.707107-0.707107im   \n",
       "     0.707107+0.707107im            0.707107+0.707107im   \n",
       "    -0.707107+0.707107im            0.707107+0.707107im   \n",
       "     0.707107-0.707107im            0.707107+0.707107im   \n",
       "     0.707107+0.707107im     …     -0.707107-0.707107im   \n",
       "     0.707107+0.707107im            0.707107+0.707107im   \n",
       "    -0.707107-0.707107im           -0.707107-0.707107im   \n",
       "             ⋮               ⋱                            \n",
       "    -0.707107+0.707107im        -5.55112e-17+1.66533e-16im\n",
       "    -0.707107+0.707107im        -1.66533e-16+1.11022e-16im\n",
       "    -0.707107-0.707107im                 0.0-2.22045e-16im\n",
       "    -0.707107+0.707107im     …   5.55112e-17+0.0im        \n",
       "    -0.707107-0.707107im                 0.0+1.11022e-16im\n",
       "    -0.707107+0.707107im         1.11022e-16-1.66533e-16im\n",
       "    -0.707107+0.707107im         5.55112e-17+1.66533e-16im\n",
       "    -0.707107+0.707107im        -5.55112e-17+1.66533e-16im\n",
       "    -0.707107+0.707107im     …           0.0+1.11022e-16im\n",
       "   1.2623e-16-2.03235e-18im      1.38778e-17+8.17427e-17im\n",
       "  1.31711e-18-3.2077e-16im      -8.32373e-17+1.19042e-17im\n",
       "          0.0+1.249e-16im        1.11022e-16+0.0im        "
      ]
     },
     "execution_count": 29,
     "metadata": {},
     "output_type": "execute_result"
    }
   ],
   "source": [
    "rxframe = Ofdm.ofdmdemod(params, tx_ofdmsig)"
   ]
  },
  {
   "cell_type": "code",
   "execution_count": 30,
   "metadata": {},
   "outputs": [
    {
     "data": {
      "text/plain": [
       "64×10×1×1 Array{Complex{Float64},4}:\n",
       "[:, :, 1, 1] =\n",
       " 1.0-4.90654e-16im  1.0-1.76635e-16im  …  1.0+4.31775e-16im\n",
       " 1.0-4.71028e-16im  1.0-1.57009e-16im     1.0+3.92523e-16im\n",
       " 1.0-4.51402e-16im  1.0-1.37383e-16im     1.0+3.53271e-16im\n",
       " 1.0-4.31775e-16im  1.0-1.17757e-16im     1.0+3.14018e-16im\n",
       " 1.0-4.12149e-16im  1.0-9.81308e-17im     1.0+2.74766e-16im\n",
       " 1.0-3.92523e-16im  1.0-7.85046e-17im  …  1.0+2.35514e-16im\n",
       " 1.0-3.72897e-16im  1.0-5.88785e-17im     1.0+1.96262e-16im\n",
       " 1.0-3.53271e-16im  1.0-3.92523e-17im     1.0+1.57009e-16im\n",
       " 1.0-3.33645e-16im  1.0-1.96262e-17im     1.0+1.17757e-16im\n",
       " 1.0-3.14018e-16im  1.0+0.0im             1.0+7.85046e-17im\n",
       " 1.0-2.94392e-16im  1.0+1.96262e-17im  …  1.0+3.92523e-17im\n",
       " 1.0-2.74766e-16im  1.0+3.92523e-17im     1.0+0.0im        \n",
       " 1.0-2.5514e-16im   1.0+5.88785e-17im     1.0-3.92523e-17im\n",
       "    ⋮                                  ⋱                   \n",
       " 1.0-3.33645e-16im  1.0+1.96262e-17im     NaN+NaN*im       \n",
       " 1.0-3.14018e-16im  1.0+0.0im             NaN+NaN*im       \n",
       " 1.0-2.94392e-16im  1.0-1.96262e-17im     NaN+NaN*im       \n",
       " 1.0-2.74766e-16im  1.0-3.92523e-17im  …  NaN+NaN*im       \n",
       " 1.0-2.5514e-16im   1.0-5.88785e-17im     NaN+NaN*im       \n",
       " 1.0-2.35514e-16im  1.0-7.85046e-17im     NaN+NaN*im       \n",
       " 1.0-2.15888e-16im  1.0-9.81308e-17im     NaN+NaN*im       \n",
       " 1.0-1.96262e-16im  1.0-1.17757e-16im     NaN+NaN*im       \n",
       " 1.0-1.76635e-16im  1.0-1.37383e-16im  …  NaN+NaN*im       \n",
       " 1.0-1.57009e-16im  1.0-1.57009e-16im     NaN+NaN*im       \n",
       " 1.0-1.37383e-16im  1.0-1.76635e-16im     NaN+NaN*im       \n",
       " 1.0-1.17757e-16im  1.0-1.96262e-16im     NaN+NaN*im       "
      ]
     },
     "execution_count": 30,
     "metadata": {},
     "output_type": "execute_result"
    }
   ],
   "source": [
    "Ofdm.channel_estimation(params, rxframe, frame, indices)"
   ]
  },
  {
   "cell_type": "code",
   "execution_count": null,
   "metadata": {},
   "outputs": [],
   "source": []
  }
 ],
 "metadata": {
  "kernelspec": {
   "display_name": "Julia 1.3.0",
   "language": "julia",
   "name": "julia-1.3"
  },
  "language_info": {
   "file_extension": ".jl",
   "mimetype": "application/julia",
   "name": "julia",
   "version": "1.3.0"
  },
  "varInspector": {
   "cols": {
    "lenName": 16,
    "lenType": 16,
    "lenVar": 40
   },
   "kernels_config": {
    "python": {
     "delete_cmd_postfix": "",
     "delete_cmd_prefix": "del ",
     "library": "var_list.py",
     "varRefreshCmd": "print(var_dic_list())"
    },
    "r": {
     "delete_cmd_postfix": ") ",
     "delete_cmd_prefix": "rm(",
     "library": "var_list.r",
     "varRefreshCmd": "cat(var_dic_list()) "
    }
   },
   "types_to_exclude": [
    "module",
    "function",
    "builtin_function_or_method",
    "instance",
    "_Feature"
   ],
   "window_display": false
  }
 },
 "nbformat": 4,
 "nbformat_minor": 2
}
