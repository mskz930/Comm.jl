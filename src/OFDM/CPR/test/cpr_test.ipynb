{
 "cells": [
  {
   "cell_type": "code",
   "execution_count": 347,
   "metadata": {},
   "outputs": [
    {
     "name": "stderr",
     "output_type": "stream",
     "text": [
      "WARNING: replacing module Ofdm.\n",
      "WARNING: replacing module CPR.\n",
      "WARNING: replacing module Channel.\n"
     ]
    },
    {
     "data": {
      "text/plain": [
       "Main.Channel"
      ]
     },
     "execution_count": 347,
     "metadata": {},
     "output_type": "execute_result"
    }
   ],
   "source": [
    "include(\"../../ofdm.jl\")\n",
    "include(\"../CPR.jl\")\n",
    "include(\"../../../../Channel/Channel.jl\")"
   ]
  },
  {
   "cell_type": "code",
   "execution_count": 348,
   "metadata": {},
   "outputs": [],
   "source": [
    "using Plots, BenchmarkTools, LinearAlgebra, FFTW"
   ]
  },
  {
   "cell_type": "code",
   "execution_count": 349,
   "metadata": {},
   "outputs": [
    {
     "data": {
      "text/plain": [
       "Main.Ofdm.OfdmParams(64, 0, 64, 1, 1, (58, 46), 12, 6, :comb, 4, 2, [1])"
      ]
     },
     "execution_count": 349,
     "metadata": {},
     "output_type": "execute_result"
    }
   ],
   "source": [
    "params = Ofdm.OfdmParams(64,0,12,6,(1,1), pilot_type=:comb, pilot_space=4, pilot_interval=2)"
   ]
  },
  {
   "cell_type": "code",
   "execution_count": 350,
   "metadata": {},
   "outputs": [
    {
     "data": {
      "text/plain": [
       "Dict{Symbol,Array{Int64,N} where N} with 2 entries:\n",
       "  :pilot => [10, 14, 18, 22, 26, 30, 34, 38, 42, 46, 50, 54]\n",
       "  :null  => [1, 2, 32, 62, 63, 64]"
      ]
     },
     "execution_count": 350,
     "metadata": {},
     "output_type": "execute_result"
    }
   ],
   "source": [
    "indices = Ofdm.get_index(params)"
   ]
  },
  {
   "cell_type": "code",
   "execution_count": 351,
   "metadata": {},
   "outputs": [],
   "source": [
    "frame = Ofdm.gen_frame(params, indices, 30);"
   ]
  },
  {
   "cell_type": "code",
   "execution_count": 352,
   "metadata": {},
   "outputs": [],
   "source": [
    "M = 4; nbits=1000; ndim=(1,1)\n",
    "qam = Ofdm.QamMod(M);\n",
    "pdp = [1.0, 0.0, 0.0, 0.0 , 1.0] / 2.0\n",
    "# pdp = Channel.exponent(1,20);"
   ]
  },
  {
   "cell_type": "code",
   "execution_count": 353,
   "metadata": {},
   "outputs": [],
   "source": [
    "tx_bit = rand(nbits) .> 0.5\n",
    "tx_symbol = Ofdm.qammod(qam, tx_bit)\n",
    "tx_ofdmsig = Ofdm.ofdmmod(params, frame, tx_symbol, indices);"
   ]
  },
  {
   "cell_type": "code",
   "execution_count": 354,
   "metadata": {},
   "outputs": [],
   "source": [
    "tx_frame = Ofdm.data_mapping(params, frame, tx_symbol, indices);"
   ]
  },
  {
   "cell_type": "code",
   "execution_count": 355,
   "metadata": {},
   "outputs": [],
   "source": [
    "rx_ofdmsig, cir = Channel.multipath_fading(tx_ofdmsig, ndim, pdp, 0.0, istail=false);"
   ]
  },
  {
   "cell_type": "code",
   "execution_count": 356,
   "metadata": {},
   "outputs": [],
   "source": [
    "rx_frame = Ofdm.ofdmdemod(params, rx_ofdmsig);"
   ]
  },
  {
   "cell_type": "code",
   "execution_count": 357,
   "metadata": {},
   "outputs": [],
   "source": [
    "cfr = Ofdm.cfr_ideal(cir, 64, size(rx_frame,2));"
   ]
  },
  {
   "cell_type": "code",
   "execution_count": 358,
   "metadata": {},
   "outputs": [],
   "source": [
    "rind = setdiff(1:64, indices[:null]);\n",
    "dind = setdiff(1:64, indices[:null]);"
   ]
  },
  {
   "cell_type": "code",
   "execution_count": 359,
   "metadata": {},
   "outputs": [],
   "source": [
    "current_symbol = tx_frame[:,2,1:1];\n",
    "previous_symbol = tx_frame[:,1,1:1];"
   ]
  },
  {
   "cell_type": "code",
   "execution_count": 360,
   "metadata": {},
   "outputs": [],
   "source": [
    "F = fft!(Array{ComplexF64}(I,params.nfft,params.nfft),1);"
   ]
  },
  {
   "cell_type": "code",
   "execution_count": 362,
   "metadata": {},
   "outputs": [
    {
     "name": "stdout",
     "output_type": "stream",
     "text": [
      "  61.500 μs (45 allocations: 66.84 KiB)\n"
     ]
    }
   ],
   "source": [
    "# CPR.cpr(view(rx_frame,:,2,1:1), cir, current_symbol, previous_symbol, 64,0, rind, dind,64, :freq)"
   ]
  },
  {
   "cell_type": "code",
   "execution_count": null,
   "metadata": {},
   "outputs": [],
   "source": []
  },
  {
   "cell_type": "code",
   "execution_count": 346,
   "metadata": {},
   "outputs": [
    {
     "name": "stdout",
     "output_type": "stream",
     "text": [
      "  0.000679 seconds (488 allocations: 670.203 KiB)\n"
     ]
    }
   ],
   "source": [
    "@time for j in axes(rx_frame,2)\n",
    "    if j == 1\n",
    "        current_symbol = view(tx_frame,:,j,1);\n",
    "        previous_symbol = nothing\n",
    "        CPR.cpr(view(rx_frame,:,j,1), cir, previous_symbol, current_symbol, 64,0, rind, dind, 64)\n",
    "    else\n",
    "        current_symbol = view(tx_frame,:,j,1);\n",
    "        previous_symbol = view(tx_frame,:,j-1,1);\n",
    "        CPR.cpr(view(rx_frame,:,j,1), cir, previous_symbol, current_symbol, 64,0, rind, dind, 64)\n",
    "    end\n",
    "end\n",
    "    "
   ]
  },
  {
   "cell_type": "code",
   "execution_count": 1740,
   "metadata": {},
   "outputs": [
    {
     "data": {
      "text/plain": [
       "(64, 1, 1)"
      ]
     },
     "execution_count": 1740,
     "metadata": {},
     "output_type": "execute_result"
    }
   ],
   "source": [
    "size(rx_frame[:,1:1,:])"
   ]
  },
  {
   "cell_type": "code",
   "execution_count": 1741,
   "metadata": {},
   "outputs": [
    {
     "data": {
      "text/plain": [
       "46-element Array{Complex{Float64},1}:\n",
       "  0.7071067811865478 + 0.7071067811865474im\n",
       "  0.7071067811865479 - 0.7071067811865475im\n",
       "  0.7071067811865468 + 0.7071067811865471im\n",
       " -0.7071067811865471 + 0.7071067811865471im\n",
       " -0.7071067811865466 + 0.7071067811865477im\n",
       " -0.7071067811865482 - 0.7071067811865476im\n",
       "  0.7071067811865479 - 0.7071067811865475im\n",
       " -0.7071067811865472 + 0.7071067811865474im\n",
       "   0.707106781186547 + 0.7071067811865475im\n",
       " -0.7071067811865477 + 0.7071067811865474im\n",
       "  0.7071067811865478 + 0.7071067811865477im\n",
       "  -0.707106781186547 + 0.7071067811865471im\n",
       "   0.707106781186547 - 0.7071067811865476im\n",
       "                     ⋮                     \n",
       " -0.7071067811865477 + 0.7071067811865476im\n",
       "  0.7071067811865475 + 0.7071067811865471im\n",
       " -0.7071067811865474 + 0.7071067811865478im\n",
       " -0.7071067811865474 + 0.7071067811865474im\n",
       "  0.7071067811865472 - 0.7071067811865475im\n",
       "  0.7071067811865469 - 0.7071067811865475im\n",
       " -0.7071067811865471 - 0.7071067811865475im\n",
       "  0.7071067811865478 - 0.7071067811865477im\n",
       "  0.7071067811865477 - 0.707106781186548im \n",
       "  -0.707106781186548 + 0.7071067811865471im\n",
       " -0.7071067811865469 + 0.7071067811865476im\n",
       "  0.7071067811865474 + 0.7071067811865477im"
      ]
     },
     "execution_count": 1741,
     "metadata": {},
     "output_type": "execute_result"
    }
   ],
   "source": [
    "Ofdm.equalize(params, rx_frame[:,1:1,:], cfr[:,1:1,:,:], indices[:frame][:,1:1,:])"
   ]
  },
  {
   "cell_type": "code",
   "execution_count": null,
   "metadata": {},
   "outputs": [],
   "source": []
  },
  {
   "cell_type": "markdown",
   "metadata": {},
   "source": [
    "チャネル利得の比較"
   ]
  },
  {
   "cell_type": "code",
   "execution_count": 311,
   "metadata": {},
   "outputs": [
    {
     "data": {
      "image/svg+xml": [
       "<?xml version=\"1.0\" encoding=\"utf-8\"?>\n",
       "<svg xmlns=\"http://www.w3.org/2000/svg\" xmlns:xlink=\"http://www.w3.org/1999/xlink\" width=\"600\" height=\"400\" viewBox=\"0 0 2400 1600\">\n",
       "<defs>\n",
       "  <clipPath id=\"clip9900\">\n",
       "    <rect x=\"0\" y=\"0\" width=\"2400\" height=\"1600\"/>\n",
       "  </clipPath>\n",
       "</defs>\n",
       "<path clip-path=\"url(#clip9900)\" d=\"\n",
       "M0 1600 L2400 1600 L2400 0 L0 0  Z\n",
       "  \" fill=\"#ffffff\" fill-rule=\"evenodd\" fill-opacity=\"1\"/>\n",
       "<defs>\n",
       "  <clipPath id=\"clip9901\">\n",
       "    <rect x=\"480\" y=\"0\" width=\"1681\" height=\"1600\"/>\n",
       "  </clipPath>\n",
       "</defs>\n",
       "<path clip-path=\"url(#clip9900)\" d=\"\n",
       "M153.898 1487.47 L2352.76 1487.47 L2352.76 47.2441 L153.898 47.2441  Z\n",
       "  \" fill=\"#ffffff\" fill-rule=\"evenodd\" fill-opacity=\"1\"/>\n",
       "<defs>\n",
       "  <clipPath id=\"clip9902\">\n",
       "    <rect x=\"153\" y=\"47\" width=\"2200\" height=\"1441\"/>\n",
       "  </clipPath>\n",
       "</defs>\n",
       "<polyline clip-path=\"url(#clip9902)\" style=\"stroke:#000000; stroke-width:1.6; stroke-opacity:0.1; fill:none\" points=\"\n",
       "  183.203,1487.47 183.203,47.2441 \n",
       "  \"/>\n",
       "<polyline clip-path=\"url(#clip9902)\" style=\"stroke:#000000; stroke-width:1.6; stroke-opacity:0.1; fill:none\" points=\"\n",
       "  512.472,1487.47 512.472,47.2441 \n",
       "  \"/>\n",
       "<polyline clip-path=\"url(#clip9902)\" style=\"stroke:#000000; stroke-width:1.6; stroke-opacity:0.1; fill:none\" points=\"\n",
       "  841.741,1487.47 841.741,47.2441 \n",
       "  \"/>\n",
       "<polyline clip-path=\"url(#clip9902)\" style=\"stroke:#000000; stroke-width:1.6; stroke-opacity:0.1; fill:none\" points=\"\n",
       "  1171.01,1487.47 1171.01,47.2441 \n",
       "  \"/>\n",
       "<polyline clip-path=\"url(#clip9902)\" style=\"stroke:#000000; stroke-width:1.6; stroke-opacity:0.1; fill:none\" points=\"\n",
       "  1500.28,1487.47 1500.28,47.2441 \n",
       "  \"/>\n",
       "<polyline clip-path=\"url(#clip9902)\" style=\"stroke:#000000; stroke-width:1.6; stroke-opacity:0.1; fill:none\" points=\"\n",
       "  1829.55,1487.47 1829.55,47.2441 \n",
       "  \"/>\n",
       "<polyline clip-path=\"url(#clip9902)\" style=\"stroke:#000000; stroke-width:1.6; stroke-opacity:0.1; fill:none\" points=\"\n",
       "  2158.82,1487.47 2158.82,47.2441 \n",
       "  \"/>\n",
       "<polyline clip-path=\"url(#clip9902)\" style=\"stroke:#000000; stroke-width:1.6; stroke-opacity:0.1; fill:none\" points=\"\n",
       "  153.898,1177.25 2352.76,1177.25 \n",
       "  \"/>\n",
       "<polyline clip-path=\"url(#clip9902)\" style=\"stroke:#000000; stroke-width:1.6; stroke-opacity:0.1; fill:none\" points=\"\n",
       "  153.898,863.311 2352.76,863.311 \n",
       "  \"/>\n",
       "<polyline clip-path=\"url(#clip9902)\" style=\"stroke:#000000; stroke-width:1.6; stroke-opacity:0.1; fill:none\" points=\"\n",
       "  153.898,549.371 2352.76,549.371 \n",
       "  \"/>\n",
       "<polyline clip-path=\"url(#clip9902)\" style=\"stroke:#000000; stroke-width:1.6; stroke-opacity:0.1; fill:none\" points=\"\n",
       "  153.898,235.431 2352.76,235.431 \n",
       "  \"/>\n",
       "<polyline clip-path=\"url(#clip9900)\" style=\"stroke:#000000; stroke-width:3.2; stroke-opacity:1; fill:none\" points=\"\n",
       "  153.898,1487.47 2352.76,1487.47 \n",
       "  \"/>\n",
       "<polyline clip-path=\"url(#clip9900)\" style=\"stroke:#000000; stroke-width:3.2; stroke-opacity:1; fill:none\" points=\"\n",
       "  153.898,1487.47 153.898,47.2441 \n",
       "  \"/>\n",
       "<polyline clip-path=\"url(#clip9900)\" style=\"stroke:#000000; stroke-width:3.2; stroke-opacity:1; fill:none\" points=\"\n",
       "  183.203,1487.47 183.203,1465.87 \n",
       "  \"/>\n",
       "<polyline clip-path=\"url(#clip9900)\" style=\"stroke:#000000; stroke-width:3.2; stroke-opacity:1; fill:none\" points=\"\n",
       "  512.472,1487.47 512.472,1465.87 \n",
       "  \"/>\n",
       "<polyline clip-path=\"url(#clip9900)\" style=\"stroke:#000000; stroke-width:3.2; stroke-opacity:1; fill:none\" points=\"\n",
       "  841.741,1487.47 841.741,1465.87 \n",
       "  \"/>\n",
       "<polyline clip-path=\"url(#clip9900)\" style=\"stroke:#000000; stroke-width:3.2; stroke-opacity:1; fill:none\" points=\"\n",
       "  1171.01,1487.47 1171.01,1465.87 \n",
       "  \"/>\n",
       "<polyline clip-path=\"url(#clip9900)\" style=\"stroke:#000000; stroke-width:3.2; stroke-opacity:1; fill:none\" points=\"\n",
       "  1500.28,1487.47 1500.28,1465.87 \n",
       "  \"/>\n",
       "<polyline clip-path=\"url(#clip9900)\" style=\"stroke:#000000; stroke-width:3.2; stroke-opacity:1; fill:none\" points=\"\n",
       "  1829.55,1487.47 1829.55,1465.87 \n",
       "  \"/>\n",
       "<polyline clip-path=\"url(#clip9900)\" style=\"stroke:#000000; stroke-width:3.2; stroke-opacity:1; fill:none\" points=\"\n",
       "  2158.82,1487.47 2158.82,1465.87 \n",
       "  \"/>\n",
       "<polyline clip-path=\"url(#clip9900)\" style=\"stroke:#000000; stroke-width:3.2; stroke-opacity:1; fill:none\" points=\"\n",
       "  153.898,1177.25 186.881,1177.25 \n",
       "  \"/>\n",
       "<polyline clip-path=\"url(#clip9900)\" style=\"stroke:#000000; stroke-width:3.2; stroke-opacity:1; fill:none\" points=\"\n",
       "  153.898,863.311 186.881,863.311 \n",
       "  \"/>\n",
       "<polyline clip-path=\"url(#clip9900)\" style=\"stroke:#000000; stroke-width:3.2; stroke-opacity:1; fill:none\" points=\"\n",
       "  153.898,549.371 186.881,549.371 \n",
       "  \"/>\n",
       "<polyline clip-path=\"url(#clip9900)\" style=\"stroke:#000000; stroke-width:3.2; stroke-opacity:1; fill:none\" points=\"\n",
       "  153.898,235.431 186.881,235.431 \n",
       "  \"/>\n",
       "<g clip-path=\"url(#clip9900)\">\n",
       "<text style=\"fill:#000000; fill-opacity:1; font-family:Arial,Helvetica Neue,Helvetica,sans-serif; font-size:48px; text-anchor:middle;\" transform=\"rotate(0, 183.203, 1541.47)\" x=\"183.203\" y=\"1541.47\">0</text>\n",
       "</g>\n",
       "<g clip-path=\"url(#clip9900)\">\n",
       "<text style=\"fill:#000000; fill-opacity:1; font-family:Arial,Helvetica Neue,Helvetica,sans-serif; font-size:48px; text-anchor:middle;\" transform=\"rotate(0, 512.472, 1541.47)\" x=\"512.472\" y=\"1541.47\">10</text>\n",
       "</g>\n",
       "<g clip-path=\"url(#clip9900)\">\n",
       "<text style=\"fill:#000000; fill-opacity:1; font-family:Arial,Helvetica Neue,Helvetica,sans-serif; font-size:48px; text-anchor:middle;\" transform=\"rotate(0, 841.741, 1541.47)\" x=\"841.741\" y=\"1541.47\">20</text>\n",
       "</g>\n",
       "<g clip-path=\"url(#clip9900)\">\n",
       "<text style=\"fill:#000000; fill-opacity:1; font-family:Arial,Helvetica Neue,Helvetica,sans-serif; font-size:48px; text-anchor:middle;\" transform=\"rotate(0, 1171.01, 1541.47)\" x=\"1171.01\" y=\"1541.47\">30</text>\n",
       "</g>\n",
       "<g clip-path=\"url(#clip9900)\">\n",
       "<text style=\"fill:#000000; fill-opacity:1; font-family:Arial,Helvetica Neue,Helvetica,sans-serif; font-size:48px; text-anchor:middle;\" transform=\"rotate(0, 1500.28, 1541.47)\" x=\"1500.28\" y=\"1541.47\">40</text>\n",
       "</g>\n",
       "<g clip-path=\"url(#clip9900)\">\n",
       "<text style=\"fill:#000000; fill-opacity:1; font-family:Arial,Helvetica Neue,Helvetica,sans-serif; font-size:48px; text-anchor:middle;\" transform=\"rotate(0, 1829.55, 1541.47)\" x=\"1829.55\" y=\"1541.47\">50</text>\n",
       "</g>\n",
       "<g clip-path=\"url(#clip9900)\">\n",
       "<text style=\"fill:#000000; fill-opacity:1; font-family:Arial,Helvetica Neue,Helvetica,sans-serif; font-size:48px; text-anchor:middle;\" transform=\"rotate(0, 2158.82, 1541.47)\" x=\"2158.82\" y=\"1541.47\">60</text>\n",
       "</g>\n",
       "<g clip-path=\"url(#clip9900)\">\n",
       "<text style=\"fill:#000000; fill-opacity:1; font-family:Arial,Helvetica Neue,Helvetica,sans-serif; font-size:48px; text-anchor:end;\" transform=\"rotate(0, 129.898, 1194.75)\" x=\"129.898\" y=\"1194.75\">0.2</text>\n",
       "</g>\n",
       "<g clip-path=\"url(#clip9900)\">\n",
       "<text style=\"fill:#000000; fill-opacity:1; font-family:Arial,Helvetica Neue,Helvetica,sans-serif; font-size:48px; text-anchor:end;\" transform=\"rotate(0, 129.898, 880.811)\" x=\"129.898\" y=\"880.811\">0.4</text>\n",
       "</g>\n",
       "<g clip-path=\"url(#clip9900)\">\n",
       "<text style=\"fill:#000000; fill-opacity:1; font-family:Arial,Helvetica Neue,Helvetica,sans-serif; font-size:48px; text-anchor:end;\" transform=\"rotate(0, 129.898, 566.871)\" x=\"129.898\" y=\"566.871\">0.6</text>\n",
       "</g>\n",
       "<g clip-path=\"url(#clip9900)\">\n",
       "<text style=\"fill:#000000; fill-opacity:1; font-family:Arial,Helvetica Neue,Helvetica,sans-serif; font-size:48px; text-anchor:end;\" transform=\"rotate(0, 129.898, 252.931)\" x=\"129.898\" y=\"252.931\">0.8</text>\n",
       "</g>\n",
       "<polyline clip-path=\"url(#clip9902)\" style=\"stroke:#009af9; stroke-width:3.2; stroke-opacity:1; fill:none\" points=\"\n",
       "  216.13,1430.31 249.057,1446.71 281.984,110.814 314.91,88.0053 347.837,101.309 380.764,149.691 413.691,229.207 446.618,332.645 479.545,448.781 512.472,561.307 \n",
       "  545.399,648.449 578.326,686.999 611.253,664.218 644.179,587.846 677.106,479.731 710.033,362.729 742.96,254.649 775.887,167.948 808.814,110.814 841.741,88.0053 \n",
       "  874.668,101.309 907.595,149.691 940.521,229.207 973.448,332.645 1006.38,448.781 1039.3,561.307 1072.23,648.449 1105.16,686.999 1138.08,664.218 1171.01,587.846 \n",
       "  1203.94,479.731 1236.86,1439.58 1269.79,254.649 1302.72,167.948 1335.64,110.814 1368.57,88.0053 1401.5,101.309 1434.42,149.691 1467.35,229.207 1500.28,332.645 \n",
       "  1533.21,448.781 1566.13,561.307 1599.06,648.449 1631.99,686.999 1664.91,664.218 1697.84,587.846 1730.77,479.731 1763.69,362.729 1796.62,254.649 1829.55,167.948 \n",
       "  1862.47,110.814 1895.4,88.0053 1928.33,101.309 1961.26,149.691 1994.18,229.207 2027.11,332.645 2060.04,448.781 2092.96,561.307 2125.89,648.449 2158.82,686.999 \n",
       "  2191.74,664.218 2224.67,1376.28 2257.6,1394.22 2290.52,1412.45 \n",
       "  \"/>\n",
       "<polyline clip-path=\"url(#clip9902)\" style=\"stroke:#e26f46; stroke-width:3.2; stroke-opacity:1; fill:none\" points=\"\n",
       "  216.13,254.649 249.057,167.948 281.984,110.814 314.91,88.0053 347.837,101.309 380.764,149.691 413.691,229.207 446.618,332.645 479.545,448.781 512.472,561.307 \n",
       "  545.399,648.449 578.326,686.999 611.253,664.218 644.179,587.846 677.106,479.731 710.033,362.729 742.96,254.649 775.887,167.948 808.814,110.814 841.741,88.0053 \n",
       "  874.668,101.309 907.595,149.691 940.521,229.207 973.448,332.645 1006.38,448.781 1039.3,561.307 1072.23,648.449 1105.16,686.999 1138.08,664.218 1171.01,587.846 \n",
       "  1203.94,479.731 1236.86,362.729 1269.79,254.649 1302.72,167.948 1335.64,110.814 1368.57,88.0053 1401.5,101.309 1434.42,149.691 1467.35,229.207 1500.28,332.645 \n",
       "  1533.21,448.781 1566.13,561.307 1599.06,648.449 1631.99,686.999 1664.91,664.218 1697.84,587.846 1730.77,479.731 1763.69,362.729 1796.62,254.649 1829.55,167.948 \n",
       "  1862.47,110.814 1895.4,88.0053 1928.33,101.309 1961.26,149.691 1994.18,229.207 2027.11,332.645 2060.04,448.781 2092.96,561.307 2125.89,648.449 2158.82,686.999 \n",
       "  2191.74,664.218 2224.67,587.846 2257.6,479.731 2290.52,362.729 \n",
       "  \"/>\n",
       "<path clip-path=\"url(#clip9900)\" d=\"\n",
       "M1989.93 312.204 L2280.76 312.204 L2280.76 130.764 L1989.93 130.764  Z\n",
       "  \" fill=\"#ffffff\" fill-rule=\"evenodd\" fill-opacity=\"1\"/>\n",
       "<polyline clip-path=\"url(#clip9900)\" style=\"stroke:#000000; stroke-width:3.2; stroke-opacity:1; fill:none\" points=\"\n",
       "  1989.93,312.204 2280.76,312.204 2280.76,130.764 1989.93,130.764 1989.93,312.204 \n",
       "  \"/>\n",
       "<polyline clip-path=\"url(#clip9900)\" style=\"stroke:#009af9; stroke-width:3.2; stroke-opacity:1; fill:none\" points=\"\n",
       "  2013.93,191.244 2157.93,191.244 \n",
       "  \"/>\n",
       "<g clip-path=\"url(#clip9900)\">\n",
       "<text style=\"fill:#000000; fill-opacity:1; font-family:Arial,Helvetica Neue,Helvetica,sans-serif; font-size:48px; text-anchor:start;\" transform=\"rotate(0, 2181.93, 208.744)\" x=\"2181.93\" y=\"208.744\">y1</text>\n",
       "</g>\n",
       "<polyline clip-path=\"url(#clip9900)\" style=\"stroke:#e26f46; stroke-width:3.2; stroke-opacity:1; fill:none\" points=\"\n",
       "  2013.93,251.724 2157.93,251.724 \n",
       "  \"/>\n",
       "<g clip-path=\"url(#clip9900)\">\n",
       "<text style=\"fill:#000000; fill-opacity:1; font-family:Arial,Helvetica Neue,Helvetica,sans-serif; font-size:48px; text-anchor:start;\" transform=\"rotate(0, 2181.93, 269.224)\" x=\"2181.93\" y=\"269.224\">y2</text>\n",
       "</g>\n",
       "</svg>\n"
      ]
     },
     "execution_count": 311,
     "metadata": {},
     "output_type": "execute_result"
    }
   ],
   "source": [
    "plot(abs.(rx_frame[:,2,1]))\n",
    "plot!(abs.(cfr[:,1,1,1]))"
   ]
  },
  {
   "cell_type": "code",
   "execution_count": null,
   "metadata": {},
   "outputs": [],
   "source": []
  },
  {
   "cell_type": "code",
   "execution_count": null,
   "metadata": {},
   "outputs": [],
   "source": []
  }
 ],
 "metadata": {
  "kernelspec": {
   "display_name": "Julia 1.2.0",
   "language": "julia",
   "name": "julia-1.2"
  },
  "language_info": {
   "file_extension": ".jl",
   "mimetype": "application/julia",
   "name": "julia",
   "version": "1.2.0"
  },
  "varInspector": {
   "cols": {
    "lenName": 16,
    "lenType": 16,
    "lenVar": 40
   },
   "kernels_config": {
    "python": {
     "delete_cmd_postfix": "",
     "delete_cmd_prefix": "del ",
     "library": "var_list.py",
     "varRefreshCmd": "print(var_dic_list())"
    },
    "r": {
     "delete_cmd_postfix": ") ",
     "delete_cmd_prefix": "rm(",
     "library": "var_list.r",
     "varRefreshCmd": "cat(var_dic_list()) "
    }
   },
   "types_to_exclude": [
    "module",
    "function",
    "builtin_function_or_method",
    "instance",
    "_Feature"
   ],
   "window_display": false
  }
 },
 "nbformat": 4,
 "nbformat_minor": 2
}
